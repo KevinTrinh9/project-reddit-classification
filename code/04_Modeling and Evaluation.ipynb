{
 "cells": [
  {
   "cell_type": "markdown",
   "id": "83acee08-1e0b-4447-a0c3-77509af447aa",
   "metadata": {},
   "source": [
    "# Project 3 - Reddit Classification: Powerlifting vs. Bodybuilding"
   ]
  },
  {
   "cell_type": "markdown",
   "id": "7b1073ca-cfe2-40f6-9e48-a2202957648c",
   "metadata": {},
   "source": [
    "# Modeling and Evaluation"
   ]
  },
  {
   "cell_type": "code",
   "execution_count": 1,
   "id": "28408395-d287-4af1-90ed-73effe461b00",
   "metadata": {},
   "outputs": [],
   "source": [
    "import pandas as pd\n",
    "import matplotlib.pyplot as plt\n",
    "import numpy as np\n",
    "\n",
    "from sklearn.feature_extraction.text import CountVectorizer, TfidfVectorizer\n",
    "from sklearn.feature_extraction import text\n",
    "from sklearn.model_selection import train_test_split, GridSearchCV\n",
    "from sklearn.linear_model import LogisticRegression\n",
    "from sklearn.pipeline import Pipeline\n",
    "from sklearn.metrics import confusion_matrix, ConfusionMatrixDisplay, classification_report\n",
    "from sklearn.naive_bayes import MultinomialNB\n",
    "from sklearn.neighbors import KNeighborsClassifier\n",
    "from sklearn.preprocessing import StandardScaler\n",
    "from sklearn.ensemble import RandomForestClassifier\n",
    "from sklearn.svm import SVC\n",
    "\n",
    "from sklearn.exceptions import ConvergenceWarning\n",
    "import warnings"
   ]
  },
  {
   "cell_type": "code",
   "execution_count": 2,
   "id": "92351faf-d3a2-47d5-8e32-ece312e619bc",
   "metadata": {},
   "outputs": [],
   "source": [
    "warnings.filterwarnings(\"ignore\", category=ConvergenceWarning)"
   ]
  },
  {
   "cell_type": "code",
   "execution_count": 3,
   "id": "9cafc2d5-df91-489f-84ea-a27114f79120",
   "metadata": {},
   "outputs": [],
   "source": [
    "data = pd.read_csv('data/subreddit_all_text.csv')"
   ]
  },
  {
   "cell_type": "code",
   "execution_count": 4,
   "id": "3f061a93-66a8-47cb-9353-519a1743482b",
   "metadata": {},
   "outputs": [
    {
     "data": {
      "text/html": [
       "<div>\n",
       "<style scoped>\n",
       "    .dataframe tbody tr th:only-of-type {\n",
       "        vertical-align: middle;\n",
       "    }\n",
       "\n",
       "    .dataframe tbody tr th {\n",
       "        vertical-align: top;\n",
       "    }\n",
       "\n",
       "    .dataframe thead th {\n",
       "        text-align: right;\n",
       "    }\n",
       "</style>\n",
       "<table border=\"1\" class=\"dataframe\">\n",
       "  <thead>\n",
       "    <tr style=\"text-align: right;\">\n",
       "      <th></th>\n",
       "      <th>subreddit</th>\n",
       "      <th>all_text</th>\n",
       "    </tr>\n",
       "  </thead>\n",
       "  <tbody>\n",
       "    <tr>\n",
       "      <th>0</th>\n",
       "      <td>1</td>\n",
       "      <td>My 64 yr old mom breaking RPS 60-64 age/198 lb...</td>\n",
       "    </tr>\n",
       "    <tr>\n",
       "      <th>1</th>\n",
       "      <td>1</td>\n",
       "      <td>Lifter with Cerebral Palsy. This is what power...</td>\n",
       "    </tr>\n",
       "    <tr>\n",
       "      <th>2</th>\n",
       "      <td>1</td>\n",
       "      <td>Hafthor Bjornsson deadlifts 501kg</td>\n",
       "    </tr>\n",
       "    <tr>\n",
       "      <th>3</th>\n",
       "      <td>1</td>\n",
       "      <td>Finally hit 400 lbs in a meet!! 402.3 lbs, 48 ...</td>\n",
       "    </tr>\n",
       "    <tr>\n",
       "      <th>4</th>\n",
       "      <td>1</td>\n",
       "      <td>A true power lifter</td>\n",
       "    </tr>\n",
       "    <tr>\n",
       "      <th>...</th>\n",
       "      <td>...</td>\n",
       "      <td>...</td>\n",
       "    </tr>\n",
       "    <tr>\n",
       "      <th>1985</th>\n",
       "      <td>2</td>\n",
       "      <td>Super happy with a gold and silver at my first...</td>\n",
       "    </tr>\n",
       "    <tr>\n",
       "      <th>1986</th>\n",
       "      <td>2</td>\n",
       "      <td>Light weight!</td>\n",
       "    </tr>\n",
       "    <tr>\n",
       "      <th>1987</th>\n",
       "      <td>2</td>\n",
       "      <td>Seen a lot of freaks on the sub latley, so her...</td>\n",
       "    </tr>\n",
       "    <tr>\n",
       "      <th>1988</th>\n",
       "      <td>2</td>\n",
       "      <td>Classic Physique Athlete Corey Becker, beginni...</td>\n",
       "    </tr>\n",
       "    <tr>\n",
       "      <th>1989</th>\n",
       "      <td>2</td>\n",
       "      <td>Ahhhh Shit. Mustache back, Courtney back. CBum...</td>\n",
       "    </tr>\n",
       "  </tbody>\n",
       "</table>\n",
       "<p>1990 rows × 2 columns</p>\n",
       "</div>"
      ],
      "text/plain": [
       "      subreddit                                           all_text\n",
       "0             1  My 64 yr old mom breaking RPS 60-64 age/198 lb...\n",
       "1             1  Lifter with Cerebral Palsy. This is what power...\n",
       "2             1                 Hafthor Bjornsson deadlifts 501kg \n",
       "3             1  Finally hit 400 lbs in a meet!! 402.3 lbs, 48 ...\n",
       "4             1                               A true power lifter \n",
       "...         ...                                                ...\n",
       "1985          2  Super happy with a gold and silver at my first...\n",
       "1986          2                                     Light weight! \n",
       "1987          2  Seen a lot of freaks on the sub latley, so her...\n",
       "1988          2  Classic Physique Athlete Corey Becker, beginni...\n",
       "1989          2  Ahhhh Shit. Mustache back, Courtney back. CBum...\n",
       "\n",
       "[1990 rows x 2 columns]"
      ]
     },
     "execution_count": 4,
     "metadata": {},
     "output_type": "execute_result"
    }
   ],
   "source": [
    "data"
   ]
  },
  {
   "cell_type": "code",
   "execution_count": 5,
   "id": "f24b5b54-36c6-4eb2-83e5-7aba0b7e1558",
   "metadata": {},
   "outputs": [
    {
     "name": "stdout",
     "output_type": "stream",
     "text": [
      "<class 'pandas.core.frame.DataFrame'>\n",
      "RangeIndex: 1990 entries, 0 to 1989\n",
      "Data columns (total 2 columns):\n",
      " #   Column     Non-Null Count  Dtype \n",
      "---  ------     --------------  ----- \n",
      " 0   subreddit  1990 non-null   int64 \n",
      " 1   all_text   1990 non-null   object\n",
      "dtypes: int64(1), object(1)\n",
      "memory usage: 31.2+ KB\n"
     ]
    }
   ],
   "source": [
    "data.info()"
   ]
  },
  {
   "cell_type": "markdown",
   "id": "f85a2010-c58d-4916-a2f7-56e468b1dc1c",
   "metadata": {},
   "source": [
    "## LogisticRegression with CountVectorizer"
   ]
  },
  {
   "cell_type": "code",
   "execution_count": 6,
   "id": "b5a8b66e-f68d-41c8-83db-5d1db752a450",
   "metadata": {},
   "outputs": [],
   "source": [
    "X = data['all_text']\n",
    "y = data['subreddit']"
   ]
  },
  {
   "cell_type": "code",
   "execution_count": 7,
   "id": "2a7c742e-4610-450c-84d4-9c0c9e3283d7",
   "metadata": {},
   "outputs": [],
   "source": [
    "X_train, X_test, y_train, y_test = train_test_split(X, y, test_size=0.2, random_state=50, stratify=y)"
   ]
  },
  {
   "cell_type": "code",
   "execution_count": 8,
   "id": "42e16f3c-e756-4d5d-8732-336ceabe721d",
   "metadata": {},
   "outputs": [],
   "source": [
    "stop_words = list(text.ENGLISH_STOP_WORDS.union(['https', 'com', 'nbsp', 'www', 'just', 've', 'like', 'really', 'new', 'good', 'did']))"
   ]
  },
  {
   "cell_type": "code",
   "execution_count": 9,
   "id": "238ee136-efad-4dd6-ac6f-8d00191d1dac",
   "metadata": {},
   "outputs": [
    {
     "data": {
      "text/html": [
       "<style>#sk-container-id-1 {color: black;background-color: white;}#sk-container-id-1 pre{padding: 0;}#sk-container-id-1 div.sk-toggleable {background-color: white;}#sk-container-id-1 label.sk-toggleable__label {cursor: pointer;display: block;width: 100%;margin-bottom: 0;padding: 0.3em;box-sizing: border-box;text-align: center;}#sk-container-id-1 label.sk-toggleable__label-arrow:before {content: \"▸\";float: left;margin-right: 0.25em;color: #696969;}#sk-container-id-1 label.sk-toggleable__label-arrow:hover:before {color: black;}#sk-container-id-1 div.sk-estimator:hover label.sk-toggleable__label-arrow:before {color: black;}#sk-container-id-1 div.sk-toggleable__content {max-height: 0;max-width: 0;overflow: hidden;text-align: left;background-color: #f0f8ff;}#sk-container-id-1 div.sk-toggleable__content pre {margin: 0.2em;color: black;border-radius: 0.25em;background-color: #f0f8ff;}#sk-container-id-1 input.sk-toggleable__control:checked~div.sk-toggleable__content {max-height: 200px;max-width: 100%;overflow: auto;}#sk-container-id-1 input.sk-toggleable__control:checked~label.sk-toggleable__label-arrow:before {content: \"▾\";}#sk-container-id-1 div.sk-estimator input.sk-toggleable__control:checked~label.sk-toggleable__label {background-color: #d4ebff;}#sk-container-id-1 div.sk-label input.sk-toggleable__control:checked~label.sk-toggleable__label {background-color: #d4ebff;}#sk-container-id-1 input.sk-hidden--visually {border: 0;clip: rect(1px 1px 1px 1px);clip: rect(1px, 1px, 1px, 1px);height: 1px;margin: -1px;overflow: hidden;padding: 0;position: absolute;width: 1px;}#sk-container-id-1 div.sk-estimator {font-family: monospace;background-color: #f0f8ff;border: 1px dotted black;border-radius: 0.25em;box-sizing: border-box;margin-bottom: 0.5em;}#sk-container-id-1 div.sk-estimator:hover {background-color: #d4ebff;}#sk-container-id-1 div.sk-parallel-item::after {content: \"\";width: 100%;border-bottom: 1px solid gray;flex-grow: 1;}#sk-container-id-1 div.sk-label:hover label.sk-toggleable__label {background-color: #d4ebff;}#sk-container-id-1 div.sk-serial::before {content: \"\";position: absolute;border-left: 1px solid gray;box-sizing: border-box;top: 0;bottom: 0;left: 50%;z-index: 0;}#sk-container-id-1 div.sk-serial {display: flex;flex-direction: column;align-items: center;background-color: white;padding-right: 0.2em;padding-left: 0.2em;position: relative;}#sk-container-id-1 div.sk-item {position: relative;z-index: 1;}#sk-container-id-1 div.sk-parallel {display: flex;align-items: stretch;justify-content: center;background-color: white;position: relative;}#sk-container-id-1 div.sk-item::before, #sk-container-id-1 div.sk-parallel-item::before {content: \"\";position: absolute;border-left: 1px solid gray;box-sizing: border-box;top: 0;bottom: 0;left: 50%;z-index: -1;}#sk-container-id-1 div.sk-parallel-item {display: flex;flex-direction: column;z-index: 1;position: relative;background-color: white;}#sk-container-id-1 div.sk-parallel-item:first-child::after {align-self: flex-end;width: 50%;}#sk-container-id-1 div.sk-parallel-item:last-child::after {align-self: flex-start;width: 50%;}#sk-container-id-1 div.sk-parallel-item:only-child::after {width: 0;}#sk-container-id-1 div.sk-dashed-wrapped {border: 1px dashed gray;margin: 0 0.4em 0.5em 0.4em;box-sizing: border-box;padding-bottom: 0.4em;background-color: white;}#sk-container-id-1 div.sk-label label {font-family: monospace;font-weight: bold;display: inline-block;line-height: 1.2em;}#sk-container-id-1 div.sk-label-container {text-align: center;}#sk-container-id-1 div.sk-container {/* jupyter's `normalize.less` sets `[hidden] { display: none; }` but bootstrap.min.css set `[hidden] { display: none !important; }` so we also need the `!important` here to be able to override the default hidden behavior on the sphinx rendered scikit-learn.org. See: https://github.com/scikit-learn/scikit-learn/issues/21755 */display: inline-block !important;position: relative;}#sk-container-id-1 div.sk-text-repr-fallback {display: none;}</style><div id=\"sk-container-id-1\" class=\"sk-top-container\"><div class=\"sk-text-repr-fallback\"><pre>Pipeline(steps=[(&#x27;cvect&#x27;,\n",
       "                 CountVectorizer(stop_words=[&#x27;further&#x27;, &#x27;move&#x27;, &#x27;many&#x27;, &#x27;he&#x27;,\n",
       "                                             &#x27;enough&#x27;, &#x27;at&#x27;, &#x27;even&#x27;, &#x27;latterly&#x27;,\n",
       "                                             &#x27;once&#x27;, &#x27;first&#x27;, &#x27;becomes&#x27;,\n",
       "                                             &#x27;others&#x27;, &#x27;nbsp&#x27;, &#x27;whether&#x27;,\n",
       "                                             &#x27;much&#x27;, &#x27;really&#x27;, &#x27;often&#x27;,\n",
       "                                             &#x27;everything&#x27;, &#x27;below&#x27;, &#x27;noone&#x27;,\n",
       "                                             &#x27;sixty&#x27;, &#x27;former&#x27;, &#x27;whose&#x27;, &#x27;but&#x27;,\n",
       "                                             &#x27;per&#x27;, &#x27;thereupon&#x27;, &#x27;detail&#x27;,\n",
       "                                             &#x27;most&#x27;, &#x27;please&#x27;, &#x27;beforehand&#x27;, ...])),\n",
       "                (&#x27;logreg&#x27;, LogisticRegression())])</pre><b>In a Jupyter environment, please rerun this cell to show the HTML representation or trust the notebook. <br />On GitHub, the HTML representation is unable to render, please try loading this page with nbviewer.org.</b></div><div class=\"sk-container\" hidden><div class=\"sk-item sk-dashed-wrapped\"><div class=\"sk-label-container\"><div class=\"sk-label sk-toggleable\"><input class=\"sk-toggleable__control sk-hidden--visually\" id=\"sk-estimator-id-1\" type=\"checkbox\" ><label for=\"sk-estimator-id-1\" class=\"sk-toggleable__label sk-toggleable__label-arrow\">Pipeline</label><div class=\"sk-toggleable__content\"><pre>Pipeline(steps=[(&#x27;cvect&#x27;,\n",
       "                 CountVectorizer(stop_words=[&#x27;further&#x27;, &#x27;move&#x27;, &#x27;many&#x27;, &#x27;he&#x27;,\n",
       "                                             &#x27;enough&#x27;, &#x27;at&#x27;, &#x27;even&#x27;, &#x27;latterly&#x27;,\n",
       "                                             &#x27;once&#x27;, &#x27;first&#x27;, &#x27;becomes&#x27;,\n",
       "                                             &#x27;others&#x27;, &#x27;nbsp&#x27;, &#x27;whether&#x27;,\n",
       "                                             &#x27;much&#x27;, &#x27;really&#x27;, &#x27;often&#x27;,\n",
       "                                             &#x27;everything&#x27;, &#x27;below&#x27;, &#x27;noone&#x27;,\n",
       "                                             &#x27;sixty&#x27;, &#x27;former&#x27;, &#x27;whose&#x27;, &#x27;but&#x27;,\n",
       "                                             &#x27;per&#x27;, &#x27;thereupon&#x27;, &#x27;detail&#x27;,\n",
       "                                             &#x27;most&#x27;, &#x27;please&#x27;, &#x27;beforehand&#x27;, ...])),\n",
       "                (&#x27;logreg&#x27;, LogisticRegression())])</pre></div></div></div><div class=\"sk-serial\"><div class=\"sk-item\"><div class=\"sk-estimator sk-toggleable\"><input class=\"sk-toggleable__control sk-hidden--visually\" id=\"sk-estimator-id-2\" type=\"checkbox\" ><label for=\"sk-estimator-id-2\" class=\"sk-toggleable__label sk-toggleable__label-arrow\">CountVectorizer</label><div class=\"sk-toggleable__content\"><pre>CountVectorizer(stop_words=[&#x27;further&#x27;, &#x27;move&#x27;, &#x27;many&#x27;, &#x27;he&#x27;, &#x27;enough&#x27;, &#x27;at&#x27;,\n",
       "                            &#x27;even&#x27;, &#x27;latterly&#x27;, &#x27;once&#x27;, &#x27;first&#x27;, &#x27;becomes&#x27;,\n",
       "                            &#x27;others&#x27;, &#x27;nbsp&#x27;, &#x27;whether&#x27;, &#x27;much&#x27;, &#x27;really&#x27;,\n",
       "                            &#x27;often&#x27;, &#x27;everything&#x27;, &#x27;below&#x27;, &#x27;noone&#x27;, &#x27;sixty&#x27;,\n",
       "                            &#x27;former&#x27;, &#x27;whose&#x27;, &#x27;but&#x27;, &#x27;per&#x27;, &#x27;thereupon&#x27;,\n",
       "                            &#x27;detail&#x27;, &#x27;most&#x27;, &#x27;please&#x27;, &#x27;beforehand&#x27;, ...])</pre></div></div></div><div class=\"sk-item\"><div class=\"sk-estimator sk-toggleable\"><input class=\"sk-toggleable__control sk-hidden--visually\" id=\"sk-estimator-id-3\" type=\"checkbox\" ><label for=\"sk-estimator-id-3\" class=\"sk-toggleable__label sk-toggleable__label-arrow\">LogisticRegression</label><div class=\"sk-toggleable__content\"><pre>LogisticRegression()</pre></div></div></div></div></div></div></div>"
      ],
      "text/plain": [
       "Pipeline(steps=[('cvect',\n",
       "                 CountVectorizer(stop_words=['further', 'move', 'many', 'he',\n",
       "                                             'enough', 'at', 'even', 'latterly',\n",
       "                                             'once', 'first', 'becomes',\n",
       "                                             'others', 'nbsp', 'whether',\n",
       "                                             'much', 'really', 'often',\n",
       "                                             'everything', 'below', 'noone',\n",
       "                                             'sixty', 'former', 'whose', 'but',\n",
       "                                             'per', 'thereupon', 'detail',\n",
       "                                             'most', 'please', 'beforehand', ...])),\n",
       "                ('logreg', LogisticRegression())])"
      ]
     },
     "execution_count": 9,
     "metadata": {},
     "output_type": "execute_result"
    }
   ],
   "source": [
    "pipe = Pipeline([\n",
    "    ('cvect', CountVectorizer(stop_words=stop_words)),\n",
    "    ('logreg', LogisticRegression())\n",
    "])\n",
    "\n",
    "pipe"
   ]
  },
  {
   "cell_type": "code",
   "execution_count": 10,
   "id": "1aba43ef-ddd2-4caf-8b19-ff36eaf0b7d4",
   "metadata": {},
   "outputs": [
    {
     "data": {
      "text/html": [
       "<style>#sk-container-id-2 {color: black;background-color: white;}#sk-container-id-2 pre{padding: 0;}#sk-container-id-2 div.sk-toggleable {background-color: white;}#sk-container-id-2 label.sk-toggleable__label {cursor: pointer;display: block;width: 100%;margin-bottom: 0;padding: 0.3em;box-sizing: border-box;text-align: center;}#sk-container-id-2 label.sk-toggleable__label-arrow:before {content: \"▸\";float: left;margin-right: 0.25em;color: #696969;}#sk-container-id-2 label.sk-toggleable__label-arrow:hover:before {color: black;}#sk-container-id-2 div.sk-estimator:hover label.sk-toggleable__label-arrow:before {color: black;}#sk-container-id-2 div.sk-toggleable__content {max-height: 0;max-width: 0;overflow: hidden;text-align: left;background-color: #f0f8ff;}#sk-container-id-2 div.sk-toggleable__content pre {margin: 0.2em;color: black;border-radius: 0.25em;background-color: #f0f8ff;}#sk-container-id-2 input.sk-toggleable__control:checked~div.sk-toggleable__content {max-height: 200px;max-width: 100%;overflow: auto;}#sk-container-id-2 input.sk-toggleable__control:checked~label.sk-toggleable__label-arrow:before {content: \"▾\";}#sk-container-id-2 div.sk-estimator input.sk-toggleable__control:checked~label.sk-toggleable__label {background-color: #d4ebff;}#sk-container-id-2 div.sk-label input.sk-toggleable__control:checked~label.sk-toggleable__label {background-color: #d4ebff;}#sk-container-id-2 input.sk-hidden--visually {border: 0;clip: rect(1px 1px 1px 1px);clip: rect(1px, 1px, 1px, 1px);height: 1px;margin: -1px;overflow: hidden;padding: 0;position: absolute;width: 1px;}#sk-container-id-2 div.sk-estimator {font-family: monospace;background-color: #f0f8ff;border: 1px dotted black;border-radius: 0.25em;box-sizing: border-box;margin-bottom: 0.5em;}#sk-container-id-2 div.sk-estimator:hover {background-color: #d4ebff;}#sk-container-id-2 div.sk-parallel-item::after {content: \"\";width: 100%;border-bottom: 1px solid gray;flex-grow: 1;}#sk-container-id-2 div.sk-label:hover label.sk-toggleable__label {background-color: #d4ebff;}#sk-container-id-2 div.sk-serial::before {content: \"\";position: absolute;border-left: 1px solid gray;box-sizing: border-box;top: 0;bottom: 0;left: 50%;z-index: 0;}#sk-container-id-2 div.sk-serial {display: flex;flex-direction: column;align-items: center;background-color: white;padding-right: 0.2em;padding-left: 0.2em;position: relative;}#sk-container-id-2 div.sk-item {position: relative;z-index: 1;}#sk-container-id-2 div.sk-parallel {display: flex;align-items: stretch;justify-content: center;background-color: white;position: relative;}#sk-container-id-2 div.sk-item::before, #sk-container-id-2 div.sk-parallel-item::before {content: \"\";position: absolute;border-left: 1px solid gray;box-sizing: border-box;top: 0;bottom: 0;left: 50%;z-index: -1;}#sk-container-id-2 div.sk-parallel-item {display: flex;flex-direction: column;z-index: 1;position: relative;background-color: white;}#sk-container-id-2 div.sk-parallel-item:first-child::after {align-self: flex-end;width: 50%;}#sk-container-id-2 div.sk-parallel-item:last-child::after {align-self: flex-start;width: 50%;}#sk-container-id-2 div.sk-parallel-item:only-child::after {width: 0;}#sk-container-id-2 div.sk-dashed-wrapped {border: 1px dashed gray;margin: 0 0.4em 0.5em 0.4em;box-sizing: border-box;padding-bottom: 0.4em;background-color: white;}#sk-container-id-2 div.sk-label label {font-family: monospace;font-weight: bold;display: inline-block;line-height: 1.2em;}#sk-container-id-2 div.sk-label-container {text-align: center;}#sk-container-id-2 div.sk-container {/* jupyter's `normalize.less` sets `[hidden] { display: none; }` but bootstrap.min.css set `[hidden] { display: none !important; }` so we also need the `!important` here to be able to override the default hidden behavior on the sphinx rendered scikit-learn.org. See: https://github.com/scikit-learn/scikit-learn/issues/21755 */display: inline-block !important;position: relative;}#sk-container-id-2 div.sk-text-repr-fallback {display: none;}</style><div id=\"sk-container-id-2\" class=\"sk-top-container\"><div class=\"sk-text-repr-fallback\"><pre>Pipeline(steps=[(&#x27;cvect&#x27;,\n",
       "                 CountVectorizer(stop_words=[&#x27;further&#x27;, &#x27;move&#x27;, &#x27;many&#x27;, &#x27;he&#x27;,\n",
       "                                             &#x27;enough&#x27;, &#x27;at&#x27;, &#x27;even&#x27;, &#x27;latterly&#x27;,\n",
       "                                             &#x27;once&#x27;, &#x27;first&#x27;, &#x27;becomes&#x27;,\n",
       "                                             &#x27;others&#x27;, &#x27;nbsp&#x27;, &#x27;whether&#x27;,\n",
       "                                             &#x27;much&#x27;, &#x27;really&#x27;, &#x27;often&#x27;,\n",
       "                                             &#x27;everything&#x27;, &#x27;below&#x27;, &#x27;noone&#x27;,\n",
       "                                             &#x27;sixty&#x27;, &#x27;former&#x27;, &#x27;whose&#x27;, &#x27;but&#x27;,\n",
       "                                             &#x27;per&#x27;, &#x27;thereupon&#x27;, &#x27;detail&#x27;,\n",
       "                                             &#x27;most&#x27;, &#x27;please&#x27;, &#x27;beforehand&#x27;, ...])),\n",
       "                (&#x27;logreg&#x27;, LogisticRegression())])</pre><b>In a Jupyter environment, please rerun this cell to show the HTML representation or trust the notebook. <br />On GitHub, the HTML representation is unable to render, please try loading this page with nbviewer.org.</b></div><div class=\"sk-container\" hidden><div class=\"sk-item sk-dashed-wrapped\"><div class=\"sk-label-container\"><div class=\"sk-label sk-toggleable\"><input class=\"sk-toggleable__control sk-hidden--visually\" id=\"sk-estimator-id-4\" type=\"checkbox\" ><label for=\"sk-estimator-id-4\" class=\"sk-toggleable__label sk-toggleable__label-arrow\">Pipeline</label><div class=\"sk-toggleable__content\"><pre>Pipeline(steps=[(&#x27;cvect&#x27;,\n",
       "                 CountVectorizer(stop_words=[&#x27;further&#x27;, &#x27;move&#x27;, &#x27;many&#x27;, &#x27;he&#x27;,\n",
       "                                             &#x27;enough&#x27;, &#x27;at&#x27;, &#x27;even&#x27;, &#x27;latterly&#x27;,\n",
       "                                             &#x27;once&#x27;, &#x27;first&#x27;, &#x27;becomes&#x27;,\n",
       "                                             &#x27;others&#x27;, &#x27;nbsp&#x27;, &#x27;whether&#x27;,\n",
       "                                             &#x27;much&#x27;, &#x27;really&#x27;, &#x27;often&#x27;,\n",
       "                                             &#x27;everything&#x27;, &#x27;below&#x27;, &#x27;noone&#x27;,\n",
       "                                             &#x27;sixty&#x27;, &#x27;former&#x27;, &#x27;whose&#x27;, &#x27;but&#x27;,\n",
       "                                             &#x27;per&#x27;, &#x27;thereupon&#x27;, &#x27;detail&#x27;,\n",
       "                                             &#x27;most&#x27;, &#x27;please&#x27;, &#x27;beforehand&#x27;, ...])),\n",
       "                (&#x27;logreg&#x27;, LogisticRegression())])</pre></div></div></div><div class=\"sk-serial\"><div class=\"sk-item\"><div class=\"sk-estimator sk-toggleable\"><input class=\"sk-toggleable__control sk-hidden--visually\" id=\"sk-estimator-id-5\" type=\"checkbox\" ><label for=\"sk-estimator-id-5\" class=\"sk-toggleable__label sk-toggleable__label-arrow\">CountVectorizer</label><div class=\"sk-toggleable__content\"><pre>CountVectorizer(stop_words=[&#x27;further&#x27;, &#x27;move&#x27;, &#x27;many&#x27;, &#x27;he&#x27;, &#x27;enough&#x27;, &#x27;at&#x27;,\n",
       "                            &#x27;even&#x27;, &#x27;latterly&#x27;, &#x27;once&#x27;, &#x27;first&#x27;, &#x27;becomes&#x27;,\n",
       "                            &#x27;others&#x27;, &#x27;nbsp&#x27;, &#x27;whether&#x27;, &#x27;much&#x27;, &#x27;really&#x27;,\n",
       "                            &#x27;often&#x27;, &#x27;everything&#x27;, &#x27;below&#x27;, &#x27;noone&#x27;, &#x27;sixty&#x27;,\n",
       "                            &#x27;former&#x27;, &#x27;whose&#x27;, &#x27;but&#x27;, &#x27;per&#x27;, &#x27;thereupon&#x27;,\n",
       "                            &#x27;detail&#x27;, &#x27;most&#x27;, &#x27;please&#x27;, &#x27;beforehand&#x27;, ...])</pre></div></div></div><div class=\"sk-item\"><div class=\"sk-estimator sk-toggleable\"><input class=\"sk-toggleable__control sk-hidden--visually\" id=\"sk-estimator-id-6\" type=\"checkbox\" ><label for=\"sk-estimator-id-6\" class=\"sk-toggleable__label sk-toggleable__label-arrow\">LogisticRegression</label><div class=\"sk-toggleable__content\"><pre>LogisticRegression()</pre></div></div></div></div></div></div></div>"
      ],
      "text/plain": [
       "Pipeline(steps=[('cvect',\n",
       "                 CountVectorizer(stop_words=['further', 'move', 'many', 'he',\n",
       "                                             'enough', 'at', 'even', 'latterly',\n",
       "                                             'once', 'first', 'becomes',\n",
       "                                             'others', 'nbsp', 'whether',\n",
       "                                             'much', 'really', 'often',\n",
       "                                             'everything', 'below', 'noone',\n",
       "                                             'sixty', 'former', 'whose', 'but',\n",
       "                                             'per', 'thereupon', 'detail',\n",
       "                                             'most', 'please', 'beforehand', ...])),\n",
       "                ('logreg', LogisticRegression())])"
      ]
     },
     "execution_count": 10,
     "metadata": {},
     "output_type": "execute_result"
    }
   ],
   "source": [
    "pipe.fit(X_train, y_train)"
   ]
  },
  {
   "cell_type": "code",
   "execution_count": 11,
   "id": "97c24778-424a-4f9d-851e-dd65e3423b94",
   "metadata": {},
   "outputs": [
    {
     "data": {
      "text/plain": [
       "0.9949748743718593"
      ]
     },
     "execution_count": 11,
     "metadata": {},
     "output_type": "execute_result"
    }
   ],
   "source": [
    "pipe.score(X_train, y_train)"
   ]
  },
  {
   "cell_type": "code",
   "execution_count": 12,
   "id": "c3c841b1-7777-4457-b0b3-fb103f774ffb",
   "metadata": {},
   "outputs": [
    {
     "data": {
      "text/plain": [
       "0.9623115577889447"
      ]
     },
     "execution_count": 12,
     "metadata": {},
     "output_type": "execute_result"
    }
   ],
   "source": [
    "pipe.score(X_test, y_test)"
   ]
  },
  {
   "cell_type": "code",
   "execution_count": 13,
   "id": "fca0ad0e-4983-4b13-90d8-6c8c7a524c13",
   "metadata": {},
   "outputs": [
    {
     "data": {
      "text/plain": [
       "array([-6.26716210e-02, -3.66974732e-01, -1.33245673e-01, ...,\n",
       "       -1.28087405e-06, -3.62566335e-06,  1.74992769e-02])"
      ]
     },
     "execution_count": 13,
     "metadata": {},
     "output_type": "execute_result"
    }
   ],
   "source": [
    "pipe_coef = pipe[1].coef_[0]\n",
    "pipe_coef"
   ]
  },
  {
   "cell_type": "code",
   "execution_count": 14,
   "id": "b25a620c-bec5-4086-8294-fb6988c3a2e1",
   "metadata": {},
   "outputs": [
    {
     "data": {
      "text/plain": [
       "array(['000', '000kcal', '000lb', ..., 'zknuh5g8tlm', 'zone', 'zyzz'],\n",
       "      dtype=object)"
      ]
     },
     "execution_count": 14,
     "metadata": {},
     "output_type": "execute_result"
    }
   ],
   "source": [
    "pipe_features = pipe[:-1].get_feature_names_out()\n",
    "pipe_features"
   ]
  },
  {
   "cell_type": "code",
   "execution_count": 15,
   "id": "8b7b9bdf-26f4-43ad-aae6-3b1a9e6ec3d7",
   "metadata": {},
   "outputs": [
    {
     "data": {
      "text/plain": [
       "8145"
      ]
     },
     "execution_count": 15,
     "metadata": {},
     "output_type": "execute_result"
    }
   ],
   "source": [
    "len(pipe_coef)"
   ]
  },
  {
   "cell_type": "code",
   "execution_count": 16,
   "id": "b25ef66e-cc28-430e-9bb1-e47ad7d8ebe3",
   "metadata": {},
   "outputs": [
    {
     "data": {
      "text/plain": [
       "8145"
      ]
     },
     "execution_count": 16,
     "metadata": {},
     "output_type": "execute_result"
    }
   ],
   "source": [
    "len(pipe_features)"
   ]
  },
  {
   "cell_type": "code",
   "execution_count": 17,
   "id": "8c467dde-0f91-40f4-8709-b3accf24829e",
   "metadata": {},
   "outputs": [],
   "source": [
    "pipe_coef_features = pd.DataFrame(zip(pipe_coef, pipe_features))"
   ]
  },
  {
   "cell_type": "code",
   "execution_count": 18,
   "id": "bd61d0a7-db0f-4c77-a921-d72967e96d11",
   "metadata": {},
   "outputs": [
    {
     "data": {
      "text/html": [
       "<div>\n",
       "<style scoped>\n",
       "    .dataframe tbody tr th:only-of-type {\n",
       "        vertical-align: middle;\n",
       "    }\n",
       "\n",
       "    .dataframe tbody tr th {\n",
       "        vertical-align: top;\n",
       "    }\n",
       "\n",
       "    .dataframe thead th {\n",
       "        text-align: right;\n",
       "    }\n",
       "</style>\n",
       "<table border=\"1\" class=\"dataframe\">\n",
       "  <thead>\n",
       "    <tr style=\"text-align: right;\">\n",
       "      <th></th>\n",
       "      <th>0</th>\n",
       "      <th>1</th>\n",
       "    </tr>\n",
       "  </thead>\n",
       "  <tbody>\n",
       "    <tr>\n",
       "      <th>7922</th>\n",
       "      <td>1.873236</td>\n",
       "      <td>weeks</td>\n",
       "    </tr>\n",
       "    <tr>\n",
       "      <th>1731</th>\n",
       "      <td>1.641934</td>\n",
       "      <td>arnold</td>\n",
       "    </tr>\n",
       "    <tr>\n",
       "      <th>2081</th>\n",
       "      <td>1.374617</td>\n",
       "      <td>bodybuilding</td>\n",
       "    </tr>\n",
       "    <tr>\n",
       "      <th>5515</th>\n",
       "      <td>1.299506</td>\n",
       "      <td>olympia</td>\n",
       "    </tr>\n",
       "    <tr>\n",
       "      <th>2079</th>\n",
       "      <td>1.270793</td>\n",
       "      <td>bodybuilder</td>\n",
       "    </tr>\n",
       "    <tr>\n",
       "      <th>5770</th>\n",
       "      <td>1.245414</td>\n",
       "      <td>physique</td>\n",
       "    </tr>\n",
       "    <tr>\n",
       "      <th>4909</th>\n",
       "      <td>1.206057</td>\n",
       "      <td>looking</td>\n",
       "    </tr>\n",
       "    <tr>\n",
       "      <th>2938</th>\n",
       "      <td>1.048920</td>\n",
       "      <td>days</td>\n",
       "    </tr>\n",
       "    <tr>\n",
       "      <th>2496</th>\n",
       "      <td>0.968386</td>\n",
       "      <td>classic</td>\n",
       "    </tr>\n",
       "    <tr>\n",
       "      <th>7711</th>\n",
       "      <td>0.938538</td>\n",
       "      <td>update</td>\n",
       "    </tr>\n",
       "    <tr>\n",
       "      <th>3987</th>\n",
       "      <td>0.876847</td>\n",
       "      <td>guy</td>\n",
       "    </tr>\n",
       "    <tr>\n",
       "      <th>3908</th>\n",
       "      <td>0.845446</td>\n",
       "      <td>got</td>\n",
       "    </tr>\n",
       "    <tr>\n",
       "      <th>4616</th>\n",
       "      <td>0.834913</td>\n",
       "      <td>kai</td>\n",
       "    </tr>\n",
       "    <tr>\n",
       "      <th>2359</th>\n",
       "      <td>0.828359</td>\n",
       "      <td>cbum</td>\n",
       "    </tr>\n",
       "    <tr>\n",
       "      <th>7048</th>\n",
       "      <td>0.760541</td>\n",
       "      <td>stage</td>\n",
       "    </tr>\n",
       "    <tr>\n",
       "      <th>5875</th>\n",
       "      <td>0.755197</td>\n",
       "      <td>pose</td>\n",
       "    </tr>\n",
       "    <tr>\n",
       "      <th>7487</th>\n",
       "      <td>0.753256</td>\n",
       "      <td>today</td>\n",
       "    </tr>\n",
       "    <tr>\n",
       "      <th>5131</th>\n",
       "      <td>0.735504</td>\n",
       "      <td>met</td>\n",
       "    </tr>\n",
       "    <tr>\n",
       "      <th>7684</th>\n",
       "      <td>0.721423</td>\n",
       "      <td>unit</td>\n",
       "    </tr>\n",
       "    <tr>\n",
       "      <th>4048</th>\n",
       "      <td>0.711564</td>\n",
       "      <td>happy</td>\n",
       "    </tr>\n",
       "  </tbody>\n",
       "</table>\n",
       "</div>"
      ],
      "text/plain": [
       "             0             1\n",
       "7922  1.873236         weeks\n",
       "1731  1.641934        arnold\n",
       "2081  1.374617  bodybuilding\n",
       "5515  1.299506       olympia\n",
       "2079  1.270793   bodybuilder\n",
       "5770  1.245414      physique\n",
       "4909  1.206057       looking\n",
       "2938  1.048920          days\n",
       "2496  0.968386       classic\n",
       "7711  0.938538        update\n",
       "3987  0.876847           guy\n",
       "3908  0.845446           got\n",
       "4616  0.834913           kai\n",
       "2359  0.828359          cbum\n",
       "7048  0.760541         stage\n",
       "5875  0.755197          pose\n",
       "7487  0.753256         today\n",
       "5131  0.735504           met\n",
       "7684  0.721423          unit\n",
       "4048  0.711564         happy"
      ]
     },
     "execution_count": 18,
     "metadata": {},
     "output_type": "execute_result"
    }
   ],
   "source": [
    "pipe_coef_features.sort_values(by=0, ascending=False).head(20)"
   ]
  },
  {
   "cell_type": "code",
   "execution_count": 19,
   "id": "b009da88-aa61-4e05-b6a2-b89d30a9fad2",
   "metadata": {},
   "outputs": [
    {
     "data": {
      "text/html": [
       "<div>\n",
       "<style scoped>\n",
       "    .dataframe tbody tr th:only-of-type {\n",
       "        vertical-align: middle;\n",
       "    }\n",
       "\n",
       "    .dataframe tbody tr th {\n",
       "        vertical-align: top;\n",
       "    }\n",
       "\n",
       "    .dataframe thead th {\n",
       "        text-align: right;\n",
       "    }\n",
       "</style>\n",
       "<table border=\"1\" class=\"dataframe\">\n",
       "  <thead>\n",
       "    <tr style=\"text-align: right;\">\n",
       "      <th></th>\n",
       "      <th>0</th>\n",
       "      <th>1</th>\n",
       "    </tr>\n",
       "  </thead>\n",
       "  <tbody>\n",
       "    <tr>\n",
       "      <th>7139</th>\n",
       "      <td>-1.115405</td>\n",
       "      <td>strength</td>\n",
       "    </tr>\n",
       "    <tr>\n",
       "      <th>5096</th>\n",
       "      <td>-1.124908</td>\n",
       "      <td>meet</td>\n",
       "    </tr>\n",
       "    <tr>\n",
       "      <th>7738</th>\n",
       "      <td>-1.143495</td>\n",
       "      <td>uspa</td>\n",
       "    </tr>\n",
       "    <tr>\n",
       "      <th>5911</th>\n",
       "      <td>-1.169046</td>\n",
       "      <td>powerlifter</td>\n",
       "    </tr>\n",
       "    <tr>\n",
       "      <th>5921</th>\n",
       "      <td>-1.174844</td>\n",
       "      <td>pr</td>\n",
       "    </tr>\n",
       "    <tr>\n",
       "      <th>6097</th>\n",
       "      <td>-1.194816</td>\n",
       "      <td>pull</td>\n",
       "    </tr>\n",
       "    <tr>\n",
       "      <th>7516</th>\n",
       "      <td>-1.203904</td>\n",
       "      <td>total</td>\n",
       "    </tr>\n",
       "    <tr>\n",
       "      <th>7520</th>\n",
       "      <td>-1.225182</td>\n",
       "      <td>totals</td>\n",
       "    </tr>\n",
       "    <tr>\n",
       "      <th>1010</th>\n",
       "      <td>-1.269806</td>\n",
       "      <td>5kg</td>\n",
       "    </tr>\n",
       "    <tr>\n",
       "      <th>4476</th>\n",
       "      <td>-1.338332</td>\n",
       "      <td>ipf</td>\n",
       "    </tr>\n",
       "    <tr>\n",
       "      <th>4639</th>\n",
       "      <td>-1.368797</td>\n",
       "      <td>kg</td>\n",
       "    </tr>\n",
       "    <tr>\n",
       "      <th>6202</th>\n",
       "      <td>-1.529814</td>\n",
       "      <td>raw</td>\n",
       "    </tr>\n",
       "    <tr>\n",
       "      <th>1983</th>\n",
       "      <td>-1.594449</td>\n",
       "      <td>benches</td>\n",
       "    </tr>\n",
       "    <tr>\n",
       "      <th>2958</th>\n",
       "      <td>-1.766519</td>\n",
       "      <td>deadlifts</td>\n",
       "    </tr>\n",
       "    <tr>\n",
       "      <th>1981</th>\n",
       "      <td>-1.822532</td>\n",
       "      <td>bench</td>\n",
       "    </tr>\n",
       "    <tr>\n",
       "      <th>7028</th>\n",
       "      <td>-1.998145</td>\n",
       "      <td>squats</td>\n",
       "    </tr>\n",
       "    <tr>\n",
       "      <th>6103</th>\n",
       "      <td>-2.244752</td>\n",
       "      <td>pulls</td>\n",
       "    </tr>\n",
       "    <tr>\n",
       "      <th>5913</th>\n",
       "      <td>-2.697218</td>\n",
       "      <td>powerlifting</td>\n",
       "    </tr>\n",
       "    <tr>\n",
       "      <th>2950</th>\n",
       "      <td>-2.955457</td>\n",
       "      <td>deadlift</td>\n",
       "    </tr>\n",
       "    <tr>\n",
       "      <th>7026</th>\n",
       "      <td>-2.971539</td>\n",
       "      <td>squat</td>\n",
       "    </tr>\n",
       "  </tbody>\n",
       "</table>\n",
       "</div>"
      ],
      "text/plain": [
       "             0             1\n",
       "7139 -1.115405      strength\n",
       "5096 -1.124908          meet\n",
       "7738 -1.143495          uspa\n",
       "5911 -1.169046   powerlifter\n",
       "5921 -1.174844            pr\n",
       "6097 -1.194816          pull\n",
       "7516 -1.203904         total\n",
       "7520 -1.225182        totals\n",
       "1010 -1.269806           5kg\n",
       "4476 -1.338332           ipf\n",
       "4639 -1.368797            kg\n",
       "6202 -1.529814           raw\n",
       "1983 -1.594449       benches\n",
       "2958 -1.766519     deadlifts\n",
       "1981 -1.822532         bench\n",
       "7028 -1.998145        squats\n",
       "6103 -2.244752         pulls\n",
       "5913 -2.697218  powerlifting\n",
       "2950 -2.955457      deadlift\n",
       "7026 -2.971539         squat"
      ]
     },
     "execution_count": 19,
     "metadata": {},
     "output_type": "execute_result"
    }
   ],
   "source": [
    "pipe_coef_features.sort_values(by=0, ascending=False).tail(20)"
   ]
  },
  {
   "cell_type": "markdown",
   "id": "4f7ed77a-34f1-4a36-a71d-55c08593f667",
   "metadata": {},
   "source": [
    "## LogisticRegression with CountVectorizer (GridSearchCV)"
   ]
  },
  {
   "cell_type": "code",
   "execution_count": 20,
   "id": "d8f78c9d-d610-449f-927a-63bca7acf8a2",
   "metadata": {},
   "outputs": [],
   "source": [
    "param_grid = {\n",
    "    'cvect__max_features': [None, 1000, 5000, 10000],\n",
    "    'cvect__ngram_range': [(1, 1), (1, 2), (1, 3)],\n",
    "    'cvect__stop_words': [None, 'english', stop_words],\n",
    "    'logreg__C': [0.01, 0.1, 1, 10, 100]\n",
    "}\n",
    "\n",
    "grid_search = GridSearchCV(pipe, param_grid=param_grid)"
   ]
  },
  {
   "cell_type": "code",
   "execution_count": 21,
   "id": "93f93d83-2252-45b5-8283-d9adc9cfe80c",
   "metadata": {},
   "outputs": [
    {
     "data": {
      "text/html": [
       "<style>#sk-container-id-3 {color: black;background-color: white;}#sk-container-id-3 pre{padding: 0;}#sk-container-id-3 div.sk-toggleable {background-color: white;}#sk-container-id-3 label.sk-toggleable__label {cursor: pointer;display: block;width: 100%;margin-bottom: 0;padding: 0.3em;box-sizing: border-box;text-align: center;}#sk-container-id-3 label.sk-toggleable__label-arrow:before {content: \"▸\";float: left;margin-right: 0.25em;color: #696969;}#sk-container-id-3 label.sk-toggleable__label-arrow:hover:before {color: black;}#sk-container-id-3 div.sk-estimator:hover label.sk-toggleable__label-arrow:before {color: black;}#sk-container-id-3 div.sk-toggleable__content {max-height: 0;max-width: 0;overflow: hidden;text-align: left;background-color: #f0f8ff;}#sk-container-id-3 div.sk-toggleable__content pre {margin: 0.2em;color: black;border-radius: 0.25em;background-color: #f0f8ff;}#sk-container-id-3 input.sk-toggleable__control:checked~div.sk-toggleable__content {max-height: 200px;max-width: 100%;overflow: auto;}#sk-container-id-3 input.sk-toggleable__control:checked~label.sk-toggleable__label-arrow:before {content: \"▾\";}#sk-container-id-3 div.sk-estimator input.sk-toggleable__control:checked~label.sk-toggleable__label {background-color: #d4ebff;}#sk-container-id-3 div.sk-label input.sk-toggleable__control:checked~label.sk-toggleable__label {background-color: #d4ebff;}#sk-container-id-3 input.sk-hidden--visually {border: 0;clip: rect(1px 1px 1px 1px);clip: rect(1px, 1px, 1px, 1px);height: 1px;margin: -1px;overflow: hidden;padding: 0;position: absolute;width: 1px;}#sk-container-id-3 div.sk-estimator {font-family: monospace;background-color: #f0f8ff;border: 1px dotted black;border-radius: 0.25em;box-sizing: border-box;margin-bottom: 0.5em;}#sk-container-id-3 div.sk-estimator:hover {background-color: #d4ebff;}#sk-container-id-3 div.sk-parallel-item::after {content: \"\";width: 100%;border-bottom: 1px solid gray;flex-grow: 1;}#sk-container-id-3 div.sk-label:hover label.sk-toggleable__label {background-color: #d4ebff;}#sk-container-id-3 div.sk-serial::before {content: \"\";position: absolute;border-left: 1px solid gray;box-sizing: border-box;top: 0;bottom: 0;left: 50%;z-index: 0;}#sk-container-id-3 div.sk-serial {display: flex;flex-direction: column;align-items: center;background-color: white;padding-right: 0.2em;padding-left: 0.2em;position: relative;}#sk-container-id-3 div.sk-item {position: relative;z-index: 1;}#sk-container-id-3 div.sk-parallel {display: flex;align-items: stretch;justify-content: center;background-color: white;position: relative;}#sk-container-id-3 div.sk-item::before, #sk-container-id-3 div.sk-parallel-item::before {content: \"\";position: absolute;border-left: 1px solid gray;box-sizing: border-box;top: 0;bottom: 0;left: 50%;z-index: -1;}#sk-container-id-3 div.sk-parallel-item {display: flex;flex-direction: column;z-index: 1;position: relative;background-color: white;}#sk-container-id-3 div.sk-parallel-item:first-child::after {align-self: flex-end;width: 50%;}#sk-container-id-3 div.sk-parallel-item:last-child::after {align-self: flex-start;width: 50%;}#sk-container-id-3 div.sk-parallel-item:only-child::after {width: 0;}#sk-container-id-3 div.sk-dashed-wrapped {border: 1px dashed gray;margin: 0 0.4em 0.5em 0.4em;box-sizing: border-box;padding-bottom: 0.4em;background-color: white;}#sk-container-id-3 div.sk-label label {font-family: monospace;font-weight: bold;display: inline-block;line-height: 1.2em;}#sk-container-id-3 div.sk-label-container {text-align: center;}#sk-container-id-3 div.sk-container {/* jupyter's `normalize.less` sets `[hidden] { display: none; }` but bootstrap.min.css set `[hidden] { display: none !important; }` so we also need the `!important` here to be able to override the default hidden behavior on the sphinx rendered scikit-learn.org. See: https://github.com/scikit-learn/scikit-learn/issues/21755 */display: inline-block !important;position: relative;}#sk-container-id-3 div.sk-text-repr-fallback {display: none;}</style><div id=\"sk-container-id-3\" class=\"sk-top-container\"><div class=\"sk-text-repr-fallback\"><pre>GridSearchCV(estimator=Pipeline(steps=[(&#x27;cvect&#x27;,\n",
       "                                        CountVectorizer(stop_words=[&#x27;further&#x27;,\n",
       "                                                                    &#x27;move&#x27;,\n",
       "                                                                    &#x27;many&#x27;,\n",
       "                                                                    &#x27;he&#x27;,\n",
       "                                                                    &#x27;enough&#x27;,\n",
       "                                                                    &#x27;at&#x27;,\n",
       "                                                                    &#x27;even&#x27;,\n",
       "                                                                    &#x27;latterly&#x27;,\n",
       "                                                                    &#x27;once&#x27;,\n",
       "                                                                    &#x27;first&#x27;,\n",
       "                                                                    &#x27;becomes&#x27;,\n",
       "                                                                    &#x27;others&#x27;,\n",
       "                                                                    &#x27;nbsp&#x27;,\n",
       "                                                                    &#x27;whether&#x27;,\n",
       "                                                                    &#x27;much&#x27;,\n",
       "                                                                    &#x27;really&#x27;,\n",
       "                                                                    &#x27;often&#x27;,\n",
       "                                                                    &#x27;everything&#x27;,\n",
       "                                                                    &#x27;below&#x27;,\n",
       "                                                                    &#x27;noone&#x27;,\n",
       "                                                                    &#x27;sixty&#x27;,\n",
       "                                                                    &#x27;former&#x27;,\n",
       "                                                                    &#x27;whose&#x27;,\n",
       "                                                                    &#x27;but&#x27;,\n",
       "                                                                    &#x27;per&#x27;,\n",
       "                                                                    &#x27;thereupon&#x27;,\n",
       "                                                                    &#x27;detail&#x27;,\n",
       "                                                                    &#x27;most&#x27;,\n",
       "                                                                    &#x27;please&#x27;,\n",
       "                                                                    &#x27;beforehand&#x27;, ...])),\n",
       "                                       (&#x27;logreg&#x27;, Logis...\n",
       "                         &#x27;cvect__ngram_range&#x27;: [(1, 1), (1, 2), (1, 3)],\n",
       "                         &#x27;cvect__stop_words&#x27;: [None, &#x27;english&#x27;,\n",
       "                                               [&#x27;further&#x27;, &#x27;move&#x27;, &#x27;many&#x27;, &#x27;he&#x27;,\n",
       "                                                &#x27;enough&#x27;, &#x27;at&#x27;, &#x27;even&#x27;,\n",
       "                                                &#x27;latterly&#x27;, &#x27;once&#x27;, &#x27;first&#x27;,\n",
       "                                                &#x27;becomes&#x27;, &#x27;others&#x27;, &#x27;nbsp&#x27;,\n",
       "                                                &#x27;whether&#x27;, &#x27;much&#x27;, &#x27;really&#x27;,\n",
       "                                                &#x27;often&#x27;, &#x27;everything&#x27;, &#x27;below&#x27;,\n",
       "                                                &#x27;noone&#x27;, &#x27;sixty&#x27;, &#x27;former&#x27;,\n",
       "                                                &#x27;whose&#x27;, &#x27;but&#x27;, &#x27;per&#x27;,\n",
       "                                                &#x27;thereupon&#x27;, &#x27;detail&#x27;, &#x27;most&#x27;,\n",
       "                                                &#x27;please&#x27;, &#x27;beforehand&#x27;, ...]],\n",
       "                         &#x27;logreg__C&#x27;: [0.01, 0.1, 1, 10, 100]})</pre><b>In a Jupyter environment, please rerun this cell to show the HTML representation or trust the notebook. <br />On GitHub, the HTML representation is unable to render, please try loading this page with nbviewer.org.</b></div><div class=\"sk-container\" hidden><div class=\"sk-item sk-dashed-wrapped\"><div class=\"sk-label-container\"><div class=\"sk-label sk-toggleable\"><input class=\"sk-toggleable__control sk-hidden--visually\" id=\"sk-estimator-id-7\" type=\"checkbox\" ><label for=\"sk-estimator-id-7\" class=\"sk-toggleable__label sk-toggleable__label-arrow\">GridSearchCV</label><div class=\"sk-toggleable__content\"><pre>GridSearchCV(estimator=Pipeline(steps=[(&#x27;cvect&#x27;,\n",
       "                                        CountVectorizer(stop_words=[&#x27;further&#x27;,\n",
       "                                                                    &#x27;move&#x27;,\n",
       "                                                                    &#x27;many&#x27;,\n",
       "                                                                    &#x27;he&#x27;,\n",
       "                                                                    &#x27;enough&#x27;,\n",
       "                                                                    &#x27;at&#x27;,\n",
       "                                                                    &#x27;even&#x27;,\n",
       "                                                                    &#x27;latterly&#x27;,\n",
       "                                                                    &#x27;once&#x27;,\n",
       "                                                                    &#x27;first&#x27;,\n",
       "                                                                    &#x27;becomes&#x27;,\n",
       "                                                                    &#x27;others&#x27;,\n",
       "                                                                    &#x27;nbsp&#x27;,\n",
       "                                                                    &#x27;whether&#x27;,\n",
       "                                                                    &#x27;much&#x27;,\n",
       "                                                                    &#x27;really&#x27;,\n",
       "                                                                    &#x27;often&#x27;,\n",
       "                                                                    &#x27;everything&#x27;,\n",
       "                                                                    &#x27;below&#x27;,\n",
       "                                                                    &#x27;noone&#x27;,\n",
       "                                                                    &#x27;sixty&#x27;,\n",
       "                                                                    &#x27;former&#x27;,\n",
       "                                                                    &#x27;whose&#x27;,\n",
       "                                                                    &#x27;but&#x27;,\n",
       "                                                                    &#x27;per&#x27;,\n",
       "                                                                    &#x27;thereupon&#x27;,\n",
       "                                                                    &#x27;detail&#x27;,\n",
       "                                                                    &#x27;most&#x27;,\n",
       "                                                                    &#x27;please&#x27;,\n",
       "                                                                    &#x27;beforehand&#x27;, ...])),\n",
       "                                       (&#x27;logreg&#x27;, Logis...\n",
       "                         &#x27;cvect__ngram_range&#x27;: [(1, 1), (1, 2), (1, 3)],\n",
       "                         &#x27;cvect__stop_words&#x27;: [None, &#x27;english&#x27;,\n",
       "                                               [&#x27;further&#x27;, &#x27;move&#x27;, &#x27;many&#x27;, &#x27;he&#x27;,\n",
       "                                                &#x27;enough&#x27;, &#x27;at&#x27;, &#x27;even&#x27;,\n",
       "                                                &#x27;latterly&#x27;, &#x27;once&#x27;, &#x27;first&#x27;,\n",
       "                                                &#x27;becomes&#x27;, &#x27;others&#x27;, &#x27;nbsp&#x27;,\n",
       "                                                &#x27;whether&#x27;, &#x27;much&#x27;, &#x27;really&#x27;,\n",
       "                                                &#x27;often&#x27;, &#x27;everything&#x27;, &#x27;below&#x27;,\n",
       "                                                &#x27;noone&#x27;, &#x27;sixty&#x27;, &#x27;former&#x27;,\n",
       "                                                &#x27;whose&#x27;, &#x27;but&#x27;, &#x27;per&#x27;,\n",
       "                                                &#x27;thereupon&#x27;, &#x27;detail&#x27;, &#x27;most&#x27;,\n",
       "                                                &#x27;please&#x27;, &#x27;beforehand&#x27;, ...]],\n",
       "                         &#x27;logreg__C&#x27;: [0.01, 0.1, 1, 10, 100]})</pre></div></div></div><div class=\"sk-parallel\"><div class=\"sk-parallel-item\"><div class=\"sk-item\"><div class=\"sk-label-container\"><div class=\"sk-label sk-toggleable\"><input class=\"sk-toggleable__control sk-hidden--visually\" id=\"sk-estimator-id-8\" type=\"checkbox\" ><label for=\"sk-estimator-id-8\" class=\"sk-toggleable__label sk-toggleable__label-arrow\">estimator: Pipeline</label><div class=\"sk-toggleable__content\"><pre>Pipeline(steps=[(&#x27;cvect&#x27;,\n",
       "                 CountVectorizer(stop_words=[&#x27;further&#x27;, &#x27;move&#x27;, &#x27;many&#x27;, &#x27;he&#x27;,\n",
       "                                             &#x27;enough&#x27;, &#x27;at&#x27;, &#x27;even&#x27;, &#x27;latterly&#x27;,\n",
       "                                             &#x27;once&#x27;, &#x27;first&#x27;, &#x27;becomes&#x27;,\n",
       "                                             &#x27;others&#x27;, &#x27;nbsp&#x27;, &#x27;whether&#x27;,\n",
       "                                             &#x27;much&#x27;, &#x27;really&#x27;, &#x27;often&#x27;,\n",
       "                                             &#x27;everything&#x27;, &#x27;below&#x27;, &#x27;noone&#x27;,\n",
       "                                             &#x27;sixty&#x27;, &#x27;former&#x27;, &#x27;whose&#x27;, &#x27;but&#x27;,\n",
       "                                             &#x27;per&#x27;, &#x27;thereupon&#x27;, &#x27;detail&#x27;,\n",
       "                                             &#x27;most&#x27;, &#x27;please&#x27;, &#x27;beforehand&#x27;, ...])),\n",
       "                (&#x27;logreg&#x27;, LogisticRegression())])</pre></div></div></div><div class=\"sk-serial\"><div class=\"sk-item\"><div class=\"sk-serial\"><div class=\"sk-item\"><div class=\"sk-estimator sk-toggleable\"><input class=\"sk-toggleable__control sk-hidden--visually\" id=\"sk-estimator-id-9\" type=\"checkbox\" ><label for=\"sk-estimator-id-9\" class=\"sk-toggleable__label sk-toggleable__label-arrow\">CountVectorizer</label><div class=\"sk-toggleable__content\"><pre>CountVectorizer(stop_words=[&#x27;further&#x27;, &#x27;move&#x27;, &#x27;many&#x27;, &#x27;he&#x27;, &#x27;enough&#x27;, &#x27;at&#x27;,\n",
       "                            &#x27;even&#x27;, &#x27;latterly&#x27;, &#x27;once&#x27;, &#x27;first&#x27;, &#x27;becomes&#x27;,\n",
       "                            &#x27;others&#x27;, &#x27;nbsp&#x27;, &#x27;whether&#x27;, &#x27;much&#x27;, &#x27;really&#x27;,\n",
       "                            &#x27;often&#x27;, &#x27;everything&#x27;, &#x27;below&#x27;, &#x27;noone&#x27;, &#x27;sixty&#x27;,\n",
       "                            &#x27;former&#x27;, &#x27;whose&#x27;, &#x27;but&#x27;, &#x27;per&#x27;, &#x27;thereupon&#x27;,\n",
       "                            &#x27;detail&#x27;, &#x27;most&#x27;, &#x27;please&#x27;, &#x27;beforehand&#x27;, ...])</pre></div></div></div><div class=\"sk-item\"><div class=\"sk-estimator sk-toggleable\"><input class=\"sk-toggleable__control sk-hidden--visually\" id=\"sk-estimator-id-10\" type=\"checkbox\" ><label for=\"sk-estimator-id-10\" class=\"sk-toggleable__label sk-toggleable__label-arrow\">LogisticRegression</label><div class=\"sk-toggleable__content\"><pre>LogisticRegression()</pre></div></div></div></div></div></div></div></div></div></div></div></div>"
      ],
      "text/plain": [
       "GridSearchCV(estimator=Pipeline(steps=[('cvect',\n",
       "                                        CountVectorizer(stop_words=['further',\n",
       "                                                                    'move',\n",
       "                                                                    'many',\n",
       "                                                                    'he',\n",
       "                                                                    'enough',\n",
       "                                                                    'at',\n",
       "                                                                    'even',\n",
       "                                                                    'latterly',\n",
       "                                                                    'once',\n",
       "                                                                    'first',\n",
       "                                                                    'becomes',\n",
       "                                                                    'others',\n",
       "                                                                    'nbsp',\n",
       "                                                                    'whether',\n",
       "                                                                    'much',\n",
       "                                                                    'really',\n",
       "                                                                    'often',\n",
       "                                                                    'everything',\n",
       "                                                                    'below',\n",
       "                                                                    'noone',\n",
       "                                                                    'sixty',\n",
       "                                                                    'former',\n",
       "                                                                    'whose',\n",
       "                                                                    'but',\n",
       "                                                                    'per',\n",
       "                                                                    'thereupon',\n",
       "                                                                    'detail',\n",
       "                                                                    'most',\n",
       "                                                                    'please',\n",
       "                                                                    'beforehand', ...])),\n",
       "                                       ('logreg', Logis...\n",
       "                         'cvect__ngram_range': [(1, 1), (1, 2), (1, 3)],\n",
       "                         'cvect__stop_words': [None, 'english',\n",
       "                                               ['further', 'move', 'many', 'he',\n",
       "                                                'enough', 'at', 'even',\n",
       "                                                'latterly', 'once', 'first',\n",
       "                                                'becomes', 'others', 'nbsp',\n",
       "                                                'whether', 'much', 'really',\n",
       "                                                'often', 'everything', 'below',\n",
       "                                                'noone', 'sixty', 'former',\n",
       "                                                'whose', 'but', 'per',\n",
       "                                                'thereupon', 'detail', 'most',\n",
       "                                                'please', 'beforehand', ...]],\n",
       "                         'logreg__C': [0.01, 0.1, 1, 10, 100]})"
      ]
     },
     "execution_count": 21,
     "metadata": {},
     "output_type": "execute_result"
    }
   ],
   "source": [
    "grid_search.fit(X_train, y_train)"
   ]
  },
  {
   "cell_type": "code",
   "execution_count": 22,
   "id": "6ebf63f7-8b27-4131-9def-8e8215fdb764",
   "metadata": {},
   "outputs": [
    {
     "data": {
      "text/plain": [
       "{'cvect__max_features': 10000,\n",
       " 'cvect__ngram_range': (1, 3),\n",
       " 'cvect__stop_words': 'english',\n",
       " 'logreg__C': 10}"
      ]
     },
     "execution_count": 22,
     "metadata": {},
     "output_type": "execute_result"
    }
   ],
   "source": [
    "grid_search.best_params_"
   ]
  },
  {
   "cell_type": "code",
   "execution_count": 23,
   "id": "a5567e9a-644e-4a06-99f5-2070fd059ed9",
   "metadata": {},
   "outputs": [
    {
     "data": {
      "text/plain": [
       "0.9981155778894473"
      ]
     },
     "execution_count": 23,
     "metadata": {},
     "output_type": "execute_result"
    }
   ],
   "source": [
    "grid_search.score(X_train, y_train)"
   ]
  },
  {
   "cell_type": "code",
   "execution_count": 24,
   "id": "eb91597a-3fcc-4117-b321-5abc3d657b03",
   "metadata": {},
   "outputs": [
    {
     "data": {
      "text/plain": [
       "0.957286432160804"
      ]
     },
     "execution_count": 24,
     "metadata": {},
     "output_type": "execute_result"
    }
   ],
   "source": [
    "grid_search.score(X_test, y_test)"
   ]
  },
  {
   "cell_type": "code",
   "execution_count": 25,
   "id": "f009c722-8751-48d1-aa65-c86aaa033e6a",
   "metadata": {},
   "outputs": [],
   "source": [
    "preds = grid_search.predict(X_test)"
   ]
  },
  {
   "cell_type": "code",
   "execution_count": 26,
   "id": "f34c3d99-0f22-4eef-9d64-e1ae658ce60e",
   "metadata": {},
   "outputs": [],
   "source": [
    "tn, fp, fn, tp = confusion_matrix(y_test, preds).ravel()"
   ]
  },
  {
   "cell_type": "code",
   "execution_count": 27,
   "id": "724a620e-f154-4ee7-8965-0883fdbc31ca",
   "metadata": {},
   "outputs": [
    {
     "data": {
      "image/png": "[encoded data removed]",
      "text/plain": [
       "<Figure size 800x600 with 2 Axes>"
      ]
     },
     "metadata": {},
     "output_type": "display_data"
    }
   ],
   "source": [
    "# display confusion matrix for train data\n",
    "fig, ax = plt.subplots(figsize=(8, 6))\n",
    "ConfusionMatrixDisplay.from_estimator(grid_search, X_train, y_train, cmap='Blues', ax=ax, display_labels=['Powerlifting', 'Bodybuilding']);"
   ]
  },
  {
   "cell_type": "code",
   "execution_count": 28,
   "id": "40ab17d4-adad-44d5-8362-a427174d7f24",
   "metadata": {},
   "outputs": [
    {
     "data": {
      "image/png": "[encoded data removed]",
      "text/plain": [
       "<Figure size 800x600 with 2 Axes>"
      ]
     },
     "metadata": {},
     "output_type": "display_data"
    }
   ],
   "source": [
    "# display confusion matrix for test data\n",
    "fig, ax = plt.subplots(figsize=(8, 6))\n",
    "ConfusionMatrixDisplay.from_estimator(grid_search, X_test, y_test, cmap='Blues', ax=ax, display_labels=['Powerlifting', 'Bodybuilding']);"
   ]
  },
  {
   "cell_type": "code",
   "execution_count": 29,
   "id": "b2c7d076-5883-48e7-a49b-64769f83c16c",
   "metadata": {},
   "outputs": [
    {
     "name": "stdout",
     "output_type": "stream",
     "text": [
      "              precision    recall  f1-score   support\n",
      "\n",
      "           1       0.99      0.93      0.96       200\n",
      "           2       0.93      0.99      0.96       198\n",
      "\n",
      "    accuracy                           0.96       398\n",
      "   macro avg       0.96      0.96      0.96       398\n",
      "weighted avg       0.96      0.96      0.96       398\n",
      "\n"
     ]
    }
   ],
   "source": [
    "print(classification_report(y_test, preds))"
   ]
  },
  {
   "cell_type": "markdown",
   "id": "1657920e-6eb3-4e80-9c7b-b656330c8b86",
   "metadata": {},
   "source": [
    "## LogisticRegression with CountVectorizer (added stop words)"
   ]
  },
  {
   "cell_type": "code",
   "execution_count": 30,
   "id": "3479e943-a539-4854-9b65-c48a9634aa7d",
   "metadata": {},
   "outputs": [],
   "source": [
    "# added more stop words\n",
    "stop_words = list(text.ENGLISH_STOP_WORDS.union(['https', 'com', 'nbsp', 'www', 'just', 've', 'like', 'really', 'new', 'good', 'did', 'bodybuilding', 'bodybuilder', 'powerlifting', 'powerlifter']))"
   ]
  },
  {
   "cell_type": "code",
   "execution_count": 31,
   "id": "5e7a6bfa-0d25-41bf-94df-d45e3cc45c85",
   "metadata": {},
   "outputs": [
    {
     "data": {
      "text/html": [
       "<style>#sk-container-id-4 {color: black;background-color: white;}#sk-container-id-4 pre{padding: 0;}#sk-container-id-4 div.sk-toggleable {background-color: white;}#sk-container-id-4 label.sk-toggleable__label {cursor: pointer;display: block;width: 100%;margin-bottom: 0;padding: 0.3em;box-sizing: border-box;text-align: center;}#sk-container-id-4 label.sk-toggleable__label-arrow:before {content: \"▸\";float: left;margin-right: 0.25em;color: #696969;}#sk-container-id-4 label.sk-toggleable__label-arrow:hover:before {color: black;}#sk-container-id-4 div.sk-estimator:hover label.sk-toggleable__label-arrow:before {color: black;}#sk-container-id-4 div.sk-toggleable__content {max-height: 0;max-width: 0;overflow: hidden;text-align: left;background-color: #f0f8ff;}#sk-container-id-4 div.sk-toggleable__content pre {margin: 0.2em;color: black;border-radius: 0.25em;background-color: #f0f8ff;}#sk-container-id-4 input.sk-toggleable__control:checked~div.sk-toggleable__content {max-height: 200px;max-width: 100%;overflow: auto;}#sk-container-id-4 input.sk-toggleable__control:checked~label.sk-toggleable__label-arrow:before {content: \"▾\";}#sk-container-id-4 div.sk-estimator input.sk-toggleable__control:checked~label.sk-toggleable__label {background-color: #d4ebff;}#sk-container-id-4 div.sk-label input.sk-toggleable__control:checked~label.sk-toggleable__label {background-color: #d4ebff;}#sk-container-id-4 input.sk-hidden--visually {border: 0;clip: rect(1px 1px 1px 1px);clip: rect(1px, 1px, 1px, 1px);height: 1px;margin: -1px;overflow: hidden;padding: 0;position: absolute;width: 1px;}#sk-container-id-4 div.sk-estimator {font-family: monospace;background-color: #f0f8ff;border: 1px dotted black;border-radius: 0.25em;box-sizing: border-box;margin-bottom: 0.5em;}#sk-container-id-4 div.sk-estimator:hover {background-color: #d4ebff;}#sk-container-id-4 div.sk-parallel-item::after {content: \"\";width: 100%;border-bottom: 1px solid gray;flex-grow: 1;}#sk-container-id-4 div.sk-label:hover label.sk-toggleable__label {background-color: #d4ebff;}#sk-container-id-4 div.sk-serial::before {content: \"\";position: absolute;border-left: 1px solid gray;box-sizing: border-box;top: 0;bottom: 0;left: 50%;z-index: 0;}#sk-container-id-4 div.sk-serial {display: flex;flex-direction: column;align-items: center;background-color: white;padding-right: 0.2em;padding-left: 0.2em;position: relative;}#sk-container-id-4 div.sk-item {position: relative;z-index: 1;}#sk-container-id-4 div.sk-parallel {display: flex;align-items: stretch;justify-content: center;background-color: white;position: relative;}#sk-container-id-4 div.sk-item::before, #sk-container-id-4 div.sk-parallel-item::before {content: \"\";position: absolute;border-left: 1px solid gray;box-sizing: border-box;top: 0;bottom: 0;left: 50%;z-index: -1;}#sk-container-id-4 div.sk-parallel-item {display: flex;flex-direction: column;z-index: 1;position: relative;background-color: white;}#sk-container-id-4 div.sk-parallel-item:first-child::after {align-self: flex-end;width: 50%;}#sk-container-id-4 div.sk-parallel-item:last-child::after {align-self: flex-start;width: 50%;}#sk-container-id-4 div.sk-parallel-item:only-child::after {width: 0;}#sk-container-id-4 div.sk-dashed-wrapped {border: 1px dashed gray;margin: 0 0.4em 0.5em 0.4em;box-sizing: border-box;padding-bottom: 0.4em;background-color: white;}#sk-container-id-4 div.sk-label label {font-family: monospace;font-weight: bold;display: inline-block;line-height: 1.2em;}#sk-container-id-4 div.sk-label-container {text-align: center;}#sk-container-id-4 div.sk-container {/* jupyter's `normalize.less` sets `[hidden] { display: none; }` but bootstrap.min.css set `[hidden] { display: none !important; }` so we also need the `!important` here to be able to override the default hidden behavior on the sphinx rendered scikit-learn.org. See: https://github.com/scikit-learn/scikit-learn/issues/21755 */display: inline-block !important;position: relative;}#sk-container-id-4 div.sk-text-repr-fallback {display: none;}</style><div id=\"sk-container-id-4\" class=\"sk-top-container\"><div class=\"sk-text-repr-fallback\"><pre>Pipeline(steps=[(&#x27;cvect&#x27;,\n",
       "                 CountVectorizer(stop_words=[&#x27;further&#x27;, &#x27;move&#x27;, &#x27;many&#x27;, &#x27;he&#x27;,\n",
       "                                             &#x27;bodybuilder&#x27;, &#x27;enough&#x27;, &#x27;at&#x27;,\n",
       "                                             &#x27;even&#x27;, &#x27;latterly&#x27;, &#x27;once&#x27;,\n",
       "                                             &#x27;first&#x27;, &#x27;becomes&#x27;, &#x27;others&#x27;,\n",
       "                                             &#x27;nbsp&#x27;, &#x27;whether&#x27;, &#x27;much&#x27;,\n",
       "                                             &#x27;really&#x27;, &#x27;often&#x27;, &#x27;everything&#x27;,\n",
       "                                             &#x27;below&#x27;, &#x27;noone&#x27;, &#x27;sixty&#x27;,\n",
       "                                             &#x27;former&#x27;, &#x27;whose&#x27;, &#x27;but&#x27;, &#x27;per&#x27;,\n",
       "                                             &#x27;thereupon&#x27;, &#x27;detail&#x27;, &#x27;most&#x27;,\n",
       "                                             &#x27;please&#x27;, ...])),\n",
       "                (&#x27;logreg&#x27;, LogisticRegression())])</pre><b>In a Jupyter environment, please rerun this cell to show the HTML representation or trust the notebook. <br />On GitHub, the HTML representation is unable to render, please try loading this page with nbviewer.org.</b></div><div class=\"sk-container\" hidden><div class=\"sk-item sk-dashed-wrapped\"><div class=\"sk-label-container\"><div class=\"sk-label sk-toggleable\"><input class=\"sk-toggleable__control sk-hidden--visually\" id=\"sk-estimator-id-11\" type=\"checkbox\" ><label for=\"sk-estimator-id-11\" class=\"sk-toggleable__label sk-toggleable__label-arrow\">Pipeline</label><div class=\"sk-toggleable__content\"><pre>Pipeline(steps=[(&#x27;cvect&#x27;,\n",
       "                 CountVectorizer(stop_words=[&#x27;further&#x27;, &#x27;move&#x27;, &#x27;many&#x27;, &#x27;he&#x27;,\n",
       "                                             &#x27;bodybuilder&#x27;, &#x27;enough&#x27;, &#x27;at&#x27;,\n",
       "                                             &#x27;even&#x27;, &#x27;latterly&#x27;, &#x27;once&#x27;,\n",
       "                                             &#x27;first&#x27;, &#x27;becomes&#x27;, &#x27;others&#x27;,\n",
       "                                             &#x27;nbsp&#x27;, &#x27;whether&#x27;, &#x27;much&#x27;,\n",
       "                                             &#x27;really&#x27;, &#x27;often&#x27;, &#x27;everything&#x27;,\n",
       "                                             &#x27;below&#x27;, &#x27;noone&#x27;, &#x27;sixty&#x27;,\n",
       "                                             &#x27;former&#x27;, &#x27;whose&#x27;, &#x27;but&#x27;, &#x27;per&#x27;,\n",
       "                                             &#x27;thereupon&#x27;, &#x27;detail&#x27;, &#x27;most&#x27;,\n",
       "                                             &#x27;please&#x27;, ...])),\n",
       "                (&#x27;logreg&#x27;, LogisticRegression())])</pre></div></div></div><div class=\"sk-serial\"><div class=\"sk-item\"><div class=\"sk-estimator sk-toggleable\"><input class=\"sk-toggleable__control sk-hidden--visually\" id=\"sk-estimator-id-12\" type=\"checkbox\" ><label for=\"sk-estimator-id-12\" class=\"sk-toggleable__label sk-toggleable__label-arrow\">CountVectorizer</label><div class=\"sk-toggleable__content\"><pre>CountVectorizer(stop_words=[&#x27;further&#x27;, &#x27;move&#x27;, &#x27;many&#x27;, &#x27;he&#x27;, &#x27;bodybuilder&#x27;,\n",
       "                            &#x27;enough&#x27;, &#x27;at&#x27;, &#x27;even&#x27;, &#x27;latterly&#x27;, &#x27;once&#x27;, &#x27;first&#x27;,\n",
       "                            &#x27;becomes&#x27;, &#x27;others&#x27;, &#x27;nbsp&#x27;, &#x27;whether&#x27;, &#x27;much&#x27;,\n",
       "                            &#x27;really&#x27;, &#x27;often&#x27;, &#x27;everything&#x27;, &#x27;below&#x27;, &#x27;noone&#x27;,\n",
       "                            &#x27;sixty&#x27;, &#x27;former&#x27;, &#x27;whose&#x27;, &#x27;but&#x27;, &#x27;per&#x27;,\n",
       "                            &#x27;thereupon&#x27;, &#x27;detail&#x27;, &#x27;most&#x27;, &#x27;please&#x27;, ...])</pre></div></div></div><div class=\"sk-item\"><div class=\"sk-estimator sk-toggleable\"><input class=\"sk-toggleable__control sk-hidden--visually\" id=\"sk-estimator-id-13\" type=\"checkbox\" ><label for=\"sk-estimator-id-13\" class=\"sk-toggleable__label sk-toggleable__label-arrow\">LogisticRegression</label><div class=\"sk-toggleable__content\"><pre>LogisticRegression()</pre></div></div></div></div></div></div></div>"
      ],
      "text/plain": [
       "Pipeline(steps=[('cvect',\n",
       "                 CountVectorizer(stop_words=['further', 'move', 'many', 'he',\n",
       "                                             'bodybuilder', 'enough', 'at',\n",
       "                                             'even', 'latterly', 'once',\n",
       "                                             'first', 'becomes', 'others',\n",
       "                                             'nbsp', 'whether', 'much',\n",
       "                                             'really', 'often', 'everything',\n",
       "                                             'below', 'noone', 'sixty',\n",
       "                                             'former', 'whose', 'but', 'per',\n",
       "                                             'thereupon', 'detail', 'most',\n",
       "                                             'please', ...])),\n",
       "                ('logreg', LogisticRegression())])"
      ]
     },
     "execution_count": 31,
     "metadata": {},
     "output_type": "execute_result"
    }
   ],
   "source": [
    "pipe = Pipeline([\n",
    "    ('cvect', CountVectorizer(stop_words=stop_words)),\n",
    "    ('logreg', LogisticRegression())\n",
    "])\n",
    "\n",
    "pipe"
   ]
  },
  {
   "cell_type": "code",
   "execution_count": 32,
   "id": "5abdef94-6389-452d-b169-4f5bdd4e952d",
   "metadata": {},
   "outputs": [
    {
     "data": {
      "text/html": [
       "<style>#sk-container-id-5 {color: black;background-color: white;}#sk-container-id-5 pre{padding: 0;}#sk-container-id-5 div.sk-toggleable {background-color: white;}#sk-container-id-5 label.sk-toggleable__label {cursor: pointer;display: block;width: 100%;margin-bottom: 0;padding: 0.3em;box-sizing: border-box;text-align: center;}#sk-container-id-5 label.sk-toggleable__label-arrow:before {content: \"▸\";float: left;margin-right: 0.25em;color: #696969;}#sk-container-id-5 label.sk-toggleable__label-arrow:hover:before {color: black;}#sk-container-id-5 div.sk-estimator:hover label.sk-toggleable__label-arrow:before {color: black;}#sk-container-id-5 div.sk-toggleable__content {max-height: 0;max-width: 0;overflow: hidden;text-align: left;background-color: #f0f8ff;}#sk-container-id-5 div.sk-toggleable__content pre {margin: 0.2em;color: black;border-radius: 0.25em;background-color: #f0f8ff;}#sk-container-id-5 input.sk-toggleable__control:checked~div.sk-toggleable__content {max-height: 200px;max-width: 100%;overflow: auto;}#sk-container-id-5 input.sk-toggleable__control:checked~label.sk-toggleable__label-arrow:before {content: \"▾\";}#sk-container-id-5 div.sk-estimator input.sk-toggleable__control:checked~label.sk-toggleable__label {background-color: #d4ebff;}#sk-container-id-5 div.sk-label input.sk-toggleable__control:checked~label.sk-toggleable__label {background-color: #d4ebff;}#sk-container-id-5 input.sk-hidden--visually {border: 0;clip: rect(1px 1px 1px 1px);clip: rect(1px, 1px, 1px, 1px);height: 1px;margin: -1px;overflow: hidden;padding: 0;position: absolute;width: 1px;}#sk-container-id-5 div.sk-estimator {font-family: monospace;background-color: #f0f8ff;border: 1px dotted black;border-radius: 0.25em;box-sizing: border-box;margin-bottom: 0.5em;}#sk-container-id-5 div.sk-estimator:hover {background-color: #d4ebff;}#sk-container-id-5 div.sk-parallel-item::after {content: \"\";width: 100%;border-bottom: 1px solid gray;flex-grow: 1;}#sk-container-id-5 div.sk-label:hover label.sk-toggleable__label {background-color: #d4ebff;}#sk-container-id-5 div.sk-serial::before {content: \"\";position: absolute;border-left: 1px solid gray;box-sizing: border-box;top: 0;bottom: 0;left: 50%;z-index: 0;}#sk-container-id-5 div.sk-serial {display: flex;flex-direction: column;align-items: center;background-color: white;padding-right: 0.2em;padding-left: 0.2em;position: relative;}#sk-container-id-5 div.sk-item {position: relative;z-index: 1;}#sk-container-id-5 div.sk-parallel {display: flex;align-items: stretch;justify-content: center;background-color: white;position: relative;}#sk-container-id-5 div.sk-item::before, #sk-container-id-5 div.sk-parallel-item::before {content: \"\";position: absolute;border-left: 1px solid gray;box-sizing: border-box;top: 0;bottom: 0;left: 50%;z-index: -1;}#sk-container-id-5 div.sk-parallel-item {display: flex;flex-direction: column;z-index: 1;position: relative;background-color: white;}#sk-container-id-5 div.sk-parallel-item:first-child::after {align-self: flex-end;width: 50%;}#sk-container-id-5 div.sk-parallel-item:last-child::after {align-self: flex-start;width: 50%;}#sk-container-id-5 div.sk-parallel-item:only-child::after {width: 0;}#sk-container-id-5 div.sk-dashed-wrapped {border: 1px dashed gray;margin: 0 0.4em 0.5em 0.4em;box-sizing: border-box;padding-bottom: 0.4em;background-color: white;}#sk-container-id-5 div.sk-label label {font-family: monospace;font-weight: bold;display: inline-block;line-height: 1.2em;}#sk-container-id-5 div.sk-label-container {text-align: center;}#sk-container-id-5 div.sk-container {/* jupyter's `normalize.less` sets `[hidden] { display: none; }` but bootstrap.min.css set `[hidden] { display: none !important; }` so we also need the `!important` here to be able to override the default hidden behavior on the sphinx rendered scikit-learn.org. See: https://github.com/scikit-learn/scikit-learn/issues/21755 */display: inline-block !important;position: relative;}#sk-container-id-5 div.sk-text-repr-fallback {display: none;}</style><div id=\"sk-container-id-5\" class=\"sk-top-container\"><div class=\"sk-text-repr-fallback\"><pre>Pipeline(steps=[(&#x27;cvect&#x27;,\n",
       "                 CountVectorizer(stop_words=[&#x27;further&#x27;, &#x27;move&#x27;, &#x27;many&#x27;, &#x27;he&#x27;,\n",
       "                                             &#x27;bodybuilder&#x27;, &#x27;enough&#x27;, &#x27;at&#x27;,\n",
       "                                             &#x27;even&#x27;, &#x27;latterly&#x27;, &#x27;once&#x27;,\n",
       "                                             &#x27;first&#x27;, &#x27;becomes&#x27;, &#x27;others&#x27;,\n",
       "                                             &#x27;nbsp&#x27;, &#x27;whether&#x27;, &#x27;much&#x27;,\n",
       "                                             &#x27;really&#x27;, &#x27;often&#x27;, &#x27;everything&#x27;,\n",
       "                                             &#x27;below&#x27;, &#x27;noone&#x27;, &#x27;sixty&#x27;,\n",
       "                                             &#x27;former&#x27;, &#x27;whose&#x27;, &#x27;but&#x27;, &#x27;per&#x27;,\n",
       "                                             &#x27;thereupon&#x27;, &#x27;detail&#x27;, &#x27;most&#x27;,\n",
       "                                             &#x27;please&#x27;, ...])),\n",
       "                (&#x27;logreg&#x27;, LogisticRegression())])</pre><b>In a Jupyter environment, please rerun this cell to show the HTML representation or trust the notebook. <br />On GitHub, the HTML representation is unable to render, please try loading this page with nbviewer.org.</b></div><div class=\"sk-container\" hidden><div class=\"sk-item sk-dashed-wrapped\"><div class=\"sk-label-container\"><div class=\"sk-label sk-toggleable\"><input class=\"sk-toggleable__control sk-hidden--visually\" id=\"sk-estimator-id-14\" type=\"checkbox\" ><label for=\"sk-estimator-id-14\" class=\"sk-toggleable__label sk-toggleable__label-arrow\">Pipeline</label><div class=\"sk-toggleable__content\"><pre>Pipeline(steps=[(&#x27;cvect&#x27;,\n",
       "                 CountVectorizer(stop_words=[&#x27;further&#x27;, &#x27;move&#x27;, &#x27;many&#x27;, &#x27;he&#x27;,\n",
       "                                             &#x27;bodybuilder&#x27;, &#x27;enough&#x27;, &#x27;at&#x27;,\n",
       "                                             &#x27;even&#x27;, &#x27;latterly&#x27;, &#x27;once&#x27;,\n",
       "                                             &#x27;first&#x27;, &#x27;becomes&#x27;, &#x27;others&#x27;,\n",
       "                                             &#x27;nbsp&#x27;, &#x27;whether&#x27;, &#x27;much&#x27;,\n",
       "                                             &#x27;really&#x27;, &#x27;often&#x27;, &#x27;everything&#x27;,\n",
       "                                             &#x27;below&#x27;, &#x27;noone&#x27;, &#x27;sixty&#x27;,\n",
       "                                             &#x27;former&#x27;, &#x27;whose&#x27;, &#x27;but&#x27;, &#x27;per&#x27;,\n",
       "                                             &#x27;thereupon&#x27;, &#x27;detail&#x27;, &#x27;most&#x27;,\n",
       "                                             &#x27;please&#x27;, ...])),\n",
       "                (&#x27;logreg&#x27;, LogisticRegression())])</pre></div></div></div><div class=\"sk-serial\"><div class=\"sk-item\"><div class=\"sk-estimator sk-toggleable\"><input class=\"sk-toggleable__control sk-hidden--visually\" id=\"sk-estimator-id-15\" type=\"checkbox\" ><label for=\"sk-estimator-id-15\" class=\"sk-toggleable__label sk-toggleable__label-arrow\">CountVectorizer</label><div class=\"sk-toggleable__content\"><pre>CountVectorizer(stop_words=[&#x27;further&#x27;, &#x27;move&#x27;, &#x27;many&#x27;, &#x27;he&#x27;, &#x27;bodybuilder&#x27;,\n",
       "                            &#x27;enough&#x27;, &#x27;at&#x27;, &#x27;even&#x27;, &#x27;latterly&#x27;, &#x27;once&#x27;, &#x27;first&#x27;,\n",
       "                            &#x27;becomes&#x27;, &#x27;others&#x27;, &#x27;nbsp&#x27;, &#x27;whether&#x27;, &#x27;much&#x27;,\n",
       "                            &#x27;really&#x27;, &#x27;often&#x27;, &#x27;everything&#x27;, &#x27;below&#x27;, &#x27;noone&#x27;,\n",
       "                            &#x27;sixty&#x27;, &#x27;former&#x27;, &#x27;whose&#x27;, &#x27;but&#x27;, &#x27;per&#x27;,\n",
       "                            &#x27;thereupon&#x27;, &#x27;detail&#x27;, &#x27;most&#x27;, &#x27;please&#x27;, ...])</pre></div></div></div><div class=\"sk-item\"><div class=\"sk-estimator sk-toggleable\"><input class=\"sk-toggleable__control sk-hidden--visually\" id=\"sk-estimator-id-16\" type=\"checkbox\" ><label for=\"sk-estimator-id-16\" class=\"sk-toggleable__label sk-toggleable__label-arrow\">LogisticRegression</label><div class=\"sk-toggleable__content\"><pre>LogisticRegression()</pre></div></div></div></div></div></div></div>"
      ],
      "text/plain": [
       "Pipeline(steps=[('cvect',\n",
       "                 CountVectorizer(stop_words=['further', 'move', 'many', 'he',\n",
       "                                             'bodybuilder', 'enough', 'at',\n",
       "                                             'even', 'latterly', 'once',\n",
       "                                             'first', 'becomes', 'others',\n",
       "                                             'nbsp', 'whether', 'much',\n",
       "                                             'really', 'often', 'everything',\n",
       "                                             'below', 'noone', 'sixty',\n",
       "                                             'former', 'whose', 'but', 'per',\n",
       "                                             'thereupon', 'detail', 'most',\n",
       "                                             'please', ...])),\n",
       "                ('logreg', LogisticRegression())])"
      ]
     },
     "execution_count": 32,
     "metadata": {},
     "output_type": "execute_result"
    }
   ],
   "source": [
    "pipe.fit(X_train, y_train)"
   ]
  },
  {
   "cell_type": "code",
   "execution_count": 33,
   "id": "ca92881d-676f-4f80-bc7f-4ae0d2b1cd00",
   "metadata": {},
   "outputs": [
    {
     "data": {
      "text/plain": [
       "0.9943467336683417"
      ]
     },
     "execution_count": 33,
     "metadata": {},
     "output_type": "execute_result"
    }
   ],
   "source": [
    "pipe.score(X_train, y_train)"
   ]
  },
  {
   "cell_type": "code",
   "execution_count": 34,
   "id": "c9bf5906-03f3-42b6-8fd1-72612f8ba95c",
   "metadata": {},
   "outputs": [
    {
     "data": {
      "text/plain": [
       "0.9422110552763819"
      ]
     },
     "execution_count": 34,
     "metadata": {},
     "output_type": "execute_result"
    }
   ],
   "source": [
    "pipe.score(X_test, y_test)"
   ]
  },
  {
   "cell_type": "code",
   "execution_count": 35,
   "id": "fbc7f5a3-b4b4-42ae-ac12-11cd2897abbd",
   "metadata": {},
   "outputs": [
    {
     "data": {
      "text/plain": [
       "array([-4.61819967e-02, -3.80424419e-01, -1.30103159e-01, ...,\n",
       "       -5.29530420e-07, -1.45969077e-06,  1.69906817e-02])"
      ]
     },
     "execution_count": 35,
     "metadata": {},
     "output_type": "execute_result"
    }
   ],
   "source": [
    "pipe_coef = pipe[1].coef_[0]\n",
    "pipe_coef"
   ]
  },
  {
   "cell_type": "code",
   "execution_count": 36,
   "id": "83480abd-10ba-4c14-872a-0b3b605bc96f",
   "metadata": {},
   "outputs": [
    {
     "data": {
      "text/plain": [
       "array(['000', '000kcal', '000lb', ..., 'zknuh5g8tlm', 'zone', 'zyzz'],\n",
       "      dtype=object)"
      ]
     },
     "execution_count": 36,
     "metadata": {},
     "output_type": "execute_result"
    }
   ],
   "source": [
    "pipe_features = pipe[:-1].get_feature_names_out()\n",
    "pipe_features"
   ]
  },
  {
   "cell_type": "code",
   "execution_count": 37,
   "id": "44aaf3c7-234e-4f8f-90a2-d24b4aa2cfe0",
   "metadata": {},
   "outputs": [],
   "source": [
    "pipe_coef_features = pd.DataFrame(zip(pipe_coef, pipe_features))"
   ]
  },
  {
   "cell_type": "code",
   "execution_count": 38,
   "id": "027a9fba-e65c-4892-9366-27903323025f",
   "metadata": {},
   "outputs": [
    {
     "data": {
      "text/html": [
       "<div>\n",
       "<style scoped>\n",
       "    .dataframe tbody tr th:only-of-type {\n",
       "        vertical-align: middle;\n",
       "    }\n",
       "\n",
       "    .dataframe tbody tr th {\n",
       "        vertical-align: top;\n",
       "    }\n",
       "\n",
       "    .dataframe thead th {\n",
       "        text-align: right;\n",
       "    }\n",
       "</style>\n",
       "<table border=\"1\" class=\"dataframe\">\n",
       "  <thead>\n",
       "    <tr style=\"text-align: right;\">\n",
       "      <th></th>\n",
       "      <th>0</th>\n",
       "      <th>1</th>\n",
       "    </tr>\n",
       "  </thead>\n",
       "  <tbody>\n",
       "    <tr>\n",
       "      <th>7918</th>\n",
       "      <td>1.946493</td>\n",
       "      <td>weeks</td>\n",
       "    </tr>\n",
       "    <tr>\n",
       "      <th>1731</th>\n",
       "      <td>1.672588</td>\n",
       "      <td>arnold</td>\n",
       "    </tr>\n",
       "    <tr>\n",
       "      <th>5513</th>\n",
       "      <td>1.343602</td>\n",
       "      <td>olympia</td>\n",
       "    </tr>\n",
       "    <tr>\n",
       "      <th>5768</th>\n",
       "      <td>1.310454</td>\n",
       "      <td>physique</td>\n",
       "    </tr>\n",
       "    <tr>\n",
       "      <th>4907</th>\n",
       "      <td>1.247110</td>\n",
       "      <td>looking</td>\n",
       "    </tr>\n",
       "    <tr>\n",
       "      <th>2936</th>\n",
       "      <td>1.078049</td>\n",
       "      <td>days</td>\n",
       "    </tr>\n",
       "    <tr>\n",
       "      <th>2494</th>\n",
       "      <td>0.954601</td>\n",
       "      <td>classic</td>\n",
       "    </tr>\n",
       "    <tr>\n",
       "      <th>7707</th>\n",
       "      <td>0.948901</td>\n",
       "      <td>update</td>\n",
       "    </tr>\n",
       "    <tr>\n",
       "      <th>3985</th>\n",
       "      <td>0.907263</td>\n",
       "      <td>guy</td>\n",
       "    </tr>\n",
       "    <tr>\n",
       "      <th>4614</th>\n",
       "      <td>0.899034</td>\n",
       "      <td>kai</td>\n",
       "    </tr>\n",
       "    <tr>\n",
       "      <th>2357</th>\n",
       "      <td>0.860995</td>\n",
       "      <td>cbum</td>\n",
       "    </tr>\n",
       "    <tr>\n",
       "      <th>5873</th>\n",
       "      <td>0.790744</td>\n",
       "      <td>pose</td>\n",
       "    </tr>\n",
       "    <tr>\n",
       "      <th>7044</th>\n",
       "      <td>0.779087</td>\n",
       "      <td>stage</td>\n",
       "    </tr>\n",
       "    <tr>\n",
       "      <th>3563</th>\n",
       "      <td>0.778356</td>\n",
       "      <td>favorite</td>\n",
       "    </tr>\n",
       "    <tr>\n",
       "      <th>5129</th>\n",
       "      <td>0.776191</td>\n",
       "      <td>met</td>\n",
       "    </tr>\n",
       "    <tr>\n",
       "      <th>5996</th>\n",
       "      <td>0.763798</td>\n",
       "      <td>pro</td>\n",
       "    </tr>\n",
       "    <tr>\n",
       "      <th>3906</th>\n",
       "      <td>0.762292</td>\n",
       "      <td>got</td>\n",
       "    </tr>\n",
       "    <tr>\n",
       "      <th>4046</th>\n",
       "      <td>0.737539</td>\n",
       "      <td>happy</td>\n",
       "    </tr>\n",
       "    <tr>\n",
       "      <th>6488</th>\n",
       "      <td>0.734802</td>\n",
       "      <td>ronnie</td>\n",
       "    </tr>\n",
       "    <tr>\n",
       "      <th>2905</th>\n",
       "      <td>0.720420</td>\n",
       "      <td>dad</td>\n",
       "    </tr>\n",
       "  </tbody>\n",
       "</table>\n",
       "</div>"
      ],
      "text/plain": [
       "             0         1\n",
       "7918  1.946493     weeks\n",
       "1731  1.672588    arnold\n",
       "5513  1.343602   olympia\n",
       "5768  1.310454  physique\n",
       "4907  1.247110   looking\n",
       "2936  1.078049      days\n",
       "2494  0.954601   classic\n",
       "7707  0.948901    update\n",
       "3985  0.907263       guy\n",
       "4614  0.899034       kai\n",
       "2357  0.860995      cbum\n",
       "5873  0.790744      pose\n",
       "7044  0.779087     stage\n",
       "3563  0.778356  favorite\n",
       "5129  0.776191       met\n",
       "5996  0.763798       pro\n",
       "3906  0.762292       got\n",
       "4046  0.737539     happy\n",
       "6488  0.734802    ronnie\n",
       "2905  0.720420       dad"
      ]
     },
     "execution_count": 38,
     "metadata": {},
     "output_type": "execute_result"
    }
   ],
   "source": [
    "pipe_coef_features.sort_values(by=0, ascending=False).head(20)"
   ]
  },
  {
   "cell_type": "code",
   "execution_count": 39,
   "id": "3a700d17-6f33-4b19-9735-2b11970f0884",
   "metadata": {},
   "outputs": [
    {
     "data": {
      "text/html": [
       "<div>\n",
       "<style scoped>\n",
       "    .dataframe tbody tr th:only-of-type {\n",
       "        vertical-align: middle;\n",
       "    }\n",
       "\n",
       "    .dataframe tbody tr th {\n",
       "        vertical-align: top;\n",
       "    }\n",
       "\n",
       "    .dataframe thead th {\n",
       "        text-align: right;\n",
       "    }\n",
       "</style>\n",
       "<table border=\"1\" class=\"dataframe\">\n",
       "  <thead>\n",
       "    <tr style=\"text-align: right;\">\n",
       "      <th></th>\n",
       "      <th>0</th>\n",
       "      <th>1</th>\n",
       "    </tr>\n",
       "  </thead>\n",
       "  <tbody>\n",
       "    <tr>\n",
       "      <th>7135</th>\n",
       "      <td>-1.051028</td>\n",
       "      <td>strength</td>\n",
       "    </tr>\n",
       "    <tr>\n",
       "      <th>8054</th>\n",
       "      <td>-1.061054</td>\n",
       "      <td>wraps</td>\n",
       "    </tr>\n",
       "    <tr>\n",
       "      <th>7734</th>\n",
       "      <td>-1.111063</td>\n",
       "      <td>uspa</td>\n",
       "    </tr>\n",
       "    <tr>\n",
       "      <th>5917</th>\n",
       "      <td>-1.138543</td>\n",
       "      <td>pr</td>\n",
       "    </tr>\n",
       "    <tr>\n",
       "      <th>7512</th>\n",
       "      <td>-1.154846</td>\n",
       "      <td>total</td>\n",
       "    </tr>\n",
       "    <tr>\n",
       "      <th>6093</th>\n",
       "      <td>-1.171521</td>\n",
       "      <td>pull</td>\n",
       "    </tr>\n",
       "    <tr>\n",
       "      <th>2303</th>\n",
       "      <td>-1.177331</td>\n",
       "      <td>candito</td>\n",
       "    </tr>\n",
       "    <tr>\n",
       "      <th>7516</th>\n",
       "      <td>-1.199664</td>\n",
       "      <td>totals</td>\n",
       "    </tr>\n",
       "    <tr>\n",
       "      <th>1010</th>\n",
       "      <td>-1.208706</td>\n",
       "      <td>5kg</td>\n",
       "    </tr>\n",
       "    <tr>\n",
       "      <th>4474</th>\n",
       "      <td>-1.381203</td>\n",
       "      <td>ipf</td>\n",
       "    </tr>\n",
       "    <tr>\n",
       "      <th>4637</th>\n",
       "      <td>-1.396210</td>\n",
       "      <td>kg</td>\n",
       "    </tr>\n",
       "    <tr>\n",
       "      <th>5094</th>\n",
       "      <td>-1.413839</td>\n",
       "      <td>meet</td>\n",
       "    </tr>\n",
       "    <tr>\n",
       "      <th>6198</th>\n",
       "      <td>-1.559176</td>\n",
       "      <td>raw</td>\n",
       "    </tr>\n",
       "    <tr>\n",
       "      <th>1983</th>\n",
       "      <td>-1.562871</td>\n",
       "      <td>benches</td>\n",
       "    </tr>\n",
       "    <tr>\n",
       "      <th>2956</th>\n",
       "      <td>-1.760940</td>\n",
       "      <td>deadlifts</td>\n",
       "    </tr>\n",
       "    <tr>\n",
       "      <th>1981</th>\n",
       "      <td>-1.787049</td>\n",
       "      <td>bench</td>\n",
       "    </tr>\n",
       "    <tr>\n",
       "      <th>7024</th>\n",
       "      <td>-1.990837</td>\n",
       "      <td>squats</td>\n",
       "    </tr>\n",
       "    <tr>\n",
       "      <th>6099</th>\n",
       "      <td>-2.214773</td>\n",
       "      <td>pulls</td>\n",
       "    </tr>\n",
       "    <tr>\n",
       "      <th>7022</th>\n",
       "      <td>-2.914581</td>\n",
       "      <td>squat</td>\n",
       "    </tr>\n",
       "    <tr>\n",
       "      <th>2948</th>\n",
       "      <td>-2.939610</td>\n",
       "      <td>deadlift</td>\n",
       "    </tr>\n",
       "  </tbody>\n",
       "</table>\n",
       "</div>"
      ],
      "text/plain": [
       "             0          1\n",
       "7135 -1.051028   strength\n",
       "8054 -1.061054      wraps\n",
       "7734 -1.111063       uspa\n",
       "5917 -1.138543         pr\n",
       "7512 -1.154846      total\n",
       "6093 -1.171521       pull\n",
       "2303 -1.177331    candito\n",
       "7516 -1.199664     totals\n",
       "1010 -1.208706        5kg\n",
       "4474 -1.381203        ipf\n",
       "4637 -1.396210         kg\n",
       "5094 -1.413839       meet\n",
       "6198 -1.559176        raw\n",
       "1983 -1.562871    benches\n",
       "2956 -1.760940  deadlifts\n",
       "1981 -1.787049      bench\n",
       "7024 -1.990837     squats\n",
       "6099 -2.214773      pulls\n",
       "7022 -2.914581      squat\n",
       "2948 -2.939610   deadlift"
      ]
     },
     "execution_count": 39,
     "metadata": {},
     "output_type": "execute_result"
    }
   ],
   "source": [
    "pipe_coef_features.sort_values(by=0, ascending=False).tail(20)"
   ]
  },
  {
   "cell_type": "markdown",
   "id": "b40b9944-97db-45d0-b827-5b368ef076d0",
   "metadata": {},
   "source": [
    "## LogisticRegression with CountVectorizer (GridSearchCV, added stop words)"
   ]
  },
  {
   "cell_type": "code",
   "execution_count": 40,
   "id": "a3f6a61c-12f7-41e3-9f2c-273be7f17539",
   "metadata": {},
   "outputs": [],
   "source": [
    "param_grid = {\n",
    "    'cvect__max_features': [None, 1000, 5000, 10000],\n",
    "    'cvect__ngram_range': [(1, 1), (1, 2), (1, 3)],\n",
    "    'cvect__stop_words': [None, 'english', stop_words],\n",
    "    'logreg__C': [0.01, 0.1, 1, 10, 100]\n",
    "}\n",
    "\n",
    "grid_search = GridSearchCV(pipe, param_grid=param_grid)"
   ]
  },
  {
   "cell_type": "code",
   "execution_count": 41,
   "id": "fc5add31-682e-43f4-a344-8a80180e05da",
   "metadata": {},
   "outputs": [
    {
     "data": {
      "text/html": [
       "<style>#sk-container-id-6 {color: black;background-color: white;}#sk-container-id-6 pre{padding: 0;}#sk-container-id-6 div.sk-toggleable {background-color: white;}#sk-container-id-6 label.sk-toggleable__label {cursor: pointer;display: block;width: 100%;margin-bottom: 0;padding: 0.3em;box-sizing: border-box;text-align: center;}#sk-container-id-6 label.sk-toggleable__label-arrow:before {content: \"▸\";float: left;margin-right: 0.25em;color: #696969;}#sk-container-id-6 label.sk-toggleable__label-arrow:hover:before {color: black;}#sk-container-id-6 div.sk-estimator:hover label.sk-toggleable__label-arrow:before {color: black;}#sk-container-id-6 div.sk-toggleable__content {max-height: 0;max-width: 0;overflow: hidden;text-align: left;background-color: #f0f8ff;}#sk-container-id-6 div.sk-toggleable__content pre {margin: 0.2em;color: black;border-radius: 0.25em;background-color: #f0f8ff;}#sk-container-id-6 input.sk-toggleable__control:checked~div.sk-toggleable__content {max-height: 200px;max-width: 100%;overflow: auto;}#sk-container-id-6 input.sk-toggleable__control:checked~label.sk-toggleable__label-arrow:before {content: \"▾\";}#sk-container-id-6 div.sk-estimator input.sk-toggleable__control:checked~label.sk-toggleable__label {background-color: #d4ebff;}#sk-container-id-6 div.sk-label input.sk-toggleable__control:checked~label.sk-toggleable__label {background-color: #d4ebff;}#sk-container-id-6 input.sk-hidden--visually {border: 0;clip: rect(1px 1px 1px 1px);clip: rect(1px, 1px, 1px, 1px);height: 1px;margin: -1px;overflow: hidden;padding: 0;position: absolute;width: 1px;}#sk-container-id-6 div.sk-estimator {font-family: monospace;background-color: #f0f8ff;border: 1px dotted black;border-radius: 0.25em;box-sizing: border-box;margin-bottom: 0.5em;}#sk-container-id-6 div.sk-estimator:hover {background-color: #d4ebff;}#sk-container-id-6 div.sk-parallel-item::after {content: \"\";width: 100%;border-bottom: 1px solid gray;flex-grow: 1;}#sk-container-id-6 div.sk-label:hover label.sk-toggleable__label {background-color: #d4ebff;}#sk-container-id-6 div.sk-serial::before {content: \"\";position: absolute;border-left: 1px solid gray;box-sizing: border-box;top: 0;bottom: 0;left: 50%;z-index: 0;}#sk-container-id-6 div.sk-serial {display: flex;flex-direction: column;align-items: center;background-color: white;padding-right: 0.2em;padding-left: 0.2em;position: relative;}#sk-container-id-6 div.sk-item {position: relative;z-index: 1;}#sk-container-id-6 div.sk-parallel {display: flex;align-items: stretch;justify-content: center;background-color: white;position: relative;}#sk-container-id-6 div.sk-item::before, #sk-container-id-6 div.sk-parallel-item::before {content: \"\";position: absolute;border-left: 1px solid gray;box-sizing: border-box;top: 0;bottom: 0;left: 50%;z-index: -1;}#sk-container-id-6 div.sk-parallel-item {display: flex;flex-direction: column;z-index: 1;position: relative;background-color: white;}#sk-container-id-6 div.sk-parallel-item:first-child::after {align-self: flex-end;width: 50%;}#sk-container-id-6 div.sk-parallel-item:last-child::after {align-self: flex-start;width: 50%;}#sk-container-id-6 div.sk-parallel-item:only-child::after {width: 0;}#sk-container-id-6 div.sk-dashed-wrapped {border: 1px dashed gray;margin: 0 0.4em 0.5em 0.4em;box-sizing: border-box;padding-bottom: 0.4em;background-color: white;}#sk-container-id-6 div.sk-label label {font-family: monospace;font-weight: bold;display: inline-block;line-height: 1.2em;}#sk-container-id-6 div.sk-label-container {text-align: center;}#sk-container-id-6 div.sk-container {/* jupyter's `normalize.less` sets `[hidden] { display: none; }` but bootstrap.min.css set `[hidden] { display: none !important; }` so we also need the `!important` here to be able to override the default hidden behavior on the sphinx rendered scikit-learn.org. See: https://github.com/scikit-learn/scikit-learn/issues/21755 */display: inline-block !important;position: relative;}#sk-container-id-6 div.sk-text-repr-fallback {display: none;}</style><div id=\"sk-container-id-6\" class=\"sk-top-container\"><div class=\"sk-text-repr-fallback\"><pre>GridSearchCV(estimator=Pipeline(steps=[(&#x27;cvect&#x27;,\n",
       "                                        CountVectorizer(stop_words=[&#x27;further&#x27;,\n",
       "                                                                    &#x27;move&#x27;,\n",
       "                                                                    &#x27;many&#x27;,\n",
       "                                                                    &#x27;he&#x27;,\n",
       "                                                                    &#x27;bodybuilder&#x27;,\n",
       "                                                                    &#x27;enough&#x27;,\n",
       "                                                                    &#x27;at&#x27;,\n",
       "                                                                    &#x27;even&#x27;,\n",
       "                                                                    &#x27;latterly&#x27;,\n",
       "                                                                    &#x27;once&#x27;,\n",
       "                                                                    &#x27;first&#x27;,\n",
       "                                                                    &#x27;becomes&#x27;,\n",
       "                                                                    &#x27;others&#x27;,\n",
       "                                                                    &#x27;nbsp&#x27;,\n",
       "                                                                    &#x27;whether&#x27;,\n",
       "                                                                    &#x27;much&#x27;,\n",
       "                                                                    &#x27;really&#x27;,\n",
       "                                                                    &#x27;often&#x27;,\n",
       "                                                                    &#x27;everything&#x27;,\n",
       "                                                                    &#x27;below&#x27;,\n",
       "                                                                    &#x27;noone&#x27;,\n",
       "                                                                    &#x27;sixty&#x27;,\n",
       "                                                                    &#x27;former&#x27;,\n",
       "                                                                    &#x27;whose&#x27;,\n",
       "                                                                    &#x27;but&#x27;,\n",
       "                                                                    &#x27;per&#x27;,\n",
       "                                                                    &#x27;thereupon&#x27;,\n",
       "                                                                    &#x27;detail&#x27;,\n",
       "                                                                    &#x27;most&#x27;,\n",
       "                                                                    &#x27;please&#x27;, ...])),\n",
       "                                       (&#x27;logreg&#x27;, Logi...\n",
       "                         &#x27;cvect__ngram_range&#x27;: [(1, 1), (1, 2), (1, 3)],\n",
       "                         &#x27;cvect__stop_words&#x27;: [None, &#x27;english&#x27;,\n",
       "                                               [&#x27;further&#x27;, &#x27;move&#x27;, &#x27;many&#x27;, &#x27;he&#x27;,\n",
       "                                                &#x27;bodybuilder&#x27;, &#x27;enough&#x27;, &#x27;at&#x27;,\n",
       "                                                &#x27;even&#x27;, &#x27;latterly&#x27;, &#x27;once&#x27;,\n",
       "                                                &#x27;first&#x27;, &#x27;becomes&#x27;, &#x27;others&#x27;,\n",
       "                                                &#x27;nbsp&#x27;, &#x27;whether&#x27;, &#x27;much&#x27;,\n",
       "                                                &#x27;really&#x27;, &#x27;often&#x27;, &#x27;everything&#x27;,\n",
       "                                                &#x27;below&#x27;, &#x27;noone&#x27;, &#x27;sixty&#x27;,\n",
       "                                                &#x27;former&#x27;, &#x27;whose&#x27;, &#x27;but&#x27;, &#x27;per&#x27;,\n",
       "                                                &#x27;thereupon&#x27;, &#x27;detail&#x27;, &#x27;most&#x27;,\n",
       "                                                &#x27;please&#x27;, ...]],\n",
       "                         &#x27;logreg__C&#x27;: [0.01, 0.1, 1, 10, 100]})</pre><b>In a Jupyter environment, please rerun this cell to show the HTML representation or trust the notebook. <br />On GitHub, the HTML representation is unable to render, please try loading this page with nbviewer.org.</b></div><div class=\"sk-container\" hidden><div class=\"sk-item sk-dashed-wrapped\"><div class=\"sk-label-container\"><div class=\"sk-label sk-toggleable\"><input class=\"sk-toggleable__control sk-hidden--visually\" id=\"sk-estimator-id-17\" type=\"checkbox\" ><label for=\"sk-estimator-id-17\" class=\"sk-toggleable__label sk-toggleable__label-arrow\">GridSearchCV</label><div class=\"sk-toggleable__content\"><pre>GridSearchCV(estimator=Pipeline(steps=[(&#x27;cvect&#x27;,\n",
       "                                        CountVectorizer(stop_words=[&#x27;further&#x27;,\n",
       "                                                                    &#x27;move&#x27;,\n",
       "                                                                    &#x27;many&#x27;,\n",
       "                                                                    &#x27;he&#x27;,\n",
       "                                                                    &#x27;bodybuilder&#x27;,\n",
       "                                                                    &#x27;enough&#x27;,\n",
       "                                                                    &#x27;at&#x27;,\n",
       "                                                                    &#x27;even&#x27;,\n",
       "                                                                    &#x27;latterly&#x27;,\n",
       "                                                                    &#x27;once&#x27;,\n",
       "                                                                    &#x27;first&#x27;,\n",
       "                                                                    &#x27;becomes&#x27;,\n",
       "                                                                    &#x27;others&#x27;,\n",
       "                                                                    &#x27;nbsp&#x27;,\n",
       "                                                                    &#x27;whether&#x27;,\n",
       "                                                                    &#x27;much&#x27;,\n",
       "                                                                    &#x27;really&#x27;,\n",
       "                                                                    &#x27;often&#x27;,\n",
       "                                                                    &#x27;everything&#x27;,\n",
       "                                                                    &#x27;below&#x27;,\n",
       "                                                                    &#x27;noone&#x27;,\n",
       "                                                                    &#x27;sixty&#x27;,\n",
       "                                                                    &#x27;former&#x27;,\n",
       "                                                                    &#x27;whose&#x27;,\n",
       "                                                                    &#x27;but&#x27;,\n",
       "                                                                    &#x27;per&#x27;,\n",
       "                                                                    &#x27;thereupon&#x27;,\n",
       "                                                                    &#x27;detail&#x27;,\n",
       "                                                                    &#x27;most&#x27;,\n",
       "                                                                    &#x27;please&#x27;, ...])),\n",
       "                                       (&#x27;logreg&#x27;, Logi...\n",
       "                         &#x27;cvect__ngram_range&#x27;: [(1, 1), (1, 2), (1, 3)],\n",
       "                         &#x27;cvect__stop_words&#x27;: [None, &#x27;english&#x27;,\n",
       "                                               [&#x27;further&#x27;, &#x27;move&#x27;, &#x27;many&#x27;, &#x27;he&#x27;,\n",
       "                                                &#x27;bodybuilder&#x27;, &#x27;enough&#x27;, &#x27;at&#x27;,\n",
       "                                                &#x27;even&#x27;, &#x27;latterly&#x27;, &#x27;once&#x27;,\n",
       "                                                &#x27;first&#x27;, &#x27;becomes&#x27;, &#x27;others&#x27;,\n",
       "                                                &#x27;nbsp&#x27;, &#x27;whether&#x27;, &#x27;much&#x27;,\n",
       "                                                &#x27;really&#x27;, &#x27;often&#x27;, &#x27;everything&#x27;,\n",
       "                                                &#x27;below&#x27;, &#x27;noone&#x27;, &#x27;sixty&#x27;,\n",
       "                                                &#x27;former&#x27;, &#x27;whose&#x27;, &#x27;but&#x27;, &#x27;per&#x27;,\n",
       "                                                &#x27;thereupon&#x27;, &#x27;detail&#x27;, &#x27;most&#x27;,\n",
       "                                                &#x27;please&#x27;, ...]],\n",
       "                         &#x27;logreg__C&#x27;: [0.01, 0.1, 1, 10, 100]})</pre></div></div></div><div class=\"sk-parallel\"><div class=\"sk-parallel-item\"><div class=\"sk-item\"><div class=\"sk-label-container\"><div class=\"sk-label sk-toggleable\"><input class=\"sk-toggleable__control sk-hidden--visually\" id=\"sk-estimator-id-18\" type=\"checkbox\" ><label for=\"sk-estimator-id-18\" class=\"sk-toggleable__label sk-toggleable__label-arrow\">estimator: Pipeline</label><div class=\"sk-toggleable__content\"><pre>Pipeline(steps=[(&#x27;cvect&#x27;,\n",
       "                 CountVectorizer(stop_words=[&#x27;further&#x27;, &#x27;move&#x27;, &#x27;many&#x27;, &#x27;he&#x27;,\n",
       "                                             &#x27;bodybuilder&#x27;, &#x27;enough&#x27;, &#x27;at&#x27;,\n",
       "                                             &#x27;even&#x27;, &#x27;latterly&#x27;, &#x27;once&#x27;,\n",
       "                                             &#x27;first&#x27;, &#x27;becomes&#x27;, &#x27;others&#x27;,\n",
       "                                             &#x27;nbsp&#x27;, &#x27;whether&#x27;, &#x27;much&#x27;,\n",
       "                                             &#x27;really&#x27;, &#x27;often&#x27;, &#x27;everything&#x27;,\n",
       "                                             &#x27;below&#x27;, &#x27;noone&#x27;, &#x27;sixty&#x27;,\n",
       "                                             &#x27;former&#x27;, &#x27;whose&#x27;, &#x27;but&#x27;, &#x27;per&#x27;,\n",
       "                                             &#x27;thereupon&#x27;, &#x27;detail&#x27;, &#x27;most&#x27;,\n",
       "                                             &#x27;please&#x27;, ...])),\n",
       "                (&#x27;logreg&#x27;, LogisticRegression())])</pre></div></div></div><div class=\"sk-serial\"><div class=\"sk-item\"><div class=\"sk-serial\"><div class=\"sk-item\"><div class=\"sk-estimator sk-toggleable\"><input class=\"sk-toggleable__control sk-hidden--visually\" id=\"sk-estimator-id-19\" type=\"checkbox\" ><label for=\"sk-estimator-id-19\" class=\"sk-toggleable__label sk-toggleable__label-arrow\">CountVectorizer</label><div class=\"sk-toggleable__content\"><pre>CountVectorizer(stop_words=[&#x27;further&#x27;, &#x27;move&#x27;, &#x27;many&#x27;, &#x27;he&#x27;, &#x27;bodybuilder&#x27;,\n",
       "                            &#x27;enough&#x27;, &#x27;at&#x27;, &#x27;even&#x27;, &#x27;latterly&#x27;, &#x27;once&#x27;, &#x27;first&#x27;,\n",
       "                            &#x27;becomes&#x27;, &#x27;others&#x27;, &#x27;nbsp&#x27;, &#x27;whether&#x27;, &#x27;much&#x27;,\n",
       "                            &#x27;really&#x27;, &#x27;often&#x27;, &#x27;everything&#x27;, &#x27;below&#x27;, &#x27;noone&#x27;,\n",
       "                            &#x27;sixty&#x27;, &#x27;former&#x27;, &#x27;whose&#x27;, &#x27;but&#x27;, &#x27;per&#x27;,\n",
       "                            &#x27;thereupon&#x27;, &#x27;detail&#x27;, &#x27;most&#x27;, &#x27;please&#x27;, ...])</pre></div></div></div><div class=\"sk-item\"><div class=\"sk-estimator sk-toggleable\"><input class=\"sk-toggleable__control sk-hidden--visually\" id=\"sk-estimator-id-20\" type=\"checkbox\" ><label for=\"sk-estimator-id-20\" class=\"sk-toggleable__label sk-toggleable__label-arrow\">LogisticRegression</label><div class=\"sk-toggleable__content\"><pre>LogisticRegression()</pre></div></div></div></div></div></div></div></div></div></div></div></div>"
      ],
      "text/plain": [
       "GridSearchCV(estimator=Pipeline(steps=[('cvect',\n",
       "                                        CountVectorizer(stop_words=['further',\n",
       "                                                                    'move',\n",
       "                                                                    'many',\n",
       "                                                                    'he',\n",
       "                                                                    'bodybuilder',\n",
       "                                                                    'enough',\n",
       "                                                                    'at',\n",
       "                                                                    'even',\n",
       "                                                                    'latterly',\n",
       "                                                                    'once',\n",
       "                                                                    'first',\n",
       "                                                                    'becomes',\n",
       "                                                                    'others',\n",
       "                                                                    'nbsp',\n",
       "                                                                    'whether',\n",
       "                                                                    'much',\n",
       "                                                                    'really',\n",
       "                                                                    'often',\n",
       "                                                                    'everything',\n",
       "                                                                    'below',\n",
       "                                                                    'noone',\n",
       "                                                                    'sixty',\n",
       "                                                                    'former',\n",
       "                                                                    'whose',\n",
       "                                                                    'but',\n",
       "                                                                    'per',\n",
       "                                                                    'thereupon',\n",
       "                                                                    'detail',\n",
       "                                                                    'most',\n",
       "                                                                    'please', ...])),\n",
       "                                       ('logreg', Logi...\n",
       "                         'cvect__ngram_range': [(1, 1), (1, 2), (1, 3)],\n",
       "                         'cvect__stop_words': [None, 'english',\n",
       "                                               ['further', 'move', 'many', 'he',\n",
       "                                                'bodybuilder', 'enough', 'at',\n",
       "                                                'even', 'latterly', 'once',\n",
       "                                                'first', 'becomes', 'others',\n",
       "                                                'nbsp', 'whether', 'much',\n",
       "                                                'really', 'often', 'everything',\n",
       "                                                'below', 'noone', 'sixty',\n",
       "                                                'former', 'whose', 'but', 'per',\n",
       "                                                'thereupon', 'detail', 'most',\n",
       "                                                'please', ...]],\n",
       "                         'logreg__C': [0.01, 0.1, 1, 10, 100]})"
      ]
     },
     "execution_count": 41,
     "metadata": {},
     "output_type": "execute_result"
    }
   ],
   "source": [
    "grid_search.fit(X_train, y_train)"
   ]
  },
  {
   "cell_type": "code",
   "execution_count": 42,
   "id": "ea5c69a6-64f2-4208-a4bb-81dbc940be04",
   "metadata": {},
   "outputs": [
    {
     "data": {
      "text/plain": [
       "{'cvect__max_features': 10000,\n",
       " 'cvect__ngram_range': (1, 3),\n",
       " 'cvect__stop_words': 'english',\n",
       " 'logreg__C': 10}"
      ]
     },
     "execution_count": 42,
     "metadata": {},
     "output_type": "execute_result"
    }
   ],
   "source": [
    "grid_search.best_params_"
   ]
  },
  {
   "cell_type": "code",
   "execution_count": 43,
   "id": "44b8516c-62f5-4ea8-8bb8-2ded7f7c6aa8",
   "metadata": {},
   "outputs": [
    {
     "data": {
      "text/plain": [
       "0.9981155778894473"
      ]
     },
     "execution_count": 43,
     "metadata": {},
     "output_type": "execute_result"
    }
   ],
   "source": [
    "grid_search.score(X_train, y_train)"
   ]
  },
  {
   "cell_type": "code",
   "execution_count": 44,
   "id": "0ad68b0b-61ed-4140-ba54-fc3e24aa7a41",
   "metadata": {},
   "outputs": [
    {
     "data": {
      "text/plain": [
       "0.957286432160804"
      ]
     },
     "execution_count": 44,
     "metadata": {},
     "output_type": "execute_result"
    }
   ],
   "source": [
    "grid_search.score(X_test, y_test)"
   ]
  },
  {
   "cell_type": "code",
   "execution_count": 45,
   "id": "bd19dcac-09db-4e29-bed4-187ef5cd06cf",
   "metadata": {},
   "outputs": [],
   "source": [
    "preds = grid_search.predict(X_test)"
   ]
  },
  {
   "cell_type": "code",
   "execution_count": 46,
   "id": "11f7d4bb-5347-4f81-9768-86ff9ac9c5ff",
   "metadata": {},
   "outputs": [],
   "source": [
    "tn, fp, fn, tp = confusion_matrix(y_test, preds).ravel()"
   ]
  },
  {
   "cell_type": "code",
   "execution_count": 47,
   "id": "77cf0fa1-353e-4623-a016-57ccae273ca5",
   "metadata": {},
   "outputs": [
    {
     "data": {
      "image/png": "[encoded data removed]",
      "text/plain": [
       "<Figure size 800x600 with 2 Axes>"
      ]
     },
     "metadata": {},
     "output_type": "display_data"
    }
   ],
   "source": [
    "# display confusion matrix for train data\n",
    "fig, ax = plt.subplots(figsize=(8, 6))\n",
    "ConfusionMatrixDisplay.from_estimator(grid_search, X_train, y_train, cmap='Blues', ax=ax, display_labels=['Powerlifting', 'Bodybuilding']);"
   ]
  },
  {
   "cell_type": "code",
   "execution_count": 48,
   "id": "99602ed0-0515-4ff1-8ddd-961d9f76971b",
   "metadata": {},
   "outputs": [
    {
     "data": {
      "image/png": "[encoded data removed]",
      "text/plain": [
       "<Figure size 800x600 with 2 Axes>"
      ]
     },
     "metadata": {},
     "output_type": "display_data"
    }
   ],
   "source": [
    "# display confusion matrix for test data\n",
    "fig, ax = plt.subplots(figsize=(8, 6))\n",
    "ConfusionMatrixDisplay.from_estimator(grid_search, X_test, y_test, cmap='Blues', ax=ax, display_labels=['Powerlifting', 'Bodybuilding']);"
   ]
  },
  {
   "cell_type": "code",
   "execution_count": 49,
   "id": "e3048a0a-201b-44ca-b332-71de03d57274",
   "metadata": {},
   "outputs": [
    {
     "name": "stdout",
     "output_type": "stream",
     "text": [
      "              precision    recall  f1-score   support\n",
      "\n",
      "           1       0.99      0.93      0.96       200\n",
      "           2       0.93      0.99      0.96       198\n",
      "\n",
      "    accuracy                           0.96       398\n",
      "   macro avg       0.96      0.96      0.96       398\n",
      "weighted avg       0.96      0.96      0.96       398\n",
      "\n"
     ]
    }
   ],
   "source": [
    "print(classification_report(y_test, preds))"
   ]
  },
  {
   "cell_type": "markdown",
   "id": "14583add-17c6-4e77-b637-025f39e6bb97",
   "metadata": {},
   "source": [
    "## LogisticRegression with TfidfVectorizer"
   ]
  },
  {
   "cell_type": "code",
   "execution_count": 50,
   "id": "72ae3ee9-e96d-491c-b7ae-b73a2b4b0aee",
   "metadata": {},
   "outputs": [
    {
     "data": {
      "text/html": [
       "<style>#sk-container-id-7 {color: black;background-color: white;}#sk-container-id-7 pre{padding: 0;}#sk-container-id-7 div.sk-toggleable {background-color: white;}#sk-container-id-7 label.sk-toggleable__label {cursor: pointer;display: block;width: 100%;margin-bottom: 0;padding: 0.3em;box-sizing: border-box;text-align: center;}#sk-container-id-7 label.sk-toggleable__label-arrow:before {content: \"▸\";float: left;margin-right: 0.25em;color: #696969;}#sk-container-id-7 label.sk-toggleable__label-arrow:hover:before {color: black;}#sk-container-id-7 div.sk-estimator:hover label.sk-toggleable__label-arrow:before {color: black;}#sk-container-id-7 div.sk-toggleable__content {max-height: 0;max-width: 0;overflow: hidden;text-align: left;background-color: #f0f8ff;}#sk-container-id-7 div.sk-toggleable__content pre {margin: 0.2em;color: black;border-radius: 0.25em;background-color: #f0f8ff;}#sk-container-id-7 input.sk-toggleable__control:checked~div.sk-toggleable__content {max-height: 200px;max-width: 100%;overflow: auto;}#sk-container-id-7 input.sk-toggleable__control:checked~label.sk-toggleable__label-arrow:before {content: \"▾\";}#sk-container-id-7 div.sk-estimator input.sk-toggleable__control:checked~label.sk-toggleable__label {background-color: #d4ebff;}#sk-container-id-7 div.sk-label input.sk-toggleable__control:checked~label.sk-toggleable__label {background-color: #d4ebff;}#sk-container-id-7 input.sk-hidden--visually {border: 0;clip: rect(1px 1px 1px 1px);clip: rect(1px, 1px, 1px, 1px);height: 1px;margin: -1px;overflow: hidden;padding: 0;position: absolute;width: 1px;}#sk-container-id-7 div.sk-estimator {font-family: monospace;background-color: #f0f8ff;border: 1px dotted black;border-radius: 0.25em;box-sizing: border-box;margin-bottom: 0.5em;}#sk-container-id-7 div.sk-estimator:hover {background-color: #d4ebff;}#sk-container-id-7 div.sk-parallel-item::after {content: \"\";width: 100%;border-bottom: 1px solid gray;flex-grow: 1;}#sk-container-id-7 div.sk-label:hover label.sk-toggleable__label {background-color: #d4ebff;}#sk-container-id-7 div.sk-serial::before {content: \"\";position: absolute;border-left: 1px solid gray;box-sizing: border-box;top: 0;bottom: 0;left: 50%;z-index: 0;}#sk-container-id-7 div.sk-serial {display: flex;flex-direction: column;align-items: center;background-color: white;padding-right: 0.2em;padding-left: 0.2em;position: relative;}#sk-container-id-7 div.sk-item {position: relative;z-index: 1;}#sk-container-id-7 div.sk-parallel {display: flex;align-items: stretch;justify-content: center;background-color: white;position: relative;}#sk-container-id-7 div.sk-item::before, #sk-container-id-7 div.sk-parallel-item::before {content: \"\";position: absolute;border-left: 1px solid gray;box-sizing: border-box;top: 0;bottom: 0;left: 50%;z-index: -1;}#sk-container-id-7 div.sk-parallel-item {display: flex;flex-direction: column;z-index: 1;position: relative;background-color: white;}#sk-container-id-7 div.sk-parallel-item:first-child::after {align-self: flex-end;width: 50%;}#sk-container-id-7 div.sk-parallel-item:last-child::after {align-self: flex-start;width: 50%;}#sk-container-id-7 div.sk-parallel-item:only-child::after {width: 0;}#sk-container-id-7 div.sk-dashed-wrapped {border: 1px dashed gray;margin: 0 0.4em 0.5em 0.4em;box-sizing: border-box;padding-bottom: 0.4em;background-color: white;}#sk-container-id-7 div.sk-label label {font-family: monospace;font-weight: bold;display: inline-block;line-height: 1.2em;}#sk-container-id-7 div.sk-label-container {text-align: center;}#sk-container-id-7 div.sk-container {/* jupyter's `normalize.less` sets `[hidden] { display: none; }` but bootstrap.min.css set `[hidden] { display: none !important; }` so we also need the `!important` here to be able to override the default hidden behavior on the sphinx rendered scikit-learn.org. See: https://github.com/scikit-learn/scikit-learn/issues/21755 */display: inline-block !important;position: relative;}#sk-container-id-7 div.sk-text-repr-fallback {display: none;}</style><div id=\"sk-container-id-7\" class=\"sk-top-container\"><div class=\"sk-text-repr-fallback\"><pre>Pipeline(steps=[(&#x27;tfidf&#x27;,\n",
       "                 TfidfVectorizer(stop_words=[&#x27;further&#x27;, &#x27;move&#x27;, &#x27;many&#x27;, &#x27;he&#x27;,\n",
       "                                             &#x27;bodybuilder&#x27;, &#x27;enough&#x27;, &#x27;at&#x27;,\n",
       "                                             &#x27;even&#x27;, &#x27;latterly&#x27;, &#x27;once&#x27;,\n",
       "                                             &#x27;first&#x27;, &#x27;becomes&#x27;, &#x27;others&#x27;,\n",
       "                                             &#x27;nbsp&#x27;, &#x27;whether&#x27;, &#x27;much&#x27;,\n",
       "                                             &#x27;really&#x27;, &#x27;often&#x27;, &#x27;everything&#x27;,\n",
       "                                             &#x27;below&#x27;, &#x27;noone&#x27;, &#x27;sixty&#x27;,\n",
       "                                             &#x27;former&#x27;, &#x27;whose&#x27;, &#x27;but&#x27;, &#x27;per&#x27;,\n",
       "                                             &#x27;thereupon&#x27;, &#x27;detail&#x27;, &#x27;most&#x27;,\n",
       "                                             &#x27;please&#x27;, ...])),\n",
       "                (&#x27;logreg&#x27;, LogisticRegression())])</pre><b>In a Jupyter environment, please rerun this cell to show the HTML representation or trust the notebook. <br />On GitHub, the HTML representation is unable to render, please try loading this page with nbviewer.org.</b></div><div class=\"sk-container\" hidden><div class=\"sk-item sk-dashed-wrapped\"><div class=\"sk-label-container\"><div class=\"sk-label sk-toggleable\"><input class=\"sk-toggleable__control sk-hidden--visually\" id=\"sk-estimator-id-21\" type=\"checkbox\" ><label for=\"sk-estimator-id-21\" class=\"sk-toggleable__label sk-toggleable__label-arrow\">Pipeline</label><div class=\"sk-toggleable__content\"><pre>Pipeline(steps=[(&#x27;tfidf&#x27;,\n",
       "                 TfidfVectorizer(stop_words=[&#x27;further&#x27;, &#x27;move&#x27;, &#x27;many&#x27;, &#x27;he&#x27;,\n",
       "                                             &#x27;bodybuilder&#x27;, &#x27;enough&#x27;, &#x27;at&#x27;,\n",
       "                                             &#x27;even&#x27;, &#x27;latterly&#x27;, &#x27;once&#x27;,\n",
       "                                             &#x27;first&#x27;, &#x27;becomes&#x27;, &#x27;others&#x27;,\n",
       "                                             &#x27;nbsp&#x27;, &#x27;whether&#x27;, &#x27;much&#x27;,\n",
       "                                             &#x27;really&#x27;, &#x27;often&#x27;, &#x27;everything&#x27;,\n",
       "                                             &#x27;below&#x27;, &#x27;noone&#x27;, &#x27;sixty&#x27;,\n",
       "                                             &#x27;former&#x27;, &#x27;whose&#x27;, &#x27;but&#x27;, &#x27;per&#x27;,\n",
       "                                             &#x27;thereupon&#x27;, &#x27;detail&#x27;, &#x27;most&#x27;,\n",
       "                                             &#x27;please&#x27;, ...])),\n",
       "                (&#x27;logreg&#x27;, LogisticRegression())])</pre></div></div></div><div class=\"sk-serial\"><div class=\"sk-item\"><div class=\"sk-estimator sk-toggleable\"><input class=\"sk-toggleable__control sk-hidden--visually\" id=\"sk-estimator-id-22\" type=\"checkbox\" ><label for=\"sk-estimator-id-22\" class=\"sk-toggleable__label sk-toggleable__label-arrow\">TfidfVectorizer</label><div class=\"sk-toggleable__content\"><pre>TfidfVectorizer(stop_words=[&#x27;further&#x27;, &#x27;move&#x27;, &#x27;many&#x27;, &#x27;he&#x27;, &#x27;bodybuilder&#x27;,\n",
       "                            &#x27;enough&#x27;, &#x27;at&#x27;, &#x27;even&#x27;, &#x27;latterly&#x27;, &#x27;once&#x27;, &#x27;first&#x27;,\n",
       "                            &#x27;becomes&#x27;, &#x27;others&#x27;, &#x27;nbsp&#x27;, &#x27;whether&#x27;, &#x27;much&#x27;,\n",
       "                            &#x27;really&#x27;, &#x27;often&#x27;, &#x27;everything&#x27;, &#x27;below&#x27;, &#x27;noone&#x27;,\n",
       "                            &#x27;sixty&#x27;, &#x27;former&#x27;, &#x27;whose&#x27;, &#x27;but&#x27;, &#x27;per&#x27;,\n",
       "                            &#x27;thereupon&#x27;, &#x27;detail&#x27;, &#x27;most&#x27;, &#x27;please&#x27;, ...])</pre></div></div></div><div class=\"sk-item\"><div class=\"sk-estimator sk-toggleable\"><input class=\"sk-toggleable__control sk-hidden--visually\" id=\"sk-estimator-id-23\" type=\"checkbox\" ><label for=\"sk-estimator-id-23\" class=\"sk-toggleable__label sk-toggleable__label-arrow\">LogisticRegression</label><div class=\"sk-toggleable__content\"><pre>LogisticRegression()</pre></div></div></div></div></div></div></div>"
      ],
      "text/plain": [
       "Pipeline(steps=[('tfidf',\n",
       "                 TfidfVectorizer(stop_words=['further', 'move', 'many', 'he',\n",
       "                                             'bodybuilder', 'enough', 'at',\n",
       "                                             'even', 'latterly', 'once',\n",
       "                                             'first', 'becomes', 'others',\n",
       "                                             'nbsp', 'whether', 'much',\n",
       "                                             'really', 'often', 'everything',\n",
       "                                             'below', 'noone', 'sixty',\n",
       "                                             'former', 'whose', 'but', 'per',\n",
       "                                             'thereupon', 'detail', 'most',\n",
       "                                             'please', ...])),\n",
       "                ('logreg', LogisticRegression())])"
      ]
     },
     "execution_count": 50,
     "metadata": {},
     "output_type": "execute_result"
    }
   ],
   "source": [
    "pipe = Pipeline([\n",
    "    ('tfidf', TfidfVectorizer(stop_words=stop_words)),\n",
    "    ('logreg', LogisticRegression())\n",
    "])\n",
    "pipe"
   ]
  },
  {
   "cell_type": "code",
   "execution_count": 51,
   "id": "cef66d34-d96f-4b2c-8454-4992e1386d50",
   "metadata": {},
   "outputs": [
    {
     "data": {
      "text/html": [
       "<style>#sk-container-id-8 {color: black;background-color: white;}#sk-container-id-8 pre{padding: 0;}#sk-container-id-8 div.sk-toggleable {background-color: white;}#sk-container-id-8 label.sk-toggleable__label {cursor: pointer;display: block;width: 100%;margin-bottom: 0;padding: 0.3em;box-sizing: border-box;text-align: center;}#sk-container-id-8 label.sk-toggleable__label-arrow:before {content: \"▸\";float: left;margin-right: 0.25em;color: #696969;}#sk-container-id-8 label.sk-toggleable__label-arrow:hover:before {color: black;}#sk-container-id-8 div.sk-estimator:hover label.sk-toggleable__label-arrow:before {color: black;}#sk-container-id-8 div.sk-toggleable__content {max-height: 0;max-width: 0;overflow: hidden;text-align: left;background-color: #f0f8ff;}#sk-container-id-8 div.sk-toggleable__content pre {margin: 0.2em;color: black;border-radius: 0.25em;background-color: #f0f8ff;}#sk-container-id-8 input.sk-toggleable__control:checked~div.sk-toggleable__content {max-height: 200px;max-width: 100%;overflow: auto;}#sk-container-id-8 input.sk-toggleable__control:checked~label.sk-toggleable__label-arrow:before {content: \"▾\";}#sk-container-id-8 div.sk-estimator input.sk-toggleable__control:checked~label.sk-toggleable__label {background-color: #d4ebff;}#sk-container-id-8 div.sk-label input.sk-toggleable__control:checked~label.sk-toggleable__label {background-color: #d4ebff;}#sk-container-id-8 input.sk-hidden--visually {border: 0;clip: rect(1px 1px 1px 1px);clip: rect(1px, 1px, 1px, 1px);height: 1px;margin: -1px;overflow: hidden;padding: 0;position: absolute;width: 1px;}#sk-container-id-8 div.sk-estimator {font-family: monospace;background-color: #f0f8ff;border: 1px dotted black;border-radius: 0.25em;box-sizing: border-box;margin-bottom: 0.5em;}#sk-container-id-8 div.sk-estimator:hover {background-color: #d4ebff;}#sk-container-id-8 div.sk-parallel-item::after {content: \"\";width: 100%;border-bottom: 1px solid gray;flex-grow: 1;}#sk-container-id-8 div.sk-label:hover label.sk-toggleable__label {background-color: #d4ebff;}#sk-container-id-8 div.sk-serial::before {content: \"\";position: absolute;border-left: 1px solid gray;box-sizing: border-box;top: 0;bottom: 0;left: 50%;z-index: 0;}#sk-container-id-8 div.sk-serial {display: flex;flex-direction: column;align-items: center;background-color: white;padding-right: 0.2em;padding-left: 0.2em;position: relative;}#sk-container-id-8 div.sk-item {position: relative;z-index: 1;}#sk-container-id-8 div.sk-parallel {display: flex;align-items: stretch;justify-content: center;background-color: white;position: relative;}#sk-container-id-8 div.sk-item::before, #sk-container-id-8 div.sk-parallel-item::before {content: \"\";position: absolute;border-left: 1px solid gray;box-sizing: border-box;top: 0;bottom: 0;left: 50%;z-index: -1;}#sk-container-id-8 div.sk-parallel-item {display: flex;flex-direction: column;z-index: 1;position: relative;background-color: white;}#sk-container-id-8 div.sk-parallel-item:first-child::after {align-self: flex-end;width: 50%;}#sk-container-id-8 div.sk-parallel-item:last-child::after {align-self: flex-start;width: 50%;}#sk-container-id-8 div.sk-parallel-item:only-child::after {width: 0;}#sk-container-id-8 div.sk-dashed-wrapped {border: 1px dashed gray;margin: 0 0.4em 0.5em 0.4em;box-sizing: border-box;padding-bottom: 0.4em;background-color: white;}#sk-container-id-8 div.sk-label label {font-family: monospace;font-weight: bold;display: inline-block;line-height: 1.2em;}#sk-container-id-8 div.sk-label-container {text-align: center;}#sk-container-id-8 div.sk-container {/* jupyter's `normalize.less` sets `[hidden] { display: none; }` but bootstrap.min.css set `[hidden] { display: none !important; }` so we also need the `!important` here to be able to override the default hidden behavior on the sphinx rendered scikit-learn.org. See: https://github.com/scikit-learn/scikit-learn/issues/21755 */display: inline-block !important;position: relative;}#sk-container-id-8 div.sk-text-repr-fallback {display: none;}</style><div id=\"sk-container-id-8\" class=\"sk-top-container\"><div class=\"sk-text-repr-fallback\"><pre>Pipeline(steps=[(&#x27;tfidf&#x27;,\n",
       "                 TfidfVectorizer(stop_words=[&#x27;further&#x27;, &#x27;move&#x27;, &#x27;many&#x27;, &#x27;he&#x27;,\n",
       "                                             &#x27;bodybuilder&#x27;, &#x27;enough&#x27;, &#x27;at&#x27;,\n",
       "                                             &#x27;even&#x27;, &#x27;latterly&#x27;, &#x27;once&#x27;,\n",
       "                                             &#x27;first&#x27;, &#x27;becomes&#x27;, &#x27;others&#x27;,\n",
       "                                             &#x27;nbsp&#x27;, &#x27;whether&#x27;, &#x27;much&#x27;,\n",
       "                                             &#x27;really&#x27;, &#x27;often&#x27;, &#x27;everything&#x27;,\n",
       "                                             &#x27;below&#x27;, &#x27;noone&#x27;, &#x27;sixty&#x27;,\n",
       "                                             &#x27;former&#x27;, &#x27;whose&#x27;, &#x27;but&#x27;, &#x27;per&#x27;,\n",
       "                                             &#x27;thereupon&#x27;, &#x27;detail&#x27;, &#x27;most&#x27;,\n",
       "                                             &#x27;please&#x27;, ...])),\n",
       "                (&#x27;logreg&#x27;, LogisticRegression())])</pre><b>In a Jupyter environment, please rerun this cell to show the HTML representation or trust the notebook. <br />On GitHub, the HTML representation is unable to render, please try loading this page with nbviewer.org.</b></div><div class=\"sk-container\" hidden><div class=\"sk-item sk-dashed-wrapped\"><div class=\"sk-label-container\"><div class=\"sk-label sk-toggleable\"><input class=\"sk-toggleable__control sk-hidden--visually\" id=\"sk-estimator-id-24\" type=\"checkbox\" ><label for=\"sk-estimator-id-24\" class=\"sk-toggleable__label sk-toggleable__label-arrow\">Pipeline</label><div class=\"sk-toggleable__content\"><pre>Pipeline(steps=[(&#x27;tfidf&#x27;,\n",
       "                 TfidfVectorizer(stop_words=[&#x27;further&#x27;, &#x27;move&#x27;, &#x27;many&#x27;, &#x27;he&#x27;,\n",
       "                                             &#x27;bodybuilder&#x27;, &#x27;enough&#x27;, &#x27;at&#x27;,\n",
       "                                             &#x27;even&#x27;, &#x27;latterly&#x27;, &#x27;once&#x27;,\n",
       "                                             &#x27;first&#x27;, &#x27;becomes&#x27;, &#x27;others&#x27;,\n",
       "                                             &#x27;nbsp&#x27;, &#x27;whether&#x27;, &#x27;much&#x27;,\n",
       "                                             &#x27;really&#x27;, &#x27;often&#x27;, &#x27;everything&#x27;,\n",
       "                                             &#x27;below&#x27;, &#x27;noone&#x27;, &#x27;sixty&#x27;,\n",
       "                                             &#x27;former&#x27;, &#x27;whose&#x27;, &#x27;but&#x27;, &#x27;per&#x27;,\n",
       "                                             &#x27;thereupon&#x27;, &#x27;detail&#x27;, &#x27;most&#x27;,\n",
       "                                             &#x27;please&#x27;, ...])),\n",
       "                (&#x27;logreg&#x27;, LogisticRegression())])</pre></div></div></div><div class=\"sk-serial\"><div class=\"sk-item\"><div class=\"sk-estimator sk-toggleable\"><input class=\"sk-toggleable__control sk-hidden--visually\" id=\"sk-estimator-id-25\" type=\"checkbox\" ><label for=\"sk-estimator-id-25\" class=\"sk-toggleable__label sk-toggleable__label-arrow\">TfidfVectorizer</label><div class=\"sk-toggleable__content\"><pre>TfidfVectorizer(stop_words=[&#x27;further&#x27;, &#x27;move&#x27;, &#x27;many&#x27;, &#x27;he&#x27;, &#x27;bodybuilder&#x27;,\n",
       "                            &#x27;enough&#x27;, &#x27;at&#x27;, &#x27;even&#x27;, &#x27;latterly&#x27;, &#x27;once&#x27;, &#x27;first&#x27;,\n",
       "                            &#x27;becomes&#x27;, &#x27;others&#x27;, &#x27;nbsp&#x27;, &#x27;whether&#x27;, &#x27;much&#x27;,\n",
       "                            &#x27;really&#x27;, &#x27;often&#x27;, &#x27;everything&#x27;, &#x27;below&#x27;, &#x27;noone&#x27;,\n",
       "                            &#x27;sixty&#x27;, &#x27;former&#x27;, &#x27;whose&#x27;, &#x27;but&#x27;, &#x27;per&#x27;,\n",
       "                            &#x27;thereupon&#x27;, &#x27;detail&#x27;, &#x27;most&#x27;, &#x27;please&#x27;, ...])</pre></div></div></div><div class=\"sk-item\"><div class=\"sk-estimator sk-toggleable\"><input class=\"sk-toggleable__control sk-hidden--visually\" id=\"sk-estimator-id-26\" type=\"checkbox\" ><label for=\"sk-estimator-id-26\" class=\"sk-toggleable__label sk-toggleable__label-arrow\">LogisticRegression</label><div class=\"sk-toggleable__content\"><pre>LogisticRegression()</pre></div></div></div></div></div></div></div>"
      ],
      "text/plain": [
       "Pipeline(steps=[('tfidf',\n",
       "                 TfidfVectorizer(stop_words=['further', 'move', 'many', 'he',\n",
       "                                             'bodybuilder', 'enough', 'at',\n",
       "                                             'even', 'latterly', 'once',\n",
       "                                             'first', 'becomes', 'others',\n",
       "                                             'nbsp', 'whether', 'much',\n",
       "                                             'really', 'often', 'everything',\n",
       "                                             'below', 'noone', 'sixty',\n",
       "                                             'former', 'whose', 'but', 'per',\n",
       "                                             'thereupon', 'detail', 'most',\n",
       "                                             'please', ...])),\n",
       "                ('logreg', LogisticRegression())])"
      ]
     },
     "execution_count": 51,
     "metadata": {},
     "output_type": "execute_result"
    }
   ],
   "source": [
    "pipe.fit(X_train, y_train)"
   ]
  },
  {
   "cell_type": "code",
   "execution_count": 52,
   "id": "6b8467f0-93a8-45fe-b9b7-aed7b9b833a9",
   "metadata": {},
   "outputs": [
    {
     "data": {
      "text/plain": [
       "0.9880653266331658"
      ]
     },
     "execution_count": 52,
     "metadata": {},
     "output_type": "execute_result"
    }
   ],
   "source": [
    "pipe.score(X_train, y_train)"
   ]
  },
  {
   "cell_type": "code",
   "execution_count": 53,
   "id": "a273817a-be6e-4080-8646-383010e4566d",
   "metadata": {},
   "outputs": [
    {
     "data": {
      "text/plain": [
       "0.9346733668341709"
      ]
     },
     "execution_count": 53,
     "metadata": {},
     "output_type": "execute_result"
    }
   ],
   "source": [
    "pipe.score(X_test, y_test)"
   ]
  },
  {
   "cell_type": "code",
   "execution_count": 54,
   "id": "b4b4ea7a-530f-45a3-9036-804dc07d5b11",
   "metadata": {},
   "outputs": [
    {
     "data": {
      "text/plain": [
       "array([-1.24977014e-01, -2.35829875e-01, -1.29552402e-01, ...,\n",
       "       -2.03001100e-04, -2.87843102e-02,  7.83275900e-02])"
      ]
     },
     "execution_count": 54,
     "metadata": {},
     "output_type": "execute_result"
    }
   ],
   "source": [
    "pipe_coef = pipe[1].coef_[0]\n",
    "pipe_coef"
   ]
  },
  {
   "cell_type": "code",
   "execution_count": 55,
   "id": "a155f6d5-c6ee-4fb3-b658-f9971c4831a4",
   "metadata": {},
   "outputs": [
    {
     "data": {
      "text/plain": [
       "array(['000', '000kcal', '000lb', ..., 'zknuh5g8tlm', 'zone', 'zyzz'],\n",
       "      dtype=object)"
      ]
     },
     "execution_count": 55,
     "metadata": {},
     "output_type": "execute_result"
    }
   ],
   "source": [
    "pipe_features = pipe[:-1].get_feature_names_out()\n",
    "pipe_features"
   ]
  },
  {
   "cell_type": "code",
   "execution_count": 56,
   "id": "2a5440bc-febf-488a-af4d-cbaeb08394d6",
   "metadata": {},
   "outputs": [],
   "source": [
    "pipe_coef_features = pd.DataFrame(zip(pipe_coef, pipe_features))"
   ]
  },
  {
   "cell_type": "code",
   "execution_count": 57,
   "id": "416240a3-fcb6-4b2c-aa80-07c6248731a9",
   "metadata": {},
   "outputs": [
    {
     "data": {
      "text/html": [
       "<div>\n",
       "<style scoped>\n",
       "    .dataframe tbody tr th:only-of-type {\n",
       "        vertical-align: middle;\n",
       "    }\n",
       "\n",
       "    .dataframe tbody tr th {\n",
       "        vertical-align: top;\n",
       "    }\n",
       "\n",
       "    .dataframe thead th {\n",
       "        text-align: right;\n",
       "    }\n",
       "</style>\n",
       "<table border=\"1\" class=\"dataframe\">\n",
       "  <thead>\n",
       "    <tr style=\"text-align: right;\">\n",
       "      <th></th>\n",
       "      <th>0</th>\n",
       "      <th>1</th>\n",
       "    </tr>\n",
       "  </thead>\n",
       "  <tbody>\n",
       "    <tr>\n",
       "      <th>7918</th>\n",
       "      <td>3.336061</td>\n",
       "      <td>weeks</td>\n",
       "    </tr>\n",
       "    <tr>\n",
       "      <th>1731</th>\n",
       "      <td>2.869893</td>\n",
       "      <td>arnold</td>\n",
       "    </tr>\n",
       "    <tr>\n",
       "      <th>5768</th>\n",
       "      <td>2.285846</td>\n",
       "      <td>physique</td>\n",
       "    </tr>\n",
       "    <tr>\n",
       "      <th>5513</th>\n",
       "      <td>2.011237</td>\n",
       "      <td>olympia</td>\n",
       "    </tr>\n",
       "    <tr>\n",
       "      <th>4907</th>\n",
       "      <td>2.005444</td>\n",
       "      <td>looking</td>\n",
       "    </tr>\n",
       "    <tr>\n",
       "      <th>2494</th>\n",
       "      <td>1.780441</td>\n",
       "      <td>classic</td>\n",
       "    </tr>\n",
       "    <tr>\n",
       "      <th>2936</th>\n",
       "      <td>1.673809</td>\n",
       "      <td>days</td>\n",
       "    </tr>\n",
       "    <tr>\n",
       "      <th>5996</th>\n",
       "      <td>1.482860</td>\n",
       "      <td>pro</td>\n",
       "    </tr>\n",
       "    <tr>\n",
       "      <th>7483</th>\n",
       "      <td>1.211358</td>\n",
       "      <td>today</td>\n",
       "    </tr>\n",
       "    <tr>\n",
       "      <th>7707</th>\n",
       "      <td>1.197856</td>\n",
       "      <td>update</td>\n",
       "    </tr>\n",
       "    <tr>\n",
       "      <th>2357</th>\n",
       "      <td>1.160196</td>\n",
       "      <td>cbum</td>\n",
       "    </tr>\n",
       "    <tr>\n",
       "      <th>7044</th>\n",
       "      <td>1.151392</td>\n",
       "      <td>stage</td>\n",
       "    </tr>\n",
       "    <tr>\n",
       "      <th>3985</th>\n",
       "      <td>1.121093</td>\n",
       "      <td>guy</td>\n",
       "    </tr>\n",
       "    <tr>\n",
       "      <th>5873</th>\n",
       "      <td>1.093291</td>\n",
       "      <td>pose</td>\n",
       "    </tr>\n",
       "    <tr>\n",
       "      <th>4614</th>\n",
       "      <td>1.063682</td>\n",
       "      <td>kai</td>\n",
       "    </tr>\n",
       "    <tr>\n",
       "      <th>5129</th>\n",
       "      <td>1.060312</td>\n",
       "      <td>met</td>\n",
       "    </tr>\n",
       "    <tr>\n",
       "      <th>5272</th>\n",
       "      <td>1.058896</td>\n",
       "      <td>mr</td>\n",
       "    </tr>\n",
       "    <tr>\n",
       "      <th>3906</th>\n",
       "      <td>0.998191</td>\n",
       "      <td>got</td>\n",
       "    </tr>\n",
       "    <tr>\n",
       "      <th>8094</th>\n",
       "      <td>0.984869</td>\n",
       "      <td>year</td>\n",
       "    </tr>\n",
       "    <tr>\n",
       "      <th>4046</th>\n",
       "      <td>0.973821</td>\n",
       "      <td>happy</td>\n",
       "    </tr>\n",
       "  </tbody>\n",
       "</table>\n",
       "</div>"
      ],
      "text/plain": [
       "             0         1\n",
       "7918  3.336061     weeks\n",
       "1731  2.869893    arnold\n",
       "5768  2.285846  physique\n",
       "5513  2.011237   olympia\n",
       "4907  2.005444   looking\n",
       "2494  1.780441   classic\n",
       "2936  1.673809      days\n",
       "5996  1.482860       pro\n",
       "7483  1.211358     today\n",
       "7707  1.197856    update\n",
       "2357  1.160196      cbum\n",
       "7044  1.151392     stage\n",
       "3985  1.121093       guy\n",
       "5873  1.093291      pose\n",
       "4614  1.063682       kai\n",
       "5129  1.060312       met\n",
       "5272  1.058896        mr\n",
       "3906  0.998191       got\n",
       "8094  0.984869      year\n",
       "4046  0.973821     happy"
      ]
     },
     "execution_count": 57,
     "metadata": {},
     "output_type": "execute_result"
    }
   ],
   "source": [
    "pipe_coef_features.sort_values(by=0, ascending=False).head(20)"
   ]
  },
  {
   "cell_type": "code",
   "execution_count": 58,
   "id": "d78dc11a-61c4-4483-a430-b865521bee44",
   "metadata": {},
   "outputs": [
    {
     "data": {
      "text/html": [
       "<div>\n",
       "<style scoped>\n",
       "    .dataframe tbody tr th:only-of-type {\n",
       "        vertical-align: middle;\n",
       "    }\n",
       "\n",
       "    .dataframe tbody tr th {\n",
       "        vertical-align: top;\n",
       "    }\n",
       "\n",
       "    .dataframe thead th {\n",
       "        text-align: right;\n",
       "    }\n",
       "</style>\n",
       "<table border=\"1\" class=\"dataframe\">\n",
       "  <thead>\n",
       "    <tr style=\"text-align: right;\">\n",
       "      <th></th>\n",
       "      <th>0</th>\n",
       "      <th>1</th>\n",
       "    </tr>\n",
       "  </thead>\n",
       "  <tbody>\n",
       "    <tr>\n",
       "      <th>8054</th>\n",
       "      <td>-1.200434</td>\n",
       "      <td>wraps</td>\n",
       "    </tr>\n",
       "    <tr>\n",
       "      <th>4406</th>\n",
       "      <td>-1.213890</td>\n",
       "      <td>instagram</td>\n",
       "    </tr>\n",
       "    <tr>\n",
       "      <th>2238</th>\n",
       "      <td>-1.239259</td>\n",
       "      <td>bw</td>\n",
       "    </tr>\n",
       "    <tr>\n",
       "      <th>3996</th>\n",
       "      <td>-1.282364</td>\n",
       "      <td>haack</td>\n",
       "    </tr>\n",
       "    <tr>\n",
       "      <th>5917</th>\n",
       "      <td>-1.649155</td>\n",
       "      <td>pr</td>\n",
       "    </tr>\n",
       "    <tr>\n",
       "      <th>6250</th>\n",
       "      <td>-1.691291</td>\n",
       "      <td>record</td>\n",
       "    </tr>\n",
       "    <tr>\n",
       "      <th>7512</th>\n",
       "      <td>-1.722416</td>\n",
       "      <td>total</td>\n",
       "    </tr>\n",
       "    <tr>\n",
       "      <th>4474</th>\n",
       "      <td>-1.771467</td>\n",
       "      <td>ipf</td>\n",
       "    </tr>\n",
       "    <tr>\n",
       "      <th>5094</th>\n",
       "      <td>-1.774605</td>\n",
       "      <td>meet</td>\n",
       "    </tr>\n",
       "    <tr>\n",
       "      <th>1983</th>\n",
       "      <td>-1.830240</td>\n",
       "      <td>benches</td>\n",
       "    </tr>\n",
       "    <tr>\n",
       "      <th>2956</th>\n",
       "      <td>-1.887065</td>\n",
       "      <td>deadlifts</td>\n",
       "    </tr>\n",
       "    <tr>\n",
       "      <th>1010</th>\n",
       "      <td>-1.888855</td>\n",
       "      <td>5kg</td>\n",
       "    </tr>\n",
       "    <tr>\n",
       "      <th>4761</th>\n",
       "      <td>-2.124718</td>\n",
       "      <td>lbs</td>\n",
       "    </tr>\n",
       "    <tr>\n",
       "      <th>6198</th>\n",
       "      <td>-2.170429</td>\n",
       "      <td>raw</td>\n",
       "    </tr>\n",
       "    <tr>\n",
       "      <th>7024</th>\n",
       "      <td>-2.570555</td>\n",
       "      <td>squats</td>\n",
       "    </tr>\n",
       "    <tr>\n",
       "      <th>6099</th>\n",
       "      <td>-2.671097</td>\n",
       "      <td>pulls</td>\n",
       "    </tr>\n",
       "    <tr>\n",
       "      <th>1981</th>\n",
       "      <td>-2.735449</td>\n",
       "      <td>bench</td>\n",
       "    </tr>\n",
       "    <tr>\n",
       "      <th>4637</th>\n",
       "      <td>-2.757526</td>\n",
       "      <td>kg</td>\n",
       "    </tr>\n",
       "    <tr>\n",
       "      <th>7022</th>\n",
       "      <td>-4.025032</td>\n",
       "      <td>squat</td>\n",
       "    </tr>\n",
       "    <tr>\n",
       "      <th>2948</th>\n",
       "      <td>-4.289994</td>\n",
       "      <td>deadlift</td>\n",
       "    </tr>\n",
       "  </tbody>\n",
       "</table>\n",
       "</div>"
      ],
      "text/plain": [
       "             0          1\n",
       "8054 -1.200434      wraps\n",
       "4406 -1.213890  instagram\n",
       "2238 -1.239259         bw\n",
       "3996 -1.282364      haack\n",
       "5917 -1.649155         pr\n",
       "6250 -1.691291     record\n",
       "7512 -1.722416      total\n",
       "4474 -1.771467        ipf\n",
       "5094 -1.774605       meet\n",
       "1983 -1.830240    benches\n",
       "2956 -1.887065  deadlifts\n",
       "1010 -1.888855        5kg\n",
       "4761 -2.124718        lbs\n",
       "6198 -2.170429        raw\n",
       "7024 -2.570555     squats\n",
       "6099 -2.671097      pulls\n",
       "1981 -2.735449      bench\n",
       "4637 -2.757526         kg\n",
       "7022 -4.025032      squat\n",
       "2948 -4.289994   deadlift"
      ]
     },
     "execution_count": 58,
     "metadata": {},
     "output_type": "execute_result"
    }
   ],
   "source": [
    "pipe_coef_features.sort_values(by=0, ascending=False).tail(20)"
   ]
  },
  {
   "cell_type": "markdown",
   "id": "7df8009c-2742-40c5-8c05-44b42817ba1e",
   "metadata": {},
   "source": [
    "## LogisticRegression with TfidfVectorizer (GridSearchCV)"
   ]
  },
  {
   "cell_type": "code",
   "execution_count": 59,
   "id": "f51ce1b1-07d1-4b5a-b9fe-ff2b8a19cefa",
   "metadata": {},
   "outputs": [],
   "source": [
    "param_grid = {\n",
    "    'tfidf__max_features': [None, 1000, 5000, 10000],\n",
    "    'tfidf__ngram_range': [(1, 1), (1, 2), (1, 3)],\n",
    "    'tfidf__stop_words': [None, 'english', stop_words],\n",
    "    'logreg__C': [0.01, 0.1, 1, 10, 100]\n",
    "}\n",
    "\n",
    "grid_search = GridSearchCV(pipe, param_grid=param_grid)"
   ]
  },
  {
   "cell_type": "code",
   "execution_count": 60,
   "id": "a2ebbd4c-54c7-48c2-94da-543645628c0d",
   "metadata": {},
   "outputs": [
    {
     "data": {
      "text/html": [
       "<style>#sk-container-id-9 {color: black;background-color: white;}#sk-container-id-9 pre{padding: 0;}#sk-container-id-9 div.sk-toggleable {background-color: white;}#sk-container-id-9 label.sk-toggleable__label {cursor: pointer;display: block;width: 100%;margin-bottom: 0;padding: 0.3em;box-sizing: border-box;text-align: center;}#sk-container-id-9 label.sk-toggleable__label-arrow:before {content: \"▸\";float: left;margin-right: 0.25em;color: #696969;}#sk-container-id-9 label.sk-toggleable__label-arrow:hover:before {color: black;}#sk-container-id-9 div.sk-estimator:hover label.sk-toggleable__label-arrow:before {color: black;}#sk-container-id-9 div.sk-toggleable__content {max-height: 0;max-width: 0;overflow: hidden;text-align: left;background-color: #f0f8ff;}#sk-container-id-9 div.sk-toggleable__content pre {margin: 0.2em;color: black;border-radius: 0.25em;background-color: #f0f8ff;}#sk-container-id-9 input.sk-toggleable__control:checked~div.sk-toggleable__content {max-height: 200px;max-width: 100%;overflow: auto;}#sk-container-id-9 input.sk-toggleable__control:checked~label.sk-toggleable__label-arrow:before {content: \"▾\";}#sk-container-id-9 div.sk-estimator input.sk-toggleable__control:checked~label.sk-toggleable__label {background-color: #d4ebff;}#sk-container-id-9 div.sk-label input.sk-toggleable__control:checked~label.sk-toggleable__label {background-color: #d4ebff;}#sk-container-id-9 input.sk-hidden--visually {border: 0;clip: rect(1px 1px 1px 1px);clip: rect(1px, 1px, 1px, 1px);height: 1px;margin: -1px;overflow: hidden;padding: 0;position: absolute;width: 1px;}#sk-container-id-9 div.sk-estimator {font-family: monospace;background-color: #f0f8ff;border: 1px dotted black;border-radius: 0.25em;box-sizing: border-box;margin-bottom: 0.5em;}#sk-container-id-9 div.sk-estimator:hover {background-color: #d4ebff;}#sk-container-id-9 div.sk-parallel-item::after {content: \"\";width: 100%;border-bottom: 1px solid gray;flex-grow: 1;}#sk-container-id-9 div.sk-label:hover label.sk-toggleable__label {background-color: #d4ebff;}#sk-container-id-9 div.sk-serial::before {content: \"\";position: absolute;border-left: 1px solid gray;box-sizing: border-box;top: 0;bottom: 0;left: 50%;z-index: 0;}#sk-container-id-9 div.sk-serial {display: flex;flex-direction: column;align-items: center;background-color: white;padding-right: 0.2em;padding-left: 0.2em;position: relative;}#sk-container-id-9 div.sk-item {position: relative;z-index: 1;}#sk-container-id-9 div.sk-parallel {display: flex;align-items: stretch;justify-content: center;background-color: white;position: relative;}#sk-container-id-9 div.sk-item::before, #sk-container-id-9 div.sk-parallel-item::before {content: \"\";position: absolute;border-left: 1px solid gray;box-sizing: border-box;top: 0;bottom: 0;left: 50%;z-index: -1;}#sk-container-id-9 div.sk-parallel-item {display: flex;flex-direction: column;z-index: 1;position: relative;background-color: white;}#sk-container-id-9 div.sk-parallel-item:first-child::after {align-self: flex-end;width: 50%;}#sk-container-id-9 div.sk-parallel-item:last-child::after {align-self: flex-start;width: 50%;}#sk-container-id-9 div.sk-parallel-item:only-child::after {width: 0;}#sk-container-id-9 div.sk-dashed-wrapped {border: 1px dashed gray;margin: 0 0.4em 0.5em 0.4em;box-sizing: border-box;padding-bottom: 0.4em;background-color: white;}#sk-container-id-9 div.sk-label label {font-family: monospace;font-weight: bold;display: inline-block;line-height: 1.2em;}#sk-container-id-9 div.sk-label-container {text-align: center;}#sk-container-id-9 div.sk-container {/* jupyter's `normalize.less` sets `[hidden] { display: none; }` but bootstrap.min.css set `[hidden] { display: none !important; }` so we also need the `!important` here to be able to override the default hidden behavior on the sphinx rendered scikit-learn.org. See: https://github.com/scikit-learn/scikit-learn/issues/21755 */display: inline-block !important;position: relative;}#sk-container-id-9 div.sk-text-repr-fallback {display: none;}</style><div id=\"sk-container-id-9\" class=\"sk-top-container\"><div class=\"sk-text-repr-fallback\"><pre>GridSearchCV(estimator=Pipeline(steps=[(&#x27;tfidf&#x27;,\n",
       "                                        TfidfVectorizer(stop_words=[&#x27;further&#x27;,\n",
       "                                                                    &#x27;move&#x27;,\n",
       "                                                                    &#x27;many&#x27;,\n",
       "                                                                    &#x27;he&#x27;,\n",
       "                                                                    &#x27;bodybuilder&#x27;,\n",
       "                                                                    &#x27;enough&#x27;,\n",
       "                                                                    &#x27;at&#x27;,\n",
       "                                                                    &#x27;even&#x27;,\n",
       "                                                                    &#x27;latterly&#x27;,\n",
       "                                                                    &#x27;once&#x27;,\n",
       "                                                                    &#x27;first&#x27;,\n",
       "                                                                    &#x27;becomes&#x27;,\n",
       "                                                                    &#x27;others&#x27;,\n",
       "                                                                    &#x27;nbsp&#x27;,\n",
       "                                                                    &#x27;whether&#x27;,\n",
       "                                                                    &#x27;much&#x27;,\n",
       "                                                                    &#x27;really&#x27;,\n",
       "                                                                    &#x27;often&#x27;,\n",
       "                                                                    &#x27;everything&#x27;,\n",
       "                                                                    &#x27;below&#x27;,\n",
       "                                                                    &#x27;noone&#x27;,\n",
       "                                                                    &#x27;sixty&#x27;,\n",
       "                                                                    &#x27;former&#x27;,\n",
       "                                                                    &#x27;whose&#x27;,\n",
       "                                                                    &#x27;but&#x27;,\n",
       "                                                                    &#x27;per&#x27;,\n",
       "                                                                    &#x27;thereupon&#x27;,\n",
       "                                                                    &#x27;detail&#x27;,\n",
       "                                                                    &#x27;most&#x27;,\n",
       "                                                                    &#x27;please&#x27;, ...])),\n",
       "                                       (&#x27;logreg&#x27;, Logi...\n",
       "                         &#x27;tfidf__max_features&#x27;: [None, 1000, 5000, 10000],\n",
       "                         &#x27;tfidf__ngram_range&#x27;: [(1, 1), (1, 2), (1, 3)],\n",
       "                         &#x27;tfidf__stop_words&#x27;: [None, &#x27;english&#x27;,\n",
       "                                               [&#x27;further&#x27;, &#x27;move&#x27;, &#x27;many&#x27;, &#x27;he&#x27;,\n",
       "                                                &#x27;bodybuilder&#x27;, &#x27;enough&#x27;, &#x27;at&#x27;,\n",
       "                                                &#x27;even&#x27;, &#x27;latterly&#x27;, &#x27;once&#x27;,\n",
       "                                                &#x27;first&#x27;, &#x27;becomes&#x27;, &#x27;others&#x27;,\n",
       "                                                &#x27;nbsp&#x27;, &#x27;whether&#x27;, &#x27;much&#x27;,\n",
       "                                                &#x27;really&#x27;, &#x27;often&#x27;, &#x27;everything&#x27;,\n",
       "                                                &#x27;below&#x27;, &#x27;noone&#x27;, &#x27;sixty&#x27;,\n",
       "                                                &#x27;former&#x27;, &#x27;whose&#x27;, &#x27;but&#x27;, &#x27;per&#x27;,\n",
       "                                                &#x27;thereupon&#x27;, &#x27;detail&#x27;, &#x27;most&#x27;,\n",
       "                                                &#x27;please&#x27;, ...]]})</pre><b>In a Jupyter environment, please rerun this cell to show the HTML representation or trust the notebook. <br />On GitHub, the HTML representation is unable to render, please try loading this page with nbviewer.org.</b></div><div class=\"sk-container\" hidden><div class=\"sk-item sk-dashed-wrapped\"><div class=\"sk-label-container\"><div class=\"sk-label sk-toggleable\"><input class=\"sk-toggleable__control sk-hidden--visually\" id=\"sk-estimator-id-27\" type=\"checkbox\" ><label for=\"sk-estimator-id-27\" class=\"sk-toggleable__label sk-toggleable__label-arrow\">GridSearchCV</label><div class=\"sk-toggleable__content\"><pre>GridSearchCV(estimator=Pipeline(steps=[(&#x27;tfidf&#x27;,\n",
       "                                        TfidfVectorizer(stop_words=[&#x27;further&#x27;,\n",
       "                                                                    &#x27;move&#x27;,\n",
       "                                                                    &#x27;many&#x27;,\n",
       "                                                                    &#x27;he&#x27;,\n",
       "                                                                    &#x27;bodybuilder&#x27;,\n",
       "                                                                    &#x27;enough&#x27;,\n",
       "                                                                    &#x27;at&#x27;,\n",
       "                                                                    &#x27;even&#x27;,\n",
       "                                                                    &#x27;latterly&#x27;,\n",
       "                                                                    &#x27;once&#x27;,\n",
       "                                                                    &#x27;first&#x27;,\n",
       "                                                                    &#x27;becomes&#x27;,\n",
       "                                                                    &#x27;others&#x27;,\n",
       "                                                                    &#x27;nbsp&#x27;,\n",
       "                                                                    &#x27;whether&#x27;,\n",
       "                                                                    &#x27;much&#x27;,\n",
       "                                                                    &#x27;really&#x27;,\n",
       "                                                                    &#x27;often&#x27;,\n",
       "                                                                    &#x27;everything&#x27;,\n",
       "                                                                    &#x27;below&#x27;,\n",
       "                                                                    &#x27;noone&#x27;,\n",
       "                                                                    &#x27;sixty&#x27;,\n",
       "                                                                    &#x27;former&#x27;,\n",
       "                                                                    &#x27;whose&#x27;,\n",
       "                                                                    &#x27;but&#x27;,\n",
       "                                                                    &#x27;per&#x27;,\n",
       "                                                                    &#x27;thereupon&#x27;,\n",
       "                                                                    &#x27;detail&#x27;,\n",
       "                                                                    &#x27;most&#x27;,\n",
       "                                                                    &#x27;please&#x27;, ...])),\n",
       "                                       (&#x27;logreg&#x27;, Logi...\n",
       "                         &#x27;tfidf__max_features&#x27;: [None, 1000, 5000, 10000],\n",
       "                         &#x27;tfidf__ngram_range&#x27;: [(1, 1), (1, 2), (1, 3)],\n",
       "                         &#x27;tfidf__stop_words&#x27;: [None, &#x27;english&#x27;,\n",
       "                                               [&#x27;further&#x27;, &#x27;move&#x27;, &#x27;many&#x27;, &#x27;he&#x27;,\n",
       "                                                &#x27;bodybuilder&#x27;, &#x27;enough&#x27;, &#x27;at&#x27;,\n",
       "                                                &#x27;even&#x27;, &#x27;latterly&#x27;, &#x27;once&#x27;,\n",
       "                                                &#x27;first&#x27;, &#x27;becomes&#x27;, &#x27;others&#x27;,\n",
       "                                                &#x27;nbsp&#x27;, &#x27;whether&#x27;, &#x27;much&#x27;,\n",
       "                                                &#x27;really&#x27;, &#x27;often&#x27;, &#x27;everything&#x27;,\n",
       "                                                &#x27;below&#x27;, &#x27;noone&#x27;, &#x27;sixty&#x27;,\n",
       "                                                &#x27;former&#x27;, &#x27;whose&#x27;, &#x27;but&#x27;, &#x27;per&#x27;,\n",
       "                                                &#x27;thereupon&#x27;, &#x27;detail&#x27;, &#x27;most&#x27;,\n",
       "                                                &#x27;please&#x27;, ...]]})</pre></div></div></div><div class=\"sk-parallel\"><div class=\"sk-parallel-item\"><div class=\"sk-item\"><div class=\"sk-label-container\"><div class=\"sk-label sk-toggleable\"><input class=\"sk-toggleable__control sk-hidden--visually\" id=\"sk-estimator-id-28\" type=\"checkbox\" ><label for=\"sk-estimator-id-28\" class=\"sk-toggleable__label sk-toggleable__label-arrow\">estimator: Pipeline</label><div class=\"sk-toggleable__content\"><pre>Pipeline(steps=[(&#x27;tfidf&#x27;,\n",
       "                 TfidfVectorizer(stop_words=[&#x27;further&#x27;, &#x27;move&#x27;, &#x27;many&#x27;, &#x27;he&#x27;,\n",
       "                                             &#x27;bodybuilder&#x27;, &#x27;enough&#x27;, &#x27;at&#x27;,\n",
       "                                             &#x27;even&#x27;, &#x27;latterly&#x27;, &#x27;once&#x27;,\n",
       "                                             &#x27;first&#x27;, &#x27;becomes&#x27;, &#x27;others&#x27;,\n",
       "                                             &#x27;nbsp&#x27;, &#x27;whether&#x27;, &#x27;much&#x27;,\n",
       "                                             &#x27;really&#x27;, &#x27;often&#x27;, &#x27;everything&#x27;,\n",
       "                                             &#x27;below&#x27;, &#x27;noone&#x27;, &#x27;sixty&#x27;,\n",
       "                                             &#x27;former&#x27;, &#x27;whose&#x27;, &#x27;but&#x27;, &#x27;per&#x27;,\n",
       "                                             &#x27;thereupon&#x27;, &#x27;detail&#x27;, &#x27;most&#x27;,\n",
       "                                             &#x27;please&#x27;, ...])),\n",
       "                (&#x27;logreg&#x27;, LogisticRegression())])</pre></div></div></div><div class=\"sk-serial\"><div class=\"sk-item\"><div class=\"sk-serial\"><div class=\"sk-item\"><div class=\"sk-estimator sk-toggleable\"><input class=\"sk-toggleable__control sk-hidden--visually\" id=\"sk-estimator-id-29\" type=\"checkbox\" ><label for=\"sk-estimator-id-29\" class=\"sk-toggleable__label sk-toggleable__label-arrow\">TfidfVectorizer</label><div class=\"sk-toggleable__content\"><pre>TfidfVectorizer(stop_words=[&#x27;further&#x27;, &#x27;move&#x27;, &#x27;many&#x27;, &#x27;he&#x27;, &#x27;bodybuilder&#x27;,\n",
       "                            &#x27;enough&#x27;, &#x27;at&#x27;, &#x27;even&#x27;, &#x27;latterly&#x27;, &#x27;once&#x27;, &#x27;first&#x27;,\n",
       "                            &#x27;becomes&#x27;, &#x27;others&#x27;, &#x27;nbsp&#x27;, &#x27;whether&#x27;, &#x27;much&#x27;,\n",
       "                            &#x27;really&#x27;, &#x27;often&#x27;, &#x27;everything&#x27;, &#x27;below&#x27;, &#x27;noone&#x27;,\n",
       "                            &#x27;sixty&#x27;, &#x27;former&#x27;, &#x27;whose&#x27;, &#x27;but&#x27;, &#x27;per&#x27;,\n",
       "                            &#x27;thereupon&#x27;, &#x27;detail&#x27;, &#x27;most&#x27;, &#x27;please&#x27;, ...])</pre></div></div></div><div class=\"sk-item\"><div class=\"sk-estimator sk-toggleable\"><input class=\"sk-toggleable__control sk-hidden--visually\" id=\"sk-estimator-id-30\" type=\"checkbox\" ><label for=\"sk-estimator-id-30\" class=\"sk-toggleable__label sk-toggleable__label-arrow\">LogisticRegression</label><div class=\"sk-toggleable__content\"><pre>LogisticRegression()</pre></div></div></div></div></div></div></div></div></div></div></div></div>"
      ],
      "text/plain": [
       "GridSearchCV(estimator=Pipeline(steps=[('tfidf',\n",
       "                                        TfidfVectorizer(stop_words=['further',\n",
       "                                                                    'move',\n",
       "                                                                    'many',\n",
       "                                                                    'he',\n",
       "                                                                    'bodybuilder',\n",
       "                                                                    'enough',\n",
       "                                                                    'at',\n",
       "                                                                    'even',\n",
       "                                                                    'latterly',\n",
       "                                                                    'once',\n",
       "                                                                    'first',\n",
       "                                                                    'becomes',\n",
       "                                                                    'others',\n",
       "                                                                    'nbsp',\n",
       "                                                                    'whether',\n",
       "                                                                    'much',\n",
       "                                                                    'really',\n",
       "                                                                    'often',\n",
       "                                                                    'everything',\n",
       "                                                                    'below',\n",
       "                                                                    'noone',\n",
       "                                                                    'sixty',\n",
       "                                                                    'former',\n",
       "                                                                    'whose',\n",
       "                                                                    'but',\n",
       "                                                                    'per',\n",
       "                                                                    'thereupon',\n",
       "                                                                    'detail',\n",
       "                                                                    'most',\n",
       "                                                                    'please', ...])),\n",
       "                                       ('logreg', Logi...\n",
       "                         'tfidf__max_features': [None, 1000, 5000, 10000],\n",
       "                         'tfidf__ngram_range': [(1, 1), (1, 2), (1, 3)],\n",
       "                         'tfidf__stop_words': [None, 'english',\n",
       "                                               ['further', 'move', 'many', 'he',\n",
       "                                                'bodybuilder', 'enough', 'at',\n",
       "                                                'even', 'latterly', 'once',\n",
       "                                                'first', 'becomes', 'others',\n",
       "                                                'nbsp', 'whether', 'much',\n",
       "                                                'really', 'often', 'everything',\n",
       "                                                'below', 'noone', 'sixty',\n",
       "                                                'former', 'whose', 'but', 'per',\n",
       "                                                'thereupon', 'detail', 'most',\n",
       "                                                'please', ...]]})"
      ]
     },
     "execution_count": 60,
     "metadata": {},
     "output_type": "execute_result"
    }
   ],
   "source": [
    "grid_search.fit(X_train, y_train)"
   ]
  },
  {
   "cell_type": "code",
   "execution_count": 61,
   "id": "046b1c00-37b4-464b-bb56-c917529ea9a1",
   "metadata": {},
   "outputs": [
    {
     "data": {
      "text/plain": [
       "{'logreg__C': 100,\n",
       " 'tfidf__max_features': None,\n",
       " 'tfidf__ngram_range': (1, 3),\n",
       " 'tfidf__stop_words': 'english'}"
      ]
     },
     "execution_count": 61,
     "metadata": {},
     "output_type": "execute_result"
    }
   ],
   "source": [
    "grid_search.best_params_"
   ]
  },
  {
   "cell_type": "code",
   "execution_count": 62,
   "id": "2adfd7bd-5684-4f1c-a4de-9fcf9b6e5f97",
   "metadata": {},
   "outputs": [
    {
     "data": {
      "text/plain": [
       "1.0"
      ]
     },
     "execution_count": 62,
     "metadata": {},
     "output_type": "execute_result"
    }
   ],
   "source": [
    "grid_search.score(X_train, y_train)"
   ]
  },
  {
   "cell_type": "code",
   "execution_count": 63,
   "id": "09dd0e81-d0e2-4b98-b9aa-1d6c9ef9fafb",
   "metadata": {},
   "outputs": [
    {
     "data": {
      "text/plain": [
       "0.9547738693467337"
      ]
     },
     "execution_count": 63,
     "metadata": {},
     "output_type": "execute_result"
    }
   ],
   "source": [
    "grid_search.score(X_test, y_test)"
   ]
  },
  {
   "cell_type": "code",
   "execution_count": 64,
   "id": "c73031b7-0e04-4bab-9116-9f81ece0580e",
   "metadata": {},
   "outputs": [],
   "source": [
    "preds = grid_search.predict(X_test)"
   ]
  },
  {
   "cell_type": "code",
   "execution_count": 65,
   "id": "6033d61f-1713-4908-b268-25ad3952925a",
   "metadata": {},
   "outputs": [],
   "source": [
    "tn, fp, fn, tp = confusion_matrix(y_test, preds).ravel()"
   ]
  },
  {
   "cell_type": "code",
   "execution_count": 66,
   "id": "438b0e85-689c-4942-b1ee-82108d2162f8",
   "metadata": {},
   "outputs": [
    {
     "data": {
      "image/png": "[encoded data removed]",
      "text/plain": [
       "<Figure size 800x600 with 2 Axes>"
      ]
     },
     "metadata": {},
     "output_type": "display_data"
    }
   ],
   "source": [
    "# display confusion matrix for train data\n",
    "fig, ax = plt.subplots(figsize=(8, 6))\n",
    "ConfusionMatrixDisplay.from_estimator(grid_search, X_train, y_train, cmap='Blues', ax=ax, display_labels=['Powerlifting', 'Bodybuilding']);"
   ]
  },
  {
   "cell_type": "code",
   "execution_count": 67,
   "id": "43e91d43-04d4-4e4c-b809-50aabe90339f",
   "metadata": {},
   "outputs": [
    {
     "data": {
      "image/png": "[encoded data removed]",
      "text/plain": [
       "<Figure size 800x600 with 2 Axes>"
      ]
     },
     "metadata": {},
     "output_type": "display_data"
    }
   ],
   "source": [
    "# display confusion matrix for test data\n",
    "fig, ax = plt.subplots(figsize=(8, 6))\n",
    "ConfusionMatrixDisplay.from_estimator(grid_search, X_test, y_test, cmap='Blues', ax=ax, display_labels=['Powerlifting', 'Bodybuilding']);"
   ]
  },
  {
   "cell_type": "code",
   "execution_count": 68,
   "id": "bed5ca4f-9b1f-4b93-bba3-70a1816ff6ae",
   "metadata": {},
   "outputs": [
    {
     "name": "stdout",
     "output_type": "stream",
     "text": [
      "              precision    recall  f1-score   support\n",
      "\n",
      "           1       0.96      0.95      0.95       200\n",
      "           2       0.95      0.96      0.95       198\n",
      "\n",
      "    accuracy                           0.95       398\n",
      "   macro avg       0.95      0.95      0.95       398\n",
      "weighted avg       0.95      0.95      0.95       398\n",
      "\n"
     ]
    }
   ],
   "source": [
    "print(classification_report(y_test, preds))"
   ]
  },
  {
   "cell_type": "markdown",
   "id": "b7616241-baf7-46b9-b2fe-147d58d3f8e0",
   "metadata": {},
   "source": [
    "## KNN with CountVectorizer"
   ]
  },
  {
   "cell_type": "code",
   "execution_count": 69,
   "id": "0d5b020f-7214-4cf9-a680-5171c53f4def",
   "metadata": {},
   "outputs": [
    {
     "data": {
      "text/html": [
       "<style>#sk-container-id-10 {color: black;background-color: white;}#sk-container-id-10 pre{padding: 0;}#sk-container-id-10 div.sk-toggleable {background-color: white;}#sk-container-id-10 label.sk-toggleable__label {cursor: pointer;display: block;width: 100%;margin-bottom: 0;padding: 0.3em;box-sizing: border-box;text-align: center;}#sk-container-id-10 label.sk-toggleable__label-arrow:before {content: \"▸\";float: left;margin-right: 0.25em;color: #696969;}#sk-container-id-10 label.sk-toggleable__label-arrow:hover:before {color: black;}#sk-container-id-10 div.sk-estimator:hover label.sk-toggleable__label-arrow:before {color: black;}#sk-container-id-10 div.sk-toggleable__content {max-height: 0;max-width: 0;overflow: hidden;text-align: left;background-color: #f0f8ff;}#sk-container-id-10 div.sk-toggleable__content pre {margin: 0.2em;color: black;border-radius: 0.25em;background-color: #f0f8ff;}#sk-container-id-10 input.sk-toggleable__control:checked~div.sk-toggleable__content {max-height: 200px;max-width: 100%;overflow: auto;}#sk-container-id-10 input.sk-toggleable__control:checked~label.sk-toggleable__label-arrow:before {content: \"▾\";}#sk-container-id-10 div.sk-estimator input.sk-toggleable__control:checked~label.sk-toggleable__label {background-color: #d4ebff;}#sk-container-id-10 div.sk-label input.sk-toggleable__control:checked~label.sk-toggleable__label {background-color: #d4ebff;}#sk-container-id-10 input.sk-hidden--visually {border: 0;clip: rect(1px 1px 1px 1px);clip: rect(1px, 1px, 1px, 1px);height: 1px;margin: -1px;overflow: hidden;padding: 0;position: absolute;width: 1px;}#sk-container-id-10 div.sk-estimator {font-family: monospace;background-color: #f0f8ff;border: 1px dotted black;border-radius: 0.25em;box-sizing: border-box;margin-bottom: 0.5em;}#sk-container-id-10 div.sk-estimator:hover {background-color: #d4ebff;}#sk-container-id-10 div.sk-parallel-item::after {content: \"\";width: 100%;border-bottom: 1px solid gray;flex-grow: 1;}#sk-container-id-10 div.sk-label:hover label.sk-toggleable__label {background-color: #d4ebff;}#sk-container-id-10 div.sk-serial::before {content: \"\";position: absolute;border-left: 1px solid gray;box-sizing: border-box;top: 0;bottom: 0;left: 50%;z-index: 0;}#sk-container-id-10 div.sk-serial {display: flex;flex-direction: column;align-items: center;background-color: white;padding-right: 0.2em;padding-left: 0.2em;position: relative;}#sk-container-id-10 div.sk-item {position: relative;z-index: 1;}#sk-container-id-10 div.sk-parallel {display: flex;align-items: stretch;justify-content: center;background-color: white;position: relative;}#sk-container-id-10 div.sk-item::before, #sk-container-id-10 div.sk-parallel-item::before {content: \"\";position: absolute;border-left: 1px solid gray;box-sizing: border-box;top: 0;bottom: 0;left: 50%;z-index: -1;}#sk-container-id-10 div.sk-parallel-item {display: flex;flex-direction: column;z-index: 1;position: relative;background-color: white;}#sk-container-id-10 div.sk-parallel-item:first-child::after {align-self: flex-end;width: 50%;}#sk-container-id-10 div.sk-parallel-item:last-child::after {align-self: flex-start;width: 50%;}#sk-container-id-10 div.sk-parallel-item:only-child::after {width: 0;}#sk-container-id-10 div.sk-dashed-wrapped {border: 1px dashed gray;margin: 0 0.4em 0.5em 0.4em;box-sizing: border-box;padding-bottom: 0.4em;background-color: white;}#sk-container-id-10 div.sk-label label {font-family: monospace;font-weight: bold;display: inline-block;line-height: 1.2em;}#sk-container-id-10 div.sk-label-container {text-align: center;}#sk-container-id-10 div.sk-container {/* jupyter's `normalize.less` sets `[hidden] { display: none; }` but bootstrap.min.css set `[hidden] { display: none !important; }` so we also need the `!important` here to be able to override the default hidden behavior on the sphinx rendered scikit-learn.org. See: https://github.com/scikit-learn/scikit-learn/issues/21755 */display: inline-block !important;position: relative;}#sk-container-id-10 div.sk-text-repr-fallback {display: none;}</style><div id=\"sk-container-id-10\" class=\"sk-top-container\"><div class=\"sk-text-repr-fallback\"><pre>Pipeline(steps=[(&#x27;cvect&#x27;,\n",
       "                 CountVectorizer(stop_words=[&#x27;further&#x27;, &#x27;move&#x27;, &#x27;many&#x27;, &#x27;he&#x27;,\n",
       "                                             &#x27;bodybuilder&#x27;, &#x27;enough&#x27;, &#x27;at&#x27;,\n",
       "                                             &#x27;even&#x27;, &#x27;latterly&#x27;, &#x27;once&#x27;,\n",
       "                                             &#x27;first&#x27;, &#x27;becomes&#x27;, &#x27;others&#x27;,\n",
       "                                             &#x27;nbsp&#x27;, &#x27;whether&#x27;, &#x27;much&#x27;,\n",
       "                                             &#x27;really&#x27;, &#x27;often&#x27;, &#x27;everything&#x27;,\n",
       "                                             &#x27;below&#x27;, &#x27;noone&#x27;, &#x27;sixty&#x27;,\n",
       "                                             &#x27;former&#x27;, &#x27;whose&#x27;, &#x27;but&#x27;, &#x27;per&#x27;,\n",
       "                                             &#x27;thereupon&#x27;, &#x27;detail&#x27;, &#x27;most&#x27;,\n",
       "                                             &#x27;please&#x27;, ...])),\n",
       "                (&#x27;scaler&#x27;, StandardScaler(with_mean=False)),\n",
       "                (&#x27;knn&#x27;, KNeighborsClassifier())])</pre><b>In a Jupyter environment, please rerun this cell to show the HTML representation or trust the notebook. <br />On GitHub, the HTML representation is unable to render, please try loading this page with nbviewer.org.</b></div><div class=\"sk-container\" hidden><div class=\"sk-item sk-dashed-wrapped\"><div class=\"sk-label-container\"><div class=\"sk-label sk-toggleable\"><input class=\"sk-toggleable__control sk-hidden--visually\" id=\"sk-estimator-id-31\" type=\"checkbox\" ><label for=\"sk-estimator-id-31\" class=\"sk-toggleable__label sk-toggleable__label-arrow\">Pipeline</label><div class=\"sk-toggleable__content\"><pre>Pipeline(steps=[(&#x27;cvect&#x27;,\n",
       "                 CountVectorizer(stop_words=[&#x27;further&#x27;, &#x27;move&#x27;, &#x27;many&#x27;, &#x27;he&#x27;,\n",
       "                                             &#x27;bodybuilder&#x27;, &#x27;enough&#x27;, &#x27;at&#x27;,\n",
       "                                             &#x27;even&#x27;, &#x27;latterly&#x27;, &#x27;once&#x27;,\n",
       "                                             &#x27;first&#x27;, &#x27;becomes&#x27;, &#x27;others&#x27;,\n",
       "                                             &#x27;nbsp&#x27;, &#x27;whether&#x27;, &#x27;much&#x27;,\n",
       "                                             &#x27;really&#x27;, &#x27;often&#x27;, &#x27;everything&#x27;,\n",
       "                                             &#x27;below&#x27;, &#x27;noone&#x27;, &#x27;sixty&#x27;,\n",
       "                                             &#x27;former&#x27;, &#x27;whose&#x27;, &#x27;but&#x27;, &#x27;per&#x27;,\n",
       "                                             &#x27;thereupon&#x27;, &#x27;detail&#x27;, &#x27;most&#x27;,\n",
       "                                             &#x27;please&#x27;, ...])),\n",
       "                (&#x27;scaler&#x27;, StandardScaler(with_mean=False)),\n",
       "                (&#x27;knn&#x27;, KNeighborsClassifier())])</pre></div></div></div><div class=\"sk-serial\"><div class=\"sk-item\"><div class=\"sk-estimator sk-toggleable\"><input class=\"sk-toggleable__control sk-hidden--visually\" id=\"sk-estimator-id-32\" type=\"checkbox\" ><label for=\"sk-estimator-id-32\" class=\"sk-toggleable__label sk-toggleable__label-arrow\">CountVectorizer</label><div class=\"sk-toggleable__content\"><pre>CountVectorizer(stop_words=[&#x27;further&#x27;, &#x27;move&#x27;, &#x27;many&#x27;, &#x27;he&#x27;, &#x27;bodybuilder&#x27;,\n",
       "                            &#x27;enough&#x27;, &#x27;at&#x27;, &#x27;even&#x27;, &#x27;latterly&#x27;, &#x27;once&#x27;, &#x27;first&#x27;,\n",
       "                            &#x27;becomes&#x27;, &#x27;others&#x27;, &#x27;nbsp&#x27;, &#x27;whether&#x27;, &#x27;much&#x27;,\n",
       "                            &#x27;really&#x27;, &#x27;often&#x27;, &#x27;everything&#x27;, &#x27;below&#x27;, &#x27;noone&#x27;,\n",
       "                            &#x27;sixty&#x27;, &#x27;former&#x27;, &#x27;whose&#x27;, &#x27;but&#x27;, &#x27;per&#x27;,\n",
       "                            &#x27;thereupon&#x27;, &#x27;detail&#x27;, &#x27;most&#x27;, &#x27;please&#x27;, ...])</pre></div></div></div><div class=\"sk-item\"><div class=\"sk-estimator sk-toggleable\"><input class=\"sk-toggleable__control sk-hidden--visually\" id=\"sk-estimator-id-33\" type=\"checkbox\" ><label for=\"sk-estimator-id-33\" class=\"sk-toggleable__label sk-toggleable__label-arrow\">StandardScaler</label><div class=\"sk-toggleable__content\"><pre>StandardScaler(with_mean=False)</pre></div></div></div><div class=\"sk-item\"><div class=\"sk-estimator sk-toggleable\"><input class=\"sk-toggleable__control sk-hidden--visually\" id=\"sk-estimator-id-34\" type=\"checkbox\" ><label for=\"sk-estimator-id-34\" class=\"sk-toggleable__label sk-toggleable__label-arrow\">KNeighborsClassifier</label><div class=\"sk-toggleable__content\"><pre>KNeighborsClassifier()</pre></div></div></div></div></div></div></div>"
      ],
      "text/plain": [
       "Pipeline(steps=[('cvect',\n",
       "                 CountVectorizer(stop_words=['further', 'move', 'many', 'he',\n",
       "                                             'bodybuilder', 'enough', 'at',\n",
       "                                             'even', 'latterly', 'once',\n",
       "                                             'first', 'becomes', 'others',\n",
       "                                             'nbsp', 'whether', 'much',\n",
       "                                             'really', 'often', 'everything',\n",
       "                                             'below', 'noone', 'sixty',\n",
       "                                             'former', 'whose', 'but', 'per',\n",
       "                                             'thereupon', 'detail', 'most',\n",
       "                                             'please', ...])),\n",
       "                ('scaler', StandardScaler(with_mean=False)),\n",
       "                ('knn', KNeighborsClassifier())])"
      ]
     },
     "execution_count": 69,
     "metadata": {},
     "output_type": "execute_result"
    }
   ],
   "source": [
    "pipe = Pipeline([\n",
    "    ('cvect', CountVectorizer(stop_words=stop_words)),\n",
    "    ('scaler', StandardScaler(with_mean=False)),\n",
    "    ('knn', KNeighborsClassifier())\n",
    "])\n",
    "\n",
    "pipe"
   ]
  },
  {
   "cell_type": "code",
   "execution_count": 70,
   "id": "47c95541-a002-4d0c-863c-a632a037f9ba",
   "metadata": {},
   "outputs": [
    {
     "data": {
      "text/html": [
       "<style>#sk-container-id-11 {color: black;background-color: white;}#sk-container-id-11 pre{padding: 0;}#sk-container-id-11 div.sk-toggleable {background-color: white;}#sk-container-id-11 label.sk-toggleable__label {cursor: pointer;display: block;width: 100%;margin-bottom: 0;padding: 0.3em;box-sizing: border-box;text-align: center;}#sk-container-id-11 label.sk-toggleable__label-arrow:before {content: \"▸\";float: left;margin-right: 0.25em;color: #696969;}#sk-container-id-11 label.sk-toggleable__label-arrow:hover:before {color: black;}#sk-container-id-11 div.sk-estimator:hover label.sk-toggleable__label-arrow:before {color: black;}#sk-container-id-11 div.sk-toggleable__content {max-height: 0;max-width: 0;overflow: hidden;text-align: left;background-color: #f0f8ff;}#sk-container-id-11 div.sk-toggleable__content pre {margin: 0.2em;color: black;border-radius: 0.25em;background-color: #f0f8ff;}#sk-container-id-11 input.sk-toggleable__control:checked~div.sk-toggleable__content {max-height: 200px;max-width: 100%;overflow: auto;}#sk-container-id-11 input.sk-toggleable__control:checked~label.sk-toggleable__label-arrow:before {content: \"▾\";}#sk-container-id-11 div.sk-estimator input.sk-toggleable__control:checked~label.sk-toggleable__label {background-color: #d4ebff;}#sk-container-id-11 div.sk-label input.sk-toggleable__control:checked~label.sk-toggleable__label {background-color: #d4ebff;}#sk-container-id-11 input.sk-hidden--visually {border: 0;clip: rect(1px 1px 1px 1px);clip: rect(1px, 1px, 1px, 1px);height: 1px;margin: -1px;overflow: hidden;padding: 0;position: absolute;width: 1px;}#sk-container-id-11 div.sk-estimator {font-family: monospace;background-color: #f0f8ff;border: 1px dotted black;border-radius: 0.25em;box-sizing: border-box;margin-bottom: 0.5em;}#sk-container-id-11 div.sk-estimator:hover {background-color: #d4ebff;}#sk-container-id-11 div.sk-parallel-item::after {content: \"\";width: 100%;border-bottom: 1px solid gray;flex-grow: 1;}#sk-container-id-11 div.sk-label:hover label.sk-toggleable__label {background-color: #d4ebff;}#sk-container-id-11 div.sk-serial::before {content: \"\";position: absolute;border-left: 1px solid gray;box-sizing: border-box;top: 0;bottom: 0;left: 50%;z-index: 0;}#sk-container-id-11 div.sk-serial {display: flex;flex-direction: column;align-items: center;background-color: white;padding-right: 0.2em;padding-left: 0.2em;position: relative;}#sk-container-id-11 div.sk-item {position: relative;z-index: 1;}#sk-container-id-11 div.sk-parallel {display: flex;align-items: stretch;justify-content: center;background-color: white;position: relative;}#sk-container-id-11 div.sk-item::before, #sk-container-id-11 div.sk-parallel-item::before {content: \"\";position: absolute;border-left: 1px solid gray;box-sizing: border-box;top: 0;bottom: 0;left: 50%;z-index: -1;}#sk-container-id-11 div.sk-parallel-item {display: flex;flex-direction: column;z-index: 1;position: relative;background-color: white;}#sk-container-id-11 div.sk-parallel-item:first-child::after {align-self: flex-end;width: 50%;}#sk-container-id-11 div.sk-parallel-item:last-child::after {align-self: flex-start;width: 50%;}#sk-container-id-11 div.sk-parallel-item:only-child::after {width: 0;}#sk-container-id-11 div.sk-dashed-wrapped {border: 1px dashed gray;margin: 0 0.4em 0.5em 0.4em;box-sizing: border-box;padding-bottom: 0.4em;background-color: white;}#sk-container-id-11 div.sk-label label {font-family: monospace;font-weight: bold;display: inline-block;line-height: 1.2em;}#sk-container-id-11 div.sk-label-container {text-align: center;}#sk-container-id-11 div.sk-container {/* jupyter's `normalize.less` sets `[hidden] { display: none; }` but bootstrap.min.css set `[hidden] { display: none !important; }` so we also need the `!important` here to be able to override the default hidden behavior on the sphinx rendered scikit-learn.org. See: https://github.com/scikit-learn/scikit-learn/issues/21755 */display: inline-block !important;position: relative;}#sk-container-id-11 div.sk-text-repr-fallback {display: none;}</style><div id=\"sk-container-id-11\" class=\"sk-top-container\"><div class=\"sk-text-repr-fallback\"><pre>Pipeline(steps=[(&#x27;cvect&#x27;,\n",
       "                 CountVectorizer(stop_words=[&#x27;further&#x27;, &#x27;move&#x27;, &#x27;many&#x27;, &#x27;he&#x27;,\n",
       "                                             &#x27;bodybuilder&#x27;, &#x27;enough&#x27;, &#x27;at&#x27;,\n",
       "                                             &#x27;even&#x27;, &#x27;latterly&#x27;, &#x27;once&#x27;,\n",
       "                                             &#x27;first&#x27;, &#x27;becomes&#x27;, &#x27;others&#x27;,\n",
       "                                             &#x27;nbsp&#x27;, &#x27;whether&#x27;, &#x27;much&#x27;,\n",
       "                                             &#x27;really&#x27;, &#x27;often&#x27;, &#x27;everything&#x27;,\n",
       "                                             &#x27;below&#x27;, &#x27;noone&#x27;, &#x27;sixty&#x27;,\n",
       "                                             &#x27;former&#x27;, &#x27;whose&#x27;, &#x27;but&#x27;, &#x27;per&#x27;,\n",
       "                                             &#x27;thereupon&#x27;, &#x27;detail&#x27;, &#x27;most&#x27;,\n",
       "                                             &#x27;please&#x27;, ...])),\n",
       "                (&#x27;scaler&#x27;, StandardScaler(with_mean=False)),\n",
       "                (&#x27;knn&#x27;, KNeighborsClassifier())])</pre><b>In a Jupyter environment, please rerun this cell to show the HTML representation or trust the notebook. <br />On GitHub, the HTML representation is unable to render, please try loading this page with nbviewer.org.</b></div><div class=\"sk-container\" hidden><div class=\"sk-item sk-dashed-wrapped\"><div class=\"sk-label-container\"><div class=\"sk-label sk-toggleable\"><input class=\"sk-toggleable__control sk-hidden--visually\" id=\"sk-estimator-id-35\" type=\"checkbox\" ><label for=\"sk-estimator-id-35\" class=\"sk-toggleable__label sk-toggleable__label-arrow\">Pipeline</label><div class=\"sk-toggleable__content\"><pre>Pipeline(steps=[(&#x27;cvect&#x27;,\n",
       "                 CountVectorizer(stop_words=[&#x27;further&#x27;, &#x27;move&#x27;, &#x27;many&#x27;, &#x27;he&#x27;,\n",
       "                                             &#x27;bodybuilder&#x27;, &#x27;enough&#x27;, &#x27;at&#x27;,\n",
       "                                             &#x27;even&#x27;, &#x27;latterly&#x27;, &#x27;once&#x27;,\n",
       "                                             &#x27;first&#x27;, &#x27;becomes&#x27;, &#x27;others&#x27;,\n",
       "                                             &#x27;nbsp&#x27;, &#x27;whether&#x27;, &#x27;much&#x27;,\n",
       "                                             &#x27;really&#x27;, &#x27;often&#x27;, &#x27;everything&#x27;,\n",
       "                                             &#x27;below&#x27;, &#x27;noone&#x27;, &#x27;sixty&#x27;,\n",
       "                                             &#x27;former&#x27;, &#x27;whose&#x27;, &#x27;but&#x27;, &#x27;per&#x27;,\n",
       "                                             &#x27;thereupon&#x27;, &#x27;detail&#x27;, &#x27;most&#x27;,\n",
       "                                             &#x27;please&#x27;, ...])),\n",
       "                (&#x27;scaler&#x27;, StandardScaler(with_mean=False)),\n",
       "                (&#x27;knn&#x27;, KNeighborsClassifier())])</pre></div></div></div><div class=\"sk-serial\"><div class=\"sk-item\"><div class=\"sk-estimator sk-toggleable\"><input class=\"sk-toggleable__control sk-hidden--visually\" id=\"sk-estimator-id-36\" type=\"checkbox\" ><label for=\"sk-estimator-id-36\" class=\"sk-toggleable__label sk-toggleable__label-arrow\">CountVectorizer</label><div class=\"sk-toggleable__content\"><pre>CountVectorizer(stop_words=[&#x27;further&#x27;, &#x27;move&#x27;, &#x27;many&#x27;, &#x27;he&#x27;, &#x27;bodybuilder&#x27;,\n",
       "                            &#x27;enough&#x27;, &#x27;at&#x27;, &#x27;even&#x27;, &#x27;latterly&#x27;, &#x27;once&#x27;, &#x27;first&#x27;,\n",
       "                            &#x27;becomes&#x27;, &#x27;others&#x27;, &#x27;nbsp&#x27;, &#x27;whether&#x27;, &#x27;much&#x27;,\n",
       "                            &#x27;really&#x27;, &#x27;often&#x27;, &#x27;everything&#x27;, &#x27;below&#x27;, &#x27;noone&#x27;,\n",
       "                            &#x27;sixty&#x27;, &#x27;former&#x27;, &#x27;whose&#x27;, &#x27;but&#x27;, &#x27;per&#x27;,\n",
       "                            &#x27;thereupon&#x27;, &#x27;detail&#x27;, &#x27;most&#x27;, &#x27;please&#x27;, ...])</pre></div></div></div><div class=\"sk-item\"><div class=\"sk-estimator sk-toggleable\"><input class=\"sk-toggleable__control sk-hidden--visually\" id=\"sk-estimator-id-37\" type=\"checkbox\" ><label for=\"sk-estimator-id-37\" class=\"sk-toggleable__label sk-toggleable__label-arrow\">StandardScaler</label><div class=\"sk-toggleable__content\"><pre>StandardScaler(with_mean=False)</pre></div></div></div><div class=\"sk-item\"><div class=\"sk-estimator sk-toggleable\"><input class=\"sk-toggleable__control sk-hidden--visually\" id=\"sk-estimator-id-38\" type=\"checkbox\" ><label for=\"sk-estimator-id-38\" class=\"sk-toggleable__label sk-toggleable__label-arrow\">KNeighborsClassifier</label><div class=\"sk-toggleable__content\"><pre>KNeighborsClassifier()</pre></div></div></div></div></div></div></div>"
      ],
      "text/plain": [
       "Pipeline(steps=[('cvect',\n",
       "                 CountVectorizer(stop_words=['further', 'move', 'many', 'he',\n",
       "                                             'bodybuilder', 'enough', 'at',\n",
       "                                             'even', 'latterly', 'once',\n",
       "                                             'first', 'becomes', 'others',\n",
       "                                             'nbsp', 'whether', 'much',\n",
       "                                             'really', 'often', 'everything',\n",
       "                                             'below', 'noone', 'sixty',\n",
       "                                             'former', 'whose', 'but', 'per',\n",
       "                                             'thereupon', 'detail', 'most',\n",
       "                                             'please', ...])),\n",
       "                ('scaler', StandardScaler(with_mean=False)),\n",
       "                ('knn', KNeighborsClassifier())])"
      ]
     },
     "execution_count": 70,
     "metadata": {},
     "output_type": "execute_result"
    }
   ],
   "source": [
    "pipe.fit(X_train, y_train)"
   ]
  },
  {
   "cell_type": "code",
   "execution_count": 71,
   "id": "7e8375be-737a-4e0c-8bf9-8e4a193da079",
   "metadata": {},
   "outputs": [
    {
     "data": {
      "text/plain": [
       "0.6827889447236181"
      ]
     },
     "execution_count": 71,
     "metadata": {},
     "output_type": "execute_result"
    }
   ],
   "source": [
    "pipe.score(X_train, y_train)"
   ]
  },
  {
   "cell_type": "code",
   "execution_count": 72,
   "id": "58e059dd-a2c6-4faf-9e24-d9d1a494ddc7",
   "metadata": {},
   "outputs": [
    {
     "data": {
      "text/plain": [
       "0.5829145728643216"
      ]
     },
     "execution_count": 72,
     "metadata": {},
     "output_type": "execute_result"
    }
   ],
   "source": [
    "pipe.score(X_test, y_test)"
   ]
  },
  {
   "cell_type": "markdown",
   "id": "0c52b5de-cd76-43d8-86fa-d334e4164ad6",
   "metadata": {},
   "source": [
    "## KNN with CountVectorizer (GridSearchCV)"
   ]
  },
  {
   "cell_type": "code",
   "execution_count": 73,
   "id": "966c5ba6-c829-44af-99fc-24a5d99696ab",
   "metadata": {},
   "outputs": [],
   "source": [
    "param_grid = {\n",
    "    'cvect__max_features': [None, 1000, 5000, 10000],\n",
    "    'cvect__ngram_range': [(1, 1), (1, 2), (1, 3)],\n",
    "    'cvect__stop_words': [None, 'english', stop_words],\n",
    "    'knn__n_neighbors': [3, 5, 7, 9]\n",
    "}\n",
    "\n",
    "grid_search = GridSearchCV(pipe, param_grid=param_grid)"
   ]
  },
  {
   "cell_type": "code",
   "execution_count": 74,
   "id": "0b897478-cb04-42f5-9fde-d25123ca5906",
   "metadata": {},
   "outputs": [
    {
     "data": {
      "text/html": [
       "<style>#sk-container-id-12 {color: black;background-color: white;}#sk-container-id-12 pre{padding: 0;}#sk-container-id-12 div.sk-toggleable {background-color: white;}#sk-container-id-12 label.sk-toggleable__label {cursor: pointer;display: block;width: 100%;margin-bottom: 0;padding: 0.3em;box-sizing: border-box;text-align: center;}#sk-container-id-12 label.sk-toggleable__label-arrow:before {content: \"▸\";float: left;margin-right: 0.25em;color: #696969;}#sk-container-id-12 label.sk-toggleable__label-arrow:hover:before {color: black;}#sk-container-id-12 div.sk-estimator:hover label.sk-toggleable__label-arrow:before {color: black;}#sk-container-id-12 div.sk-toggleable__content {max-height: 0;max-width: 0;overflow: hidden;text-align: left;background-color: #f0f8ff;}#sk-container-id-12 div.sk-toggleable__content pre {margin: 0.2em;color: black;border-radius: 0.25em;background-color: #f0f8ff;}#sk-container-id-12 input.sk-toggleable__control:checked~div.sk-toggleable__content {max-height: 200px;max-width: 100%;overflow: auto;}#sk-container-id-12 input.sk-toggleable__control:checked~label.sk-toggleable__label-arrow:before {content: \"▾\";}#sk-container-id-12 div.sk-estimator input.sk-toggleable__control:checked~label.sk-toggleable__label {background-color: #d4ebff;}#sk-container-id-12 div.sk-label input.sk-toggleable__control:checked~label.sk-toggleable__label {background-color: #d4ebff;}#sk-container-id-12 input.sk-hidden--visually {border: 0;clip: rect(1px 1px 1px 1px);clip: rect(1px, 1px, 1px, 1px);height: 1px;margin: -1px;overflow: hidden;padding: 0;position: absolute;width: 1px;}#sk-container-id-12 div.sk-estimator {font-family: monospace;background-color: #f0f8ff;border: 1px dotted black;border-radius: 0.25em;box-sizing: border-box;margin-bottom: 0.5em;}#sk-container-id-12 div.sk-estimator:hover {background-color: #d4ebff;}#sk-container-id-12 div.sk-parallel-item::after {content: \"\";width: 100%;border-bottom: 1px solid gray;flex-grow: 1;}#sk-container-id-12 div.sk-label:hover label.sk-toggleable__label {background-color: #d4ebff;}#sk-container-id-12 div.sk-serial::before {content: \"\";position: absolute;border-left: 1px solid gray;box-sizing: border-box;top: 0;bottom: 0;left: 50%;z-index: 0;}#sk-container-id-12 div.sk-serial {display: flex;flex-direction: column;align-items: center;background-color: white;padding-right: 0.2em;padding-left: 0.2em;position: relative;}#sk-container-id-12 div.sk-item {position: relative;z-index: 1;}#sk-container-id-12 div.sk-parallel {display: flex;align-items: stretch;justify-content: center;background-color: white;position: relative;}#sk-container-id-12 div.sk-item::before, #sk-container-id-12 div.sk-parallel-item::before {content: \"\";position: absolute;border-left: 1px solid gray;box-sizing: border-box;top: 0;bottom: 0;left: 50%;z-index: -1;}#sk-container-id-12 div.sk-parallel-item {display: flex;flex-direction: column;z-index: 1;position: relative;background-color: white;}#sk-container-id-12 div.sk-parallel-item:first-child::after {align-self: flex-end;width: 50%;}#sk-container-id-12 div.sk-parallel-item:last-child::after {align-self: flex-start;width: 50%;}#sk-container-id-12 div.sk-parallel-item:only-child::after {width: 0;}#sk-container-id-12 div.sk-dashed-wrapped {border: 1px dashed gray;margin: 0 0.4em 0.5em 0.4em;box-sizing: border-box;padding-bottom: 0.4em;background-color: white;}#sk-container-id-12 div.sk-label label {font-family: monospace;font-weight: bold;display: inline-block;line-height: 1.2em;}#sk-container-id-12 div.sk-label-container {text-align: center;}#sk-container-id-12 div.sk-container {/* jupyter's `normalize.less` sets `[hidden] { display: none; }` but bootstrap.min.css set `[hidden] { display: none !important; }` so we also need the `!important` here to be able to override the default hidden behavior on the sphinx rendered scikit-learn.org. See: https://github.com/scikit-learn/scikit-learn/issues/21755 */display: inline-block !important;position: relative;}#sk-container-id-12 div.sk-text-repr-fallback {display: none;}</style><div id=\"sk-container-id-12\" class=\"sk-top-container\"><div class=\"sk-text-repr-fallback\"><pre>GridSearchCV(estimator=Pipeline(steps=[(&#x27;cvect&#x27;,\n",
       "                                        CountVectorizer(stop_words=[&#x27;further&#x27;,\n",
       "                                                                    &#x27;move&#x27;,\n",
       "                                                                    &#x27;many&#x27;,\n",
       "                                                                    &#x27;he&#x27;,\n",
       "                                                                    &#x27;bodybuilder&#x27;,\n",
       "                                                                    &#x27;enough&#x27;,\n",
       "                                                                    &#x27;at&#x27;,\n",
       "                                                                    &#x27;even&#x27;,\n",
       "                                                                    &#x27;latterly&#x27;,\n",
       "                                                                    &#x27;once&#x27;,\n",
       "                                                                    &#x27;first&#x27;,\n",
       "                                                                    &#x27;becomes&#x27;,\n",
       "                                                                    &#x27;others&#x27;,\n",
       "                                                                    &#x27;nbsp&#x27;,\n",
       "                                                                    &#x27;whether&#x27;,\n",
       "                                                                    &#x27;much&#x27;,\n",
       "                                                                    &#x27;really&#x27;,\n",
       "                                                                    &#x27;often&#x27;,\n",
       "                                                                    &#x27;everything&#x27;,\n",
       "                                                                    &#x27;below&#x27;,\n",
       "                                                                    &#x27;noone&#x27;,\n",
       "                                                                    &#x27;sixty&#x27;,\n",
       "                                                                    &#x27;former&#x27;,\n",
       "                                                                    &#x27;whose&#x27;,\n",
       "                                                                    &#x27;but&#x27;,\n",
       "                                                                    &#x27;per&#x27;,\n",
       "                                                                    &#x27;thereupon&#x27;,\n",
       "                                                                    &#x27;detail&#x27;,\n",
       "                                                                    &#x27;most&#x27;,\n",
       "                                                                    &#x27;please&#x27;, ...])),\n",
       "                                       (&#x27;scaler&#x27;,\n",
       "                                        Stan...\n",
       "                         &#x27;cvect__ngram_range&#x27;: [(1, 1), (1, 2), (1, 3)],\n",
       "                         &#x27;cvect__stop_words&#x27;: [None, &#x27;english&#x27;,\n",
       "                                               [&#x27;further&#x27;, &#x27;move&#x27;, &#x27;many&#x27;, &#x27;he&#x27;,\n",
       "                                                &#x27;bodybuilder&#x27;, &#x27;enough&#x27;, &#x27;at&#x27;,\n",
       "                                                &#x27;even&#x27;, &#x27;latterly&#x27;, &#x27;once&#x27;,\n",
       "                                                &#x27;first&#x27;, &#x27;becomes&#x27;, &#x27;others&#x27;,\n",
       "                                                &#x27;nbsp&#x27;, &#x27;whether&#x27;, &#x27;much&#x27;,\n",
       "                                                &#x27;really&#x27;, &#x27;often&#x27;, &#x27;everything&#x27;,\n",
       "                                                &#x27;below&#x27;, &#x27;noone&#x27;, &#x27;sixty&#x27;,\n",
       "                                                &#x27;former&#x27;, &#x27;whose&#x27;, &#x27;but&#x27;, &#x27;per&#x27;,\n",
       "                                                &#x27;thereupon&#x27;, &#x27;detail&#x27;, &#x27;most&#x27;,\n",
       "                                                &#x27;please&#x27;, ...]],\n",
       "                         &#x27;knn__n_neighbors&#x27;: [3, 5, 7, 9]})</pre><b>In a Jupyter environment, please rerun this cell to show the HTML representation or trust the notebook. <br />On GitHub, the HTML representation is unable to render, please try loading this page with nbviewer.org.</b></div><div class=\"sk-container\" hidden><div class=\"sk-item sk-dashed-wrapped\"><div class=\"sk-label-container\"><div class=\"sk-label sk-toggleable\"><input class=\"sk-toggleable__control sk-hidden--visually\" id=\"sk-estimator-id-39\" type=\"checkbox\" ><label for=\"sk-estimator-id-39\" class=\"sk-toggleable__label sk-toggleable__label-arrow\">GridSearchCV</label><div class=\"sk-toggleable__content\"><pre>GridSearchCV(estimator=Pipeline(steps=[(&#x27;cvect&#x27;,\n",
       "                                        CountVectorizer(stop_words=[&#x27;further&#x27;,\n",
       "                                                                    &#x27;move&#x27;,\n",
       "                                                                    &#x27;many&#x27;,\n",
       "                                                                    &#x27;he&#x27;,\n",
       "                                                                    &#x27;bodybuilder&#x27;,\n",
       "                                                                    &#x27;enough&#x27;,\n",
       "                                                                    &#x27;at&#x27;,\n",
       "                                                                    &#x27;even&#x27;,\n",
       "                                                                    &#x27;latterly&#x27;,\n",
       "                                                                    &#x27;once&#x27;,\n",
       "                                                                    &#x27;first&#x27;,\n",
       "                                                                    &#x27;becomes&#x27;,\n",
       "                                                                    &#x27;others&#x27;,\n",
       "                                                                    &#x27;nbsp&#x27;,\n",
       "                                                                    &#x27;whether&#x27;,\n",
       "                                                                    &#x27;much&#x27;,\n",
       "                                                                    &#x27;really&#x27;,\n",
       "                                                                    &#x27;often&#x27;,\n",
       "                                                                    &#x27;everything&#x27;,\n",
       "                                                                    &#x27;below&#x27;,\n",
       "                                                                    &#x27;noone&#x27;,\n",
       "                                                                    &#x27;sixty&#x27;,\n",
       "                                                                    &#x27;former&#x27;,\n",
       "                                                                    &#x27;whose&#x27;,\n",
       "                                                                    &#x27;but&#x27;,\n",
       "                                                                    &#x27;per&#x27;,\n",
       "                                                                    &#x27;thereupon&#x27;,\n",
       "                                                                    &#x27;detail&#x27;,\n",
       "                                                                    &#x27;most&#x27;,\n",
       "                                                                    &#x27;please&#x27;, ...])),\n",
       "                                       (&#x27;scaler&#x27;,\n",
       "                                        Stan...\n",
       "                         &#x27;cvect__ngram_range&#x27;: [(1, 1), (1, 2), (1, 3)],\n",
       "                         &#x27;cvect__stop_words&#x27;: [None, &#x27;english&#x27;,\n",
       "                                               [&#x27;further&#x27;, &#x27;move&#x27;, &#x27;many&#x27;, &#x27;he&#x27;,\n",
       "                                                &#x27;bodybuilder&#x27;, &#x27;enough&#x27;, &#x27;at&#x27;,\n",
       "                                                &#x27;even&#x27;, &#x27;latterly&#x27;, &#x27;once&#x27;,\n",
       "                                                &#x27;first&#x27;, &#x27;becomes&#x27;, &#x27;others&#x27;,\n",
       "                                                &#x27;nbsp&#x27;, &#x27;whether&#x27;, &#x27;much&#x27;,\n",
       "                                                &#x27;really&#x27;, &#x27;often&#x27;, &#x27;everything&#x27;,\n",
       "                                                &#x27;below&#x27;, &#x27;noone&#x27;, &#x27;sixty&#x27;,\n",
       "                                                &#x27;former&#x27;, &#x27;whose&#x27;, &#x27;but&#x27;, &#x27;per&#x27;,\n",
       "                                                &#x27;thereupon&#x27;, &#x27;detail&#x27;, &#x27;most&#x27;,\n",
       "                                                &#x27;please&#x27;, ...]],\n",
       "                         &#x27;knn__n_neighbors&#x27;: [3, 5, 7, 9]})</pre></div></div></div><div class=\"sk-parallel\"><div class=\"sk-parallel-item\"><div class=\"sk-item\"><div class=\"sk-label-container\"><div class=\"sk-label sk-toggleable\"><input class=\"sk-toggleable__control sk-hidden--visually\" id=\"sk-estimator-id-40\" type=\"checkbox\" ><label for=\"sk-estimator-id-40\" class=\"sk-toggleable__label sk-toggleable__label-arrow\">estimator: Pipeline</label><div class=\"sk-toggleable__content\"><pre>Pipeline(steps=[(&#x27;cvect&#x27;,\n",
       "                 CountVectorizer(stop_words=[&#x27;further&#x27;, &#x27;move&#x27;, &#x27;many&#x27;, &#x27;he&#x27;,\n",
       "                                             &#x27;bodybuilder&#x27;, &#x27;enough&#x27;, &#x27;at&#x27;,\n",
       "                                             &#x27;even&#x27;, &#x27;latterly&#x27;, &#x27;once&#x27;,\n",
       "                                             &#x27;first&#x27;, &#x27;becomes&#x27;, &#x27;others&#x27;,\n",
       "                                             &#x27;nbsp&#x27;, &#x27;whether&#x27;, &#x27;much&#x27;,\n",
       "                                             &#x27;really&#x27;, &#x27;often&#x27;, &#x27;everything&#x27;,\n",
       "                                             &#x27;below&#x27;, &#x27;noone&#x27;, &#x27;sixty&#x27;,\n",
       "                                             &#x27;former&#x27;, &#x27;whose&#x27;, &#x27;but&#x27;, &#x27;per&#x27;,\n",
       "                                             &#x27;thereupon&#x27;, &#x27;detail&#x27;, &#x27;most&#x27;,\n",
       "                                             &#x27;please&#x27;, ...])),\n",
       "                (&#x27;scaler&#x27;, StandardScaler(with_mean=False)),\n",
       "                (&#x27;knn&#x27;, KNeighborsClassifier())])</pre></div></div></div><div class=\"sk-serial\"><div class=\"sk-item\"><div class=\"sk-serial\"><div class=\"sk-item\"><div class=\"sk-estimator sk-toggleable\"><input class=\"sk-toggleable__control sk-hidden--visually\" id=\"sk-estimator-id-41\" type=\"checkbox\" ><label for=\"sk-estimator-id-41\" class=\"sk-toggleable__label sk-toggleable__label-arrow\">CountVectorizer</label><div class=\"sk-toggleable__content\"><pre>CountVectorizer(stop_words=[&#x27;further&#x27;, &#x27;move&#x27;, &#x27;many&#x27;, &#x27;he&#x27;, &#x27;bodybuilder&#x27;,\n",
       "                            &#x27;enough&#x27;, &#x27;at&#x27;, &#x27;even&#x27;, &#x27;latterly&#x27;, &#x27;once&#x27;, &#x27;first&#x27;,\n",
       "                            &#x27;becomes&#x27;, &#x27;others&#x27;, &#x27;nbsp&#x27;, &#x27;whether&#x27;, &#x27;much&#x27;,\n",
       "                            &#x27;really&#x27;, &#x27;often&#x27;, &#x27;everything&#x27;, &#x27;below&#x27;, &#x27;noone&#x27;,\n",
       "                            &#x27;sixty&#x27;, &#x27;former&#x27;, &#x27;whose&#x27;, &#x27;but&#x27;, &#x27;per&#x27;,\n",
       "                            &#x27;thereupon&#x27;, &#x27;detail&#x27;, &#x27;most&#x27;, &#x27;please&#x27;, ...])</pre></div></div></div><div class=\"sk-item\"><div class=\"sk-estimator sk-toggleable\"><input class=\"sk-toggleable__control sk-hidden--visually\" id=\"sk-estimator-id-42\" type=\"checkbox\" ><label for=\"sk-estimator-id-42\" class=\"sk-toggleable__label sk-toggleable__label-arrow\">StandardScaler</label><div class=\"sk-toggleable__content\"><pre>StandardScaler(with_mean=False)</pre></div></div></div><div class=\"sk-item\"><div class=\"sk-estimator sk-toggleable\"><input class=\"sk-toggleable__control sk-hidden--visually\" id=\"sk-estimator-id-43\" type=\"checkbox\" ><label for=\"sk-estimator-id-43\" class=\"sk-toggleable__label sk-toggleable__label-arrow\">KNeighborsClassifier</label><div class=\"sk-toggleable__content\"><pre>KNeighborsClassifier()</pre></div></div></div></div></div></div></div></div></div></div></div></div>"
      ],
      "text/plain": [
       "GridSearchCV(estimator=Pipeline(steps=[('cvect',\n",
       "                                        CountVectorizer(stop_words=['further',\n",
       "                                                                    'move',\n",
       "                                                                    'many',\n",
       "                                                                    'he',\n",
       "                                                                    'bodybuilder',\n",
       "                                                                    'enough',\n",
       "                                                                    'at',\n",
       "                                                                    'even',\n",
       "                                                                    'latterly',\n",
       "                                                                    'once',\n",
       "                                                                    'first',\n",
       "                                                                    'becomes',\n",
       "                                                                    'others',\n",
       "                                                                    'nbsp',\n",
       "                                                                    'whether',\n",
       "                                                                    'much',\n",
       "                                                                    'really',\n",
       "                                                                    'often',\n",
       "                                                                    'everything',\n",
       "                                                                    'below',\n",
       "                                                                    'noone',\n",
       "                                                                    'sixty',\n",
       "                                                                    'former',\n",
       "                                                                    'whose',\n",
       "                                                                    'but',\n",
       "                                                                    'per',\n",
       "                                                                    'thereupon',\n",
       "                                                                    'detail',\n",
       "                                                                    'most',\n",
       "                                                                    'please', ...])),\n",
       "                                       ('scaler',\n",
       "                                        Stan...\n",
       "                         'cvect__ngram_range': [(1, 1), (1, 2), (1, 3)],\n",
       "                         'cvect__stop_words': [None, 'english',\n",
       "                                               ['further', 'move', 'many', 'he',\n",
       "                                                'bodybuilder', 'enough', 'at',\n",
       "                                                'even', 'latterly', 'once',\n",
       "                                                'first', 'becomes', 'others',\n",
       "                                                'nbsp', 'whether', 'much',\n",
       "                                                'really', 'often', 'everything',\n",
       "                                                'below', 'noone', 'sixty',\n",
       "                                                'former', 'whose', 'but', 'per',\n",
       "                                                'thereupon', 'detail', 'most',\n",
       "                                                'please', ...]],\n",
       "                         'knn__n_neighbors': [3, 5, 7, 9]})"
      ]
     },
     "execution_count": 74,
     "metadata": {},
     "output_type": "execute_result"
    }
   ],
   "source": [
    "grid_search.fit(X_train, y_train)"
   ]
  },
  {
   "cell_type": "code",
   "execution_count": 75,
   "id": "41515df8-ce0f-478a-b467-d319939cdc06",
   "metadata": {},
   "outputs": [
    {
     "data": {
      "text/plain": [
       "{'cvect__max_features': 1000,\n",
       " 'cvect__ngram_range': (1, 1),\n",
       " 'cvect__stop_words': ['further',\n",
       "  'move',\n",
       "  'many',\n",
       "  'he',\n",
       "  'bodybuilder',\n",
       "  'enough',\n",
       "  'at',\n",
       "  'even',\n",
       "  'latterly',\n",
       "  'once',\n",
       "  'first',\n",
       "  'becomes',\n",
       "  'others',\n",
       "  'nbsp',\n",
       "  'whether',\n",
       "  'much',\n",
       "  'really',\n",
       "  'often',\n",
       "  'everything',\n",
       "  'below',\n",
       "  'noone',\n",
       "  'sixty',\n",
       "  'former',\n",
       "  'whose',\n",
       "  'but',\n",
       "  'per',\n",
       "  'thereupon',\n",
       "  'detail',\n",
       "  'most',\n",
       "  'please',\n",
       "  'beforehand',\n",
       "  'someone',\n",
       "  'indeed',\n",
       "  'mostly',\n",
       "  'five',\n",
       "  'somehow',\n",
       "  'however',\n",
       "  'seemed',\n",
       "  'hasnt',\n",
       "  'was',\n",
       "  'whence',\n",
       "  'get',\n",
       "  'us',\n",
       "  'we',\n",
       "  'due',\n",
       "  'becoming',\n",
       "  'been',\n",
       "  'hundred',\n",
       "  'beside',\n",
       "  'anything',\n",
       "  'hereafter',\n",
       "  'third',\n",
       "  'each',\n",
       "  'bottom',\n",
       "  'from',\n",
       "  'her',\n",
       "  'hereupon',\n",
       "  'again',\n",
       "  'him',\n",
       "  'moreover',\n",
       "  'for',\n",
       "  'must',\n",
       "  'throughout',\n",
       "  'via',\n",
       "  'next',\n",
       "  'two',\n",
       "  'could',\n",
       "  'con',\n",
       "  'whereupon',\n",
       "  'amount',\n",
       "  'here',\n",
       "  'by',\n",
       "  'few',\n",
       "  'couldnt',\n",
       "  'when',\n",
       "  'off',\n",
       "  'go',\n",
       "  'and',\n",
       "  'any',\n",
       "  'down',\n",
       "  'in',\n",
       "  'whom',\n",
       "  'anywhere',\n",
       "  'around',\n",
       "  'no',\n",
       "  'sincere',\n",
       "  'what',\n",
       "  'side',\n",
       "  'though',\n",
       "  'least',\n",
       "  'thru',\n",
       "  'other',\n",
       "  'neither',\n",
       "  'everywhere',\n",
       "  'herself',\n",
       "  'none',\n",
       "  'too',\n",
       "  'thin',\n",
       "  'yourself',\n",
       "  'besides',\n",
       "  'see',\n",
       "  'as',\n",
       "  'without',\n",
       "  'twelve',\n",
       "  'against',\n",
       "  'fifty',\n",
       "  'alone',\n",
       "  'formerly',\n",
       "  'among',\n",
       "  'across',\n",
       "  'always',\n",
       "  'front',\n",
       "  'therein',\n",
       "  'do',\n",
       "  'up',\n",
       "  'nothing',\n",
       "  'upon',\n",
       "  'now',\n",
       "  'seems',\n",
       "  'how',\n",
       "  'your',\n",
       "  'except',\n",
       "  'bill',\n",
       "  'so',\n",
       "  'are',\n",
       "  'three',\n",
       "  'would',\n",
       "  'seeming',\n",
       "  'system',\n",
       "  'may',\n",
       "  'both',\n",
       "  'had',\n",
       "  'fill',\n",
       "  'same',\n",
       "  'forty',\n",
       "  've',\n",
       "  'until',\n",
       "  'nowhere',\n",
       "  'has',\n",
       "  'whatever',\n",
       "  'after',\n",
       "  'some',\n",
       "  'did',\n",
       "  'de',\n",
       "  'cry',\n",
       "  'seem',\n",
       "  'com',\n",
       "  'rather',\n",
       "  'them',\n",
       "  'since',\n",
       "  'hence',\n",
       "  'it',\n",
       "  'above',\n",
       "  'became',\n",
       "  'empty',\n",
       "  'either',\n",
       "  'well',\n",
       "  'nor',\n",
       "  'latter',\n",
       "  'thereby',\n",
       "  'become',\n",
       "  'thick',\n",
       "  'have',\n",
       "  'those',\n",
       "  'nine',\n",
       "  'top',\n",
       "  'themselves',\n",
       "  'take',\n",
       "  'thereafter',\n",
       "  'good',\n",
       "  'call',\n",
       "  'whither',\n",
       "  'out',\n",
       "  'that',\n",
       "  'therefore',\n",
       "  'afterwards',\n",
       "  'thence',\n",
       "  'should',\n",
       "  'then',\n",
       "  'a',\n",
       "  'whoever',\n",
       "  'nobody',\n",
       "  'while',\n",
       "  'somewhere',\n",
       "  'found',\n",
       "  'of',\n",
       "  'or',\n",
       "  'not',\n",
       "  'find',\n",
       "  'there',\n",
       "  'co',\n",
       "  'own',\n",
       "  'they',\n",
       "  'everyone',\n",
       "  'itself',\n",
       "  'sometimes',\n",
       "  'fire',\n",
       "  'else',\n",
       "  'am',\n",
       "  'through',\n",
       "  'together',\n",
       "  'full',\n",
       "  'toward',\n",
       "  'why',\n",
       "  'sometime',\n",
       "  'me',\n",
       "  'name',\n",
       "  'before',\n",
       "  'etc',\n",
       "  'ours',\n",
       "  'fifteen',\n",
       "  'anyhow',\n",
       "  'put',\n",
       "  'be',\n",
       "  'hers',\n",
       "  'between',\n",
       "  'all',\n",
       "  'myself',\n",
       "  'nevertheless',\n",
       "  'interest',\n",
       "  'www',\n",
       "  'more',\n",
       "  'this',\n",
       "  'inc',\n",
       "  'ever',\n",
       "  'onto',\n",
       "  'only',\n",
       "  'every',\n",
       "  'elsewhere',\n",
       "  'https',\n",
       "  'with',\n",
       "  'anyone',\n",
       "  'who',\n",
       "  'show',\n",
       "  'although',\n",
       "  'serious',\n",
       "  'thus',\n",
       "  'another',\n",
       "  'under',\n",
       "  'i',\n",
       "  'already',\n",
       "  'un',\n",
       "  'because',\n",
       "  'last',\n",
       "  'will',\n",
       "  'cannot',\n",
       "  'himself',\n",
       "  'powerlifting',\n",
       "  'anyway',\n",
       "  'six',\n",
       "  'which',\n",
       "  'yet',\n",
       "  'like',\n",
       "  'four',\n",
       "  'perhaps',\n",
       "  'yours',\n",
       "  'give',\n",
       "  'you',\n",
       "  'she',\n",
       "  'amongst',\n",
       "  'its',\n",
       "  'their',\n",
       "  'an',\n",
       "  'his',\n",
       "  'being',\n",
       "  'were',\n",
       "  'just',\n",
       "  'powerlifter',\n",
       "  'one',\n",
       "  'than',\n",
       "  'ie',\n",
       "  'ten',\n",
       "  'hereby',\n",
       "  'ltd',\n",
       "  'within',\n",
       "  'beyond',\n",
       "  'whereas',\n",
       "  'back',\n",
       "  'about',\n",
       "  'wherever',\n",
       "  'otherwise',\n",
       "  'such',\n",
       "  'herein',\n",
       "  'less',\n",
       "  'whereafter',\n",
       "  'cant',\n",
       "  'something',\n",
       "  'mine',\n",
       "  'on',\n",
       "  'is',\n",
       "  'also',\n",
       "  'whole',\n",
       "  'part',\n",
       "  'ourselves',\n",
       "  'if',\n",
       "  'almost',\n",
       "  'namely',\n",
       "  'very',\n",
       "  'never',\n",
       "  'twenty',\n",
       "  'made',\n",
       "  'might',\n",
       "  'whenever',\n",
       "  'during',\n",
       "  'still',\n",
       "  'eleven',\n",
       "  'eg',\n",
       "  'our',\n",
       "  'new',\n",
       "  'these',\n",
       "  'where',\n",
       "  'describe',\n",
       "  'bodybuilding',\n",
       "  'my',\n",
       "  'done',\n",
       "  'amoungst',\n",
       "  'into',\n",
       "  'several',\n",
       "  're',\n",
       "  'mill',\n",
       "  'meanwhile',\n",
       "  'yourselves',\n",
       "  'wherein',\n",
       "  'eight',\n",
       "  'over',\n",
       "  'behind',\n",
       "  'along',\n",
       "  'towards',\n",
       "  'to',\n",
       "  'keep',\n",
       "  'can',\n",
       "  'the',\n",
       "  'whereby'],\n",
       " 'knn__n_neighbors': 7}"
      ]
     },
     "execution_count": 75,
     "metadata": {},
     "output_type": "execute_result"
    }
   ],
   "source": [
    "grid_search.best_params_"
   ]
  },
  {
   "cell_type": "code",
   "execution_count": 76,
   "id": "6d6cea72-49b8-4028-b90e-a445a3542e1b",
   "metadata": {},
   "outputs": [
    {
     "data": {
      "text/plain": [
       "0.9126884422110553"
      ]
     },
     "execution_count": 76,
     "metadata": {},
     "output_type": "execute_result"
    }
   ],
   "source": [
    "grid_search.score(X_train, y_train)"
   ]
  },
  {
   "cell_type": "code",
   "execution_count": 77,
   "id": "7ec44f04-359f-40df-813a-4009d3e09e50",
   "metadata": {},
   "outputs": [
    {
     "data": {
      "text/plain": [
       "0.8693467336683417"
      ]
     },
     "execution_count": 77,
     "metadata": {},
     "output_type": "execute_result"
    }
   ],
   "source": [
    "grid_search.score(X_test, y_test)"
   ]
  },
  {
   "cell_type": "markdown",
   "id": "e8c18d0b-8746-46e0-8695-640ef85669f8",
   "metadata": {},
   "source": [
    "## RandomForest with CountVectorizer"
   ]
  },
  {
   "cell_type": "code",
   "execution_count": 78,
   "id": "2f7aca97-4909-41bb-8e17-34e996719000",
   "metadata": {},
   "outputs": [
    {
     "data": {
      "text/html": [
       "<style>#sk-container-id-13 {color: black;background-color: white;}#sk-container-id-13 pre{padding: 0;}#sk-container-id-13 div.sk-toggleable {background-color: white;}#sk-container-id-13 label.sk-toggleable__label {cursor: pointer;display: block;width: 100%;margin-bottom: 0;padding: 0.3em;box-sizing: border-box;text-align: center;}#sk-container-id-13 label.sk-toggleable__label-arrow:before {content: \"▸\";float: left;margin-right: 0.25em;color: #696969;}#sk-container-id-13 label.sk-toggleable__label-arrow:hover:before {color: black;}#sk-container-id-13 div.sk-estimator:hover label.sk-toggleable__label-arrow:before {color: black;}#sk-container-id-13 div.sk-toggleable__content {max-height: 0;max-width: 0;overflow: hidden;text-align: left;background-color: #f0f8ff;}#sk-container-id-13 div.sk-toggleable__content pre {margin: 0.2em;color: black;border-radius: 0.25em;background-color: #f0f8ff;}#sk-container-id-13 input.sk-toggleable__control:checked~div.sk-toggleable__content {max-height: 200px;max-width: 100%;overflow: auto;}#sk-container-id-13 input.sk-toggleable__control:checked~label.sk-toggleable__label-arrow:before {content: \"▾\";}#sk-container-id-13 div.sk-estimator input.sk-toggleable__control:checked~label.sk-toggleable__label {background-color: #d4ebff;}#sk-container-id-13 div.sk-label input.sk-toggleable__control:checked~label.sk-toggleable__label {background-color: #d4ebff;}#sk-container-id-13 input.sk-hidden--visually {border: 0;clip: rect(1px 1px 1px 1px);clip: rect(1px, 1px, 1px, 1px);height: 1px;margin: -1px;overflow: hidden;padding: 0;position: absolute;width: 1px;}#sk-container-id-13 div.sk-estimator {font-family: monospace;background-color: #f0f8ff;border: 1px dotted black;border-radius: 0.25em;box-sizing: border-box;margin-bottom: 0.5em;}#sk-container-id-13 div.sk-estimator:hover {background-color: #d4ebff;}#sk-container-id-13 div.sk-parallel-item::after {content: \"\";width: 100%;border-bottom: 1px solid gray;flex-grow: 1;}#sk-container-id-13 div.sk-label:hover label.sk-toggleable__label {background-color: #d4ebff;}#sk-container-id-13 div.sk-serial::before {content: \"\";position: absolute;border-left: 1px solid gray;box-sizing: border-box;top: 0;bottom: 0;left: 50%;z-index: 0;}#sk-container-id-13 div.sk-serial {display: flex;flex-direction: column;align-items: center;background-color: white;padding-right: 0.2em;padding-left: 0.2em;position: relative;}#sk-container-id-13 div.sk-item {position: relative;z-index: 1;}#sk-container-id-13 div.sk-parallel {display: flex;align-items: stretch;justify-content: center;background-color: white;position: relative;}#sk-container-id-13 div.sk-item::before, #sk-container-id-13 div.sk-parallel-item::before {content: \"\";position: absolute;border-left: 1px solid gray;box-sizing: border-box;top: 0;bottom: 0;left: 50%;z-index: -1;}#sk-container-id-13 div.sk-parallel-item {display: flex;flex-direction: column;z-index: 1;position: relative;background-color: white;}#sk-container-id-13 div.sk-parallel-item:first-child::after {align-self: flex-end;width: 50%;}#sk-container-id-13 div.sk-parallel-item:last-child::after {align-self: flex-start;width: 50%;}#sk-container-id-13 div.sk-parallel-item:only-child::after {width: 0;}#sk-container-id-13 div.sk-dashed-wrapped {border: 1px dashed gray;margin: 0 0.4em 0.5em 0.4em;box-sizing: border-box;padding-bottom: 0.4em;background-color: white;}#sk-container-id-13 div.sk-label label {font-family: monospace;font-weight: bold;display: inline-block;line-height: 1.2em;}#sk-container-id-13 div.sk-label-container {text-align: center;}#sk-container-id-13 div.sk-container {/* jupyter's `normalize.less` sets `[hidden] { display: none; }` but bootstrap.min.css set `[hidden] { display: none !important; }` so we also need the `!important` here to be able to override the default hidden behavior on the sphinx rendered scikit-learn.org. See: https://github.com/scikit-learn/scikit-learn/issues/21755 */display: inline-block !important;position: relative;}#sk-container-id-13 div.sk-text-repr-fallback {display: none;}</style><div id=\"sk-container-id-13\" class=\"sk-top-container\"><div class=\"sk-text-repr-fallback\"><pre>Pipeline(steps=[(&#x27;cvect&#x27;,\n",
       "                 CountVectorizer(stop_words=[&#x27;further&#x27;, &#x27;move&#x27;, &#x27;many&#x27;, &#x27;he&#x27;,\n",
       "                                             &#x27;bodybuilder&#x27;, &#x27;enough&#x27;, &#x27;at&#x27;,\n",
       "                                             &#x27;even&#x27;, &#x27;latterly&#x27;, &#x27;once&#x27;,\n",
       "                                             &#x27;first&#x27;, &#x27;becomes&#x27;, &#x27;others&#x27;,\n",
       "                                             &#x27;nbsp&#x27;, &#x27;whether&#x27;, &#x27;much&#x27;,\n",
       "                                             &#x27;really&#x27;, &#x27;often&#x27;, &#x27;everything&#x27;,\n",
       "                                             &#x27;below&#x27;, &#x27;noone&#x27;, &#x27;sixty&#x27;,\n",
       "                                             &#x27;former&#x27;, &#x27;whose&#x27;, &#x27;but&#x27;, &#x27;per&#x27;,\n",
       "                                             &#x27;thereupon&#x27;, &#x27;detail&#x27;, &#x27;most&#x27;,\n",
       "                                             &#x27;please&#x27;, ...])),\n",
       "                (&#x27;rf&#x27;, RandomForestClassifier())])</pre><b>In a Jupyter environment, please rerun this cell to show the HTML representation or trust the notebook. <br />On GitHub, the HTML representation is unable to render, please try loading this page with nbviewer.org.</b></div><div class=\"sk-container\" hidden><div class=\"sk-item sk-dashed-wrapped\"><div class=\"sk-label-container\"><div class=\"sk-label sk-toggleable\"><input class=\"sk-toggleable__control sk-hidden--visually\" id=\"sk-estimator-id-44\" type=\"checkbox\" ><label for=\"sk-estimator-id-44\" class=\"sk-toggleable__label sk-toggleable__label-arrow\">Pipeline</label><div class=\"sk-toggleable__content\"><pre>Pipeline(steps=[(&#x27;cvect&#x27;,\n",
       "                 CountVectorizer(stop_words=[&#x27;further&#x27;, &#x27;move&#x27;, &#x27;many&#x27;, &#x27;he&#x27;,\n",
       "                                             &#x27;bodybuilder&#x27;, &#x27;enough&#x27;, &#x27;at&#x27;,\n",
       "                                             &#x27;even&#x27;, &#x27;latterly&#x27;, &#x27;once&#x27;,\n",
       "                                             &#x27;first&#x27;, &#x27;becomes&#x27;, &#x27;others&#x27;,\n",
       "                                             &#x27;nbsp&#x27;, &#x27;whether&#x27;, &#x27;much&#x27;,\n",
       "                                             &#x27;really&#x27;, &#x27;often&#x27;, &#x27;everything&#x27;,\n",
       "                                             &#x27;below&#x27;, &#x27;noone&#x27;, &#x27;sixty&#x27;,\n",
       "                                             &#x27;former&#x27;, &#x27;whose&#x27;, &#x27;but&#x27;, &#x27;per&#x27;,\n",
       "                                             &#x27;thereupon&#x27;, &#x27;detail&#x27;, &#x27;most&#x27;,\n",
       "                                             &#x27;please&#x27;, ...])),\n",
       "                (&#x27;rf&#x27;, RandomForestClassifier())])</pre></div></div></div><div class=\"sk-serial\"><div class=\"sk-item\"><div class=\"sk-estimator sk-toggleable\"><input class=\"sk-toggleable__control sk-hidden--visually\" id=\"sk-estimator-id-45\" type=\"checkbox\" ><label for=\"sk-estimator-id-45\" class=\"sk-toggleable__label sk-toggleable__label-arrow\">CountVectorizer</label><div class=\"sk-toggleable__content\"><pre>CountVectorizer(stop_words=[&#x27;further&#x27;, &#x27;move&#x27;, &#x27;many&#x27;, &#x27;he&#x27;, &#x27;bodybuilder&#x27;,\n",
       "                            &#x27;enough&#x27;, &#x27;at&#x27;, &#x27;even&#x27;, &#x27;latterly&#x27;, &#x27;once&#x27;, &#x27;first&#x27;,\n",
       "                            &#x27;becomes&#x27;, &#x27;others&#x27;, &#x27;nbsp&#x27;, &#x27;whether&#x27;, &#x27;much&#x27;,\n",
       "                            &#x27;really&#x27;, &#x27;often&#x27;, &#x27;everything&#x27;, &#x27;below&#x27;, &#x27;noone&#x27;,\n",
       "                            &#x27;sixty&#x27;, &#x27;former&#x27;, &#x27;whose&#x27;, &#x27;but&#x27;, &#x27;per&#x27;,\n",
       "                            &#x27;thereupon&#x27;, &#x27;detail&#x27;, &#x27;most&#x27;, &#x27;please&#x27;, ...])</pre></div></div></div><div class=\"sk-item\"><div class=\"sk-estimator sk-toggleable\"><input class=\"sk-toggleable__control sk-hidden--visually\" id=\"sk-estimator-id-46\" type=\"checkbox\" ><label for=\"sk-estimator-id-46\" class=\"sk-toggleable__label sk-toggleable__label-arrow\">RandomForestClassifier</label><div class=\"sk-toggleable__content\"><pre>RandomForestClassifier()</pre></div></div></div></div></div></div></div>"
      ],
      "text/plain": [
       "Pipeline(steps=[('cvect',\n",
       "                 CountVectorizer(stop_words=['further', 'move', 'many', 'he',\n",
       "                                             'bodybuilder', 'enough', 'at',\n",
       "                                             'even', 'latterly', 'once',\n",
       "                                             'first', 'becomes', 'others',\n",
       "                                             'nbsp', 'whether', 'much',\n",
       "                                             'really', 'often', 'everything',\n",
       "                                             'below', 'noone', 'sixty',\n",
       "                                             'former', 'whose', 'but', 'per',\n",
       "                                             'thereupon', 'detail', 'most',\n",
       "                                             'please', ...])),\n",
       "                ('rf', RandomForestClassifier())])"
      ]
     },
     "execution_count": 78,
     "metadata": {},
     "output_type": "execute_result"
    }
   ],
   "source": [
    "pipe = Pipeline([\n",
    "    ('cvect', CountVectorizer(stop_words=stop_words)),\n",
    "    ('rf', RandomForestClassifier())\n",
    "])\n",
    "\n",
    "pipe"
   ]
  },
  {
   "cell_type": "code",
   "execution_count": 79,
   "id": "0ec14cd6-a4d9-43cd-b6c2-5374c7beba90",
   "metadata": {},
   "outputs": [
    {
     "data": {
      "text/html": [
       "<style>#sk-container-id-14 {color: black;background-color: white;}#sk-container-id-14 pre{padding: 0;}#sk-container-id-14 div.sk-toggleable {background-color: white;}#sk-container-id-14 label.sk-toggleable__label {cursor: pointer;display: block;width: 100%;margin-bottom: 0;padding: 0.3em;box-sizing: border-box;text-align: center;}#sk-container-id-14 label.sk-toggleable__label-arrow:before {content: \"▸\";float: left;margin-right: 0.25em;color: #696969;}#sk-container-id-14 label.sk-toggleable__label-arrow:hover:before {color: black;}#sk-container-id-14 div.sk-estimator:hover label.sk-toggleable__label-arrow:before {color: black;}#sk-container-id-14 div.sk-toggleable__content {max-height: 0;max-width: 0;overflow: hidden;text-align: left;background-color: #f0f8ff;}#sk-container-id-14 div.sk-toggleable__content pre {margin: 0.2em;color: black;border-radius: 0.25em;background-color: #f0f8ff;}#sk-container-id-14 input.sk-toggleable__control:checked~div.sk-toggleable__content {max-height: 200px;max-width: 100%;overflow: auto;}#sk-container-id-14 input.sk-toggleable__control:checked~label.sk-toggleable__label-arrow:before {content: \"▾\";}#sk-container-id-14 div.sk-estimator input.sk-toggleable__control:checked~label.sk-toggleable__label {background-color: #d4ebff;}#sk-container-id-14 div.sk-label input.sk-toggleable__control:checked~label.sk-toggleable__label {background-color: #d4ebff;}#sk-container-id-14 input.sk-hidden--visually {border: 0;clip: rect(1px 1px 1px 1px);clip: rect(1px, 1px, 1px, 1px);height: 1px;margin: -1px;overflow: hidden;padding: 0;position: absolute;width: 1px;}#sk-container-id-14 div.sk-estimator {font-family: monospace;background-color: #f0f8ff;border: 1px dotted black;border-radius: 0.25em;box-sizing: border-box;margin-bottom: 0.5em;}#sk-container-id-14 div.sk-estimator:hover {background-color: #d4ebff;}#sk-container-id-14 div.sk-parallel-item::after {content: \"\";width: 100%;border-bottom: 1px solid gray;flex-grow: 1;}#sk-container-id-14 div.sk-label:hover label.sk-toggleable__label {background-color: #d4ebff;}#sk-container-id-14 div.sk-serial::before {content: \"\";position: absolute;border-left: 1px solid gray;box-sizing: border-box;top: 0;bottom: 0;left: 50%;z-index: 0;}#sk-container-id-14 div.sk-serial {display: flex;flex-direction: column;align-items: center;background-color: white;padding-right: 0.2em;padding-left: 0.2em;position: relative;}#sk-container-id-14 div.sk-item {position: relative;z-index: 1;}#sk-container-id-14 div.sk-parallel {display: flex;align-items: stretch;justify-content: center;background-color: white;position: relative;}#sk-container-id-14 div.sk-item::before, #sk-container-id-14 div.sk-parallel-item::before {content: \"\";position: absolute;border-left: 1px solid gray;box-sizing: border-box;top: 0;bottom: 0;left: 50%;z-index: -1;}#sk-container-id-14 div.sk-parallel-item {display: flex;flex-direction: column;z-index: 1;position: relative;background-color: white;}#sk-container-id-14 div.sk-parallel-item:first-child::after {align-self: flex-end;width: 50%;}#sk-container-id-14 div.sk-parallel-item:last-child::after {align-self: flex-start;width: 50%;}#sk-container-id-14 div.sk-parallel-item:only-child::after {width: 0;}#sk-container-id-14 div.sk-dashed-wrapped {border: 1px dashed gray;margin: 0 0.4em 0.5em 0.4em;box-sizing: border-box;padding-bottom: 0.4em;background-color: white;}#sk-container-id-14 div.sk-label label {font-family: monospace;font-weight: bold;display: inline-block;line-height: 1.2em;}#sk-container-id-14 div.sk-label-container {text-align: center;}#sk-container-id-14 div.sk-container {/* jupyter's `normalize.less` sets `[hidden] { display: none; }` but bootstrap.min.css set `[hidden] { display: none !important; }` so we also need the `!important` here to be able to override the default hidden behavior on the sphinx rendered scikit-learn.org. See: https://github.com/scikit-learn/scikit-learn/issues/21755 */display: inline-block !important;position: relative;}#sk-container-id-14 div.sk-text-repr-fallback {display: none;}</style><div id=\"sk-container-id-14\" class=\"sk-top-container\"><div class=\"sk-text-repr-fallback\"><pre>Pipeline(steps=[(&#x27;cvect&#x27;,\n",
       "                 CountVectorizer(stop_words=[&#x27;further&#x27;, &#x27;move&#x27;, &#x27;many&#x27;, &#x27;he&#x27;,\n",
       "                                             &#x27;bodybuilder&#x27;, &#x27;enough&#x27;, &#x27;at&#x27;,\n",
       "                                             &#x27;even&#x27;, &#x27;latterly&#x27;, &#x27;once&#x27;,\n",
       "                                             &#x27;first&#x27;, &#x27;becomes&#x27;, &#x27;others&#x27;,\n",
       "                                             &#x27;nbsp&#x27;, &#x27;whether&#x27;, &#x27;much&#x27;,\n",
       "                                             &#x27;really&#x27;, &#x27;often&#x27;, &#x27;everything&#x27;,\n",
       "                                             &#x27;below&#x27;, &#x27;noone&#x27;, &#x27;sixty&#x27;,\n",
       "                                             &#x27;former&#x27;, &#x27;whose&#x27;, &#x27;but&#x27;, &#x27;per&#x27;,\n",
       "                                             &#x27;thereupon&#x27;, &#x27;detail&#x27;, &#x27;most&#x27;,\n",
       "                                             &#x27;please&#x27;, ...])),\n",
       "                (&#x27;rf&#x27;, RandomForestClassifier())])</pre><b>In a Jupyter environment, please rerun this cell to show the HTML representation or trust the notebook. <br />On GitHub, the HTML representation is unable to render, please try loading this page with nbviewer.org.</b></div><div class=\"sk-container\" hidden><div class=\"sk-item sk-dashed-wrapped\"><div class=\"sk-label-container\"><div class=\"sk-label sk-toggleable\"><input class=\"sk-toggleable__control sk-hidden--visually\" id=\"sk-estimator-id-47\" type=\"checkbox\" ><label for=\"sk-estimator-id-47\" class=\"sk-toggleable__label sk-toggleable__label-arrow\">Pipeline</label><div class=\"sk-toggleable__content\"><pre>Pipeline(steps=[(&#x27;cvect&#x27;,\n",
       "                 CountVectorizer(stop_words=[&#x27;further&#x27;, &#x27;move&#x27;, &#x27;many&#x27;, &#x27;he&#x27;,\n",
       "                                             &#x27;bodybuilder&#x27;, &#x27;enough&#x27;, &#x27;at&#x27;,\n",
       "                                             &#x27;even&#x27;, &#x27;latterly&#x27;, &#x27;once&#x27;,\n",
       "                                             &#x27;first&#x27;, &#x27;becomes&#x27;, &#x27;others&#x27;,\n",
       "                                             &#x27;nbsp&#x27;, &#x27;whether&#x27;, &#x27;much&#x27;,\n",
       "                                             &#x27;really&#x27;, &#x27;often&#x27;, &#x27;everything&#x27;,\n",
       "                                             &#x27;below&#x27;, &#x27;noone&#x27;, &#x27;sixty&#x27;,\n",
       "                                             &#x27;former&#x27;, &#x27;whose&#x27;, &#x27;but&#x27;, &#x27;per&#x27;,\n",
       "                                             &#x27;thereupon&#x27;, &#x27;detail&#x27;, &#x27;most&#x27;,\n",
       "                                             &#x27;please&#x27;, ...])),\n",
       "                (&#x27;rf&#x27;, RandomForestClassifier())])</pre></div></div></div><div class=\"sk-serial\"><div class=\"sk-item\"><div class=\"sk-estimator sk-toggleable\"><input class=\"sk-toggleable__control sk-hidden--visually\" id=\"sk-estimator-id-48\" type=\"checkbox\" ><label for=\"sk-estimator-id-48\" class=\"sk-toggleable__label sk-toggleable__label-arrow\">CountVectorizer</label><div class=\"sk-toggleable__content\"><pre>CountVectorizer(stop_words=[&#x27;further&#x27;, &#x27;move&#x27;, &#x27;many&#x27;, &#x27;he&#x27;, &#x27;bodybuilder&#x27;,\n",
       "                            &#x27;enough&#x27;, &#x27;at&#x27;, &#x27;even&#x27;, &#x27;latterly&#x27;, &#x27;once&#x27;, &#x27;first&#x27;,\n",
       "                            &#x27;becomes&#x27;, &#x27;others&#x27;, &#x27;nbsp&#x27;, &#x27;whether&#x27;, &#x27;much&#x27;,\n",
       "                            &#x27;really&#x27;, &#x27;often&#x27;, &#x27;everything&#x27;, &#x27;below&#x27;, &#x27;noone&#x27;,\n",
       "                            &#x27;sixty&#x27;, &#x27;former&#x27;, &#x27;whose&#x27;, &#x27;but&#x27;, &#x27;per&#x27;,\n",
       "                            &#x27;thereupon&#x27;, &#x27;detail&#x27;, &#x27;most&#x27;, &#x27;please&#x27;, ...])</pre></div></div></div><div class=\"sk-item\"><div class=\"sk-estimator sk-toggleable\"><input class=\"sk-toggleable__control sk-hidden--visually\" id=\"sk-estimator-id-49\" type=\"checkbox\" ><label for=\"sk-estimator-id-49\" class=\"sk-toggleable__label sk-toggleable__label-arrow\">RandomForestClassifier</label><div class=\"sk-toggleable__content\"><pre>RandomForestClassifier()</pre></div></div></div></div></div></div></div>"
      ],
      "text/plain": [
       "Pipeline(steps=[('cvect',\n",
       "                 CountVectorizer(stop_words=['further', 'move', 'many', 'he',\n",
       "                                             'bodybuilder', 'enough', 'at',\n",
       "                                             'even', 'latterly', 'once',\n",
       "                                             'first', 'becomes', 'others',\n",
       "                                             'nbsp', 'whether', 'much',\n",
       "                                             'really', 'often', 'everything',\n",
       "                                             'below', 'noone', 'sixty',\n",
       "                                             'former', 'whose', 'but', 'per',\n",
       "                                             'thereupon', 'detail', 'most',\n",
       "                                             'please', ...])),\n",
       "                ('rf', RandomForestClassifier())])"
      ]
     },
     "execution_count": 79,
     "metadata": {},
     "output_type": "execute_result"
    }
   ],
   "source": [
    "pipe.fit(X_train, y_train)"
   ]
  },
  {
   "cell_type": "code",
   "execution_count": 80,
   "id": "fe3ad883-cfb2-45d1-b2e5-ff1e220e802e",
   "metadata": {},
   "outputs": [
    {
     "data": {
      "text/plain": [
       "1.0"
      ]
     },
     "execution_count": 80,
     "metadata": {},
     "output_type": "execute_result"
    }
   ],
   "source": [
    "pipe.score(X_train, y_train)"
   ]
  },
  {
   "cell_type": "code",
   "execution_count": 81,
   "id": "fe9c8085-4f24-4079-bc6b-f94591c691cb",
   "metadata": {},
   "outputs": [
    {
     "data": {
      "text/plain": [
       "0.9396984924623115"
      ]
     },
     "execution_count": 81,
     "metadata": {},
     "output_type": "execute_result"
    }
   ],
   "source": [
    "pipe.score(X_test, y_test)"
   ]
  },
  {
   "cell_type": "markdown",
   "id": "ca733dec-bdb5-4d0c-b525-3f5ee004e97f",
   "metadata": {},
   "source": [
    "## RandomForest with CountVectorizer (GridSearchCV)"
   ]
  },
  {
   "cell_type": "code",
   "execution_count": 82,
   "id": "f31e427a-9aff-4807-beae-53c03da04d0a",
   "metadata": {},
   "outputs": [],
   "source": [
    "param_grid = {\n",
    "    'cvect__max_features': [None, 1000, 5000, 10000],\n",
    "    'cvect__ngram_range': [(1, 1), (1, 2), (1, 3)],\n",
    "    'cvect__stop_words': [None, 'english', stop_words],\n",
    "    'rf__n_estimators': [100, 200],\n",
    "    'rf__max_depth': [None, 10, 20]\n",
    "}\n",
    "\n",
    "grid_search = GridSearchCV(pipe, param_grid=param_grid)"
   ]
  },
  {
   "cell_type": "code",
   "execution_count": 83,
   "id": "f5275072-cfe8-42f0-99cc-4289d7704168",
   "metadata": {},
   "outputs": [
    {
     "data": {
      "text/html": [
       "<style>#sk-container-id-15 {color: black;background-color: white;}#sk-container-id-15 pre{padding: 0;}#sk-container-id-15 div.sk-toggleable {background-color: white;}#sk-container-id-15 label.sk-toggleable__label {cursor: pointer;display: block;width: 100%;margin-bottom: 0;padding: 0.3em;box-sizing: border-box;text-align: center;}#sk-container-id-15 label.sk-toggleable__label-arrow:before {content: \"▸\";float: left;margin-right: 0.25em;color: #696969;}#sk-container-id-15 label.sk-toggleable__label-arrow:hover:before {color: black;}#sk-container-id-15 div.sk-estimator:hover label.sk-toggleable__label-arrow:before {color: black;}#sk-container-id-15 div.sk-toggleable__content {max-height: 0;max-width: 0;overflow: hidden;text-align: left;background-color: #f0f8ff;}#sk-container-id-15 div.sk-toggleable__content pre {margin: 0.2em;color: black;border-radius: 0.25em;background-color: #f0f8ff;}#sk-container-id-15 input.sk-toggleable__control:checked~div.sk-toggleable__content {max-height: 200px;max-width: 100%;overflow: auto;}#sk-container-id-15 input.sk-toggleable__control:checked~label.sk-toggleable__label-arrow:before {content: \"▾\";}#sk-container-id-15 div.sk-estimator input.sk-toggleable__control:checked~label.sk-toggleable__label {background-color: #d4ebff;}#sk-container-id-15 div.sk-label input.sk-toggleable__control:checked~label.sk-toggleable__label {background-color: #d4ebff;}#sk-container-id-15 input.sk-hidden--visually {border: 0;clip: rect(1px 1px 1px 1px);clip: rect(1px, 1px, 1px, 1px);height: 1px;margin: -1px;overflow: hidden;padding: 0;position: absolute;width: 1px;}#sk-container-id-15 div.sk-estimator {font-family: monospace;background-color: #f0f8ff;border: 1px dotted black;border-radius: 0.25em;box-sizing: border-box;margin-bottom: 0.5em;}#sk-container-id-15 div.sk-estimator:hover {background-color: #d4ebff;}#sk-container-id-15 div.sk-parallel-item::after {content: \"\";width: 100%;border-bottom: 1px solid gray;flex-grow: 1;}#sk-container-id-15 div.sk-label:hover label.sk-toggleable__label {background-color: #d4ebff;}#sk-container-id-15 div.sk-serial::before {content: \"\";position: absolute;border-left: 1px solid gray;box-sizing: border-box;top: 0;bottom: 0;left: 50%;z-index: 0;}#sk-container-id-15 div.sk-serial {display: flex;flex-direction: column;align-items: center;background-color: white;padding-right: 0.2em;padding-left: 0.2em;position: relative;}#sk-container-id-15 div.sk-item {position: relative;z-index: 1;}#sk-container-id-15 div.sk-parallel {display: flex;align-items: stretch;justify-content: center;background-color: white;position: relative;}#sk-container-id-15 div.sk-item::before, #sk-container-id-15 div.sk-parallel-item::before {content: \"\";position: absolute;border-left: 1px solid gray;box-sizing: border-box;top: 0;bottom: 0;left: 50%;z-index: -1;}#sk-container-id-15 div.sk-parallel-item {display: flex;flex-direction: column;z-index: 1;position: relative;background-color: white;}#sk-container-id-15 div.sk-parallel-item:first-child::after {align-self: flex-end;width: 50%;}#sk-container-id-15 div.sk-parallel-item:last-child::after {align-self: flex-start;width: 50%;}#sk-container-id-15 div.sk-parallel-item:only-child::after {width: 0;}#sk-container-id-15 div.sk-dashed-wrapped {border: 1px dashed gray;margin: 0 0.4em 0.5em 0.4em;box-sizing: border-box;padding-bottom: 0.4em;background-color: white;}#sk-container-id-15 div.sk-label label {font-family: monospace;font-weight: bold;display: inline-block;line-height: 1.2em;}#sk-container-id-15 div.sk-label-container {text-align: center;}#sk-container-id-15 div.sk-container {/* jupyter's `normalize.less` sets `[hidden] { display: none; }` but bootstrap.min.css set `[hidden] { display: none !important; }` so we also need the `!important` here to be able to override the default hidden behavior on the sphinx rendered scikit-learn.org. See: https://github.com/scikit-learn/scikit-learn/issues/21755 */display: inline-block !important;position: relative;}#sk-container-id-15 div.sk-text-repr-fallback {display: none;}</style><div id=\"sk-container-id-15\" class=\"sk-top-container\"><div class=\"sk-text-repr-fallback\"><pre>GridSearchCV(estimator=Pipeline(steps=[(&#x27;cvect&#x27;,\n",
       "                                        CountVectorizer(stop_words=[&#x27;further&#x27;,\n",
       "                                                                    &#x27;move&#x27;,\n",
       "                                                                    &#x27;many&#x27;,\n",
       "                                                                    &#x27;he&#x27;,\n",
       "                                                                    &#x27;bodybuilder&#x27;,\n",
       "                                                                    &#x27;enough&#x27;,\n",
       "                                                                    &#x27;at&#x27;,\n",
       "                                                                    &#x27;even&#x27;,\n",
       "                                                                    &#x27;latterly&#x27;,\n",
       "                                                                    &#x27;once&#x27;,\n",
       "                                                                    &#x27;first&#x27;,\n",
       "                                                                    &#x27;becomes&#x27;,\n",
       "                                                                    &#x27;others&#x27;,\n",
       "                                                                    &#x27;nbsp&#x27;,\n",
       "                                                                    &#x27;whether&#x27;,\n",
       "                                                                    &#x27;much&#x27;,\n",
       "                                                                    &#x27;really&#x27;,\n",
       "                                                                    &#x27;often&#x27;,\n",
       "                                                                    &#x27;everything&#x27;,\n",
       "                                                                    &#x27;below&#x27;,\n",
       "                                                                    &#x27;noone&#x27;,\n",
       "                                                                    &#x27;sixty&#x27;,\n",
       "                                                                    &#x27;former&#x27;,\n",
       "                                                                    &#x27;whose&#x27;,\n",
       "                                                                    &#x27;but&#x27;,\n",
       "                                                                    &#x27;per&#x27;,\n",
       "                                                                    &#x27;thereupon&#x27;,\n",
       "                                                                    &#x27;detail&#x27;,\n",
       "                                                                    &#x27;most&#x27;,\n",
       "                                                                    &#x27;please&#x27;, ...])),\n",
       "                                       (&#x27;rf&#x27;, RandomFo...\n",
       "                         &#x27;cvect__stop_words&#x27;: [None, &#x27;english&#x27;,\n",
       "                                               [&#x27;further&#x27;, &#x27;move&#x27;, &#x27;many&#x27;, &#x27;he&#x27;,\n",
       "                                                &#x27;bodybuilder&#x27;, &#x27;enough&#x27;, &#x27;at&#x27;,\n",
       "                                                &#x27;even&#x27;, &#x27;latterly&#x27;, &#x27;once&#x27;,\n",
       "                                                &#x27;first&#x27;, &#x27;becomes&#x27;, &#x27;others&#x27;,\n",
       "                                                &#x27;nbsp&#x27;, &#x27;whether&#x27;, &#x27;much&#x27;,\n",
       "                                                &#x27;really&#x27;, &#x27;often&#x27;, &#x27;everything&#x27;,\n",
       "                                                &#x27;below&#x27;, &#x27;noone&#x27;, &#x27;sixty&#x27;,\n",
       "                                                &#x27;former&#x27;, &#x27;whose&#x27;, &#x27;but&#x27;, &#x27;per&#x27;,\n",
       "                                                &#x27;thereupon&#x27;, &#x27;detail&#x27;, &#x27;most&#x27;,\n",
       "                                                &#x27;please&#x27;, ...]],\n",
       "                         &#x27;rf__max_depth&#x27;: [None, 10, 20],\n",
       "                         &#x27;rf__n_estimators&#x27;: [100, 200]})</pre><b>In a Jupyter environment, please rerun this cell to show the HTML representation or trust the notebook. <br />On GitHub, the HTML representation is unable to render, please try loading this page with nbviewer.org.</b></div><div class=\"sk-container\" hidden><div class=\"sk-item sk-dashed-wrapped\"><div class=\"sk-label-container\"><div class=\"sk-label sk-toggleable\"><input class=\"sk-toggleable__control sk-hidden--visually\" id=\"sk-estimator-id-50\" type=\"checkbox\" ><label for=\"sk-estimator-id-50\" class=\"sk-toggleable__label sk-toggleable__label-arrow\">GridSearchCV</label><div class=\"sk-toggleable__content\"><pre>GridSearchCV(estimator=Pipeline(steps=[(&#x27;cvect&#x27;,\n",
       "                                        CountVectorizer(stop_words=[&#x27;further&#x27;,\n",
       "                                                                    &#x27;move&#x27;,\n",
       "                                                                    &#x27;many&#x27;,\n",
       "                                                                    &#x27;he&#x27;,\n",
       "                                                                    &#x27;bodybuilder&#x27;,\n",
       "                                                                    &#x27;enough&#x27;,\n",
       "                                                                    &#x27;at&#x27;,\n",
       "                                                                    &#x27;even&#x27;,\n",
       "                                                                    &#x27;latterly&#x27;,\n",
       "                                                                    &#x27;once&#x27;,\n",
       "                                                                    &#x27;first&#x27;,\n",
       "                                                                    &#x27;becomes&#x27;,\n",
       "                                                                    &#x27;others&#x27;,\n",
       "                                                                    &#x27;nbsp&#x27;,\n",
       "                                                                    &#x27;whether&#x27;,\n",
       "                                                                    &#x27;much&#x27;,\n",
       "                                                                    &#x27;really&#x27;,\n",
       "                                                                    &#x27;often&#x27;,\n",
       "                                                                    &#x27;everything&#x27;,\n",
       "                                                                    &#x27;below&#x27;,\n",
       "                                                                    &#x27;noone&#x27;,\n",
       "                                                                    &#x27;sixty&#x27;,\n",
       "                                                                    &#x27;former&#x27;,\n",
       "                                                                    &#x27;whose&#x27;,\n",
       "                                                                    &#x27;but&#x27;,\n",
       "                                                                    &#x27;per&#x27;,\n",
       "                                                                    &#x27;thereupon&#x27;,\n",
       "                                                                    &#x27;detail&#x27;,\n",
       "                                                                    &#x27;most&#x27;,\n",
       "                                                                    &#x27;please&#x27;, ...])),\n",
       "                                       (&#x27;rf&#x27;, RandomFo...\n",
       "                         &#x27;cvect__stop_words&#x27;: [None, &#x27;english&#x27;,\n",
       "                                               [&#x27;further&#x27;, &#x27;move&#x27;, &#x27;many&#x27;, &#x27;he&#x27;,\n",
       "                                                &#x27;bodybuilder&#x27;, &#x27;enough&#x27;, &#x27;at&#x27;,\n",
       "                                                &#x27;even&#x27;, &#x27;latterly&#x27;, &#x27;once&#x27;,\n",
       "                                                &#x27;first&#x27;, &#x27;becomes&#x27;, &#x27;others&#x27;,\n",
       "                                                &#x27;nbsp&#x27;, &#x27;whether&#x27;, &#x27;much&#x27;,\n",
       "                                                &#x27;really&#x27;, &#x27;often&#x27;, &#x27;everything&#x27;,\n",
       "                                                &#x27;below&#x27;, &#x27;noone&#x27;, &#x27;sixty&#x27;,\n",
       "                                                &#x27;former&#x27;, &#x27;whose&#x27;, &#x27;but&#x27;, &#x27;per&#x27;,\n",
       "                                                &#x27;thereupon&#x27;, &#x27;detail&#x27;, &#x27;most&#x27;,\n",
       "                                                &#x27;please&#x27;, ...]],\n",
       "                         &#x27;rf__max_depth&#x27;: [None, 10, 20],\n",
       "                         &#x27;rf__n_estimators&#x27;: [100, 200]})</pre></div></div></div><div class=\"sk-parallel\"><div class=\"sk-parallel-item\"><div class=\"sk-item\"><div class=\"sk-label-container\"><div class=\"sk-label sk-toggleable\"><input class=\"sk-toggleable__control sk-hidden--visually\" id=\"sk-estimator-id-51\" type=\"checkbox\" ><label for=\"sk-estimator-id-51\" class=\"sk-toggleable__label sk-toggleable__label-arrow\">estimator: Pipeline</label><div class=\"sk-toggleable__content\"><pre>Pipeline(steps=[(&#x27;cvect&#x27;,\n",
       "                 CountVectorizer(stop_words=[&#x27;further&#x27;, &#x27;move&#x27;, &#x27;many&#x27;, &#x27;he&#x27;,\n",
       "                                             &#x27;bodybuilder&#x27;, &#x27;enough&#x27;, &#x27;at&#x27;,\n",
       "                                             &#x27;even&#x27;, &#x27;latterly&#x27;, &#x27;once&#x27;,\n",
       "                                             &#x27;first&#x27;, &#x27;becomes&#x27;, &#x27;others&#x27;,\n",
       "                                             &#x27;nbsp&#x27;, &#x27;whether&#x27;, &#x27;much&#x27;,\n",
       "                                             &#x27;really&#x27;, &#x27;often&#x27;, &#x27;everything&#x27;,\n",
       "                                             &#x27;below&#x27;, &#x27;noone&#x27;, &#x27;sixty&#x27;,\n",
       "                                             &#x27;former&#x27;, &#x27;whose&#x27;, &#x27;but&#x27;, &#x27;per&#x27;,\n",
       "                                             &#x27;thereupon&#x27;, &#x27;detail&#x27;, &#x27;most&#x27;,\n",
       "                                             &#x27;please&#x27;, ...])),\n",
       "                (&#x27;rf&#x27;, RandomForestClassifier())])</pre></div></div></div><div class=\"sk-serial\"><div class=\"sk-item\"><div class=\"sk-serial\"><div class=\"sk-item\"><div class=\"sk-estimator sk-toggleable\"><input class=\"sk-toggleable__control sk-hidden--visually\" id=\"sk-estimator-id-52\" type=\"checkbox\" ><label for=\"sk-estimator-id-52\" class=\"sk-toggleable__label sk-toggleable__label-arrow\">CountVectorizer</label><div class=\"sk-toggleable__content\"><pre>CountVectorizer(stop_words=[&#x27;further&#x27;, &#x27;move&#x27;, &#x27;many&#x27;, &#x27;he&#x27;, &#x27;bodybuilder&#x27;,\n",
       "                            &#x27;enough&#x27;, &#x27;at&#x27;, &#x27;even&#x27;, &#x27;latterly&#x27;, &#x27;once&#x27;, &#x27;first&#x27;,\n",
       "                            &#x27;becomes&#x27;, &#x27;others&#x27;, &#x27;nbsp&#x27;, &#x27;whether&#x27;, &#x27;much&#x27;,\n",
       "                            &#x27;really&#x27;, &#x27;often&#x27;, &#x27;everything&#x27;, &#x27;below&#x27;, &#x27;noone&#x27;,\n",
       "                            &#x27;sixty&#x27;, &#x27;former&#x27;, &#x27;whose&#x27;, &#x27;but&#x27;, &#x27;per&#x27;,\n",
       "                            &#x27;thereupon&#x27;, &#x27;detail&#x27;, &#x27;most&#x27;, &#x27;please&#x27;, ...])</pre></div></div></div><div class=\"sk-item\"><div class=\"sk-estimator sk-toggleable\"><input class=\"sk-toggleable__control sk-hidden--visually\" id=\"sk-estimator-id-53\" type=\"checkbox\" ><label for=\"sk-estimator-id-53\" class=\"sk-toggleable__label sk-toggleable__label-arrow\">RandomForestClassifier</label><div class=\"sk-toggleable__content\"><pre>RandomForestClassifier()</pre></div></div></div></div></div></div></div></div></div></div></div></div>"
      ],
      "text/plain": [
       "GridSearchCV(estimator=Pipeline(steps=[('cvect',\n",
       "                                        CountVectorizer(stop_words=['further',\n",
       "                                                                    'move',\n",
       "                                                                    'many',\n",
       "                                                                    'he',\n",
       "                                                                    'bodybuilder',\n",
       "                                                                    'enough',\n",
       "                                                                    'at',\n",
       "                                                                    'even',\n",
       "                                                                    'latterly',\n",
       "                                                                    'once',\n",
       "                                                                    'first',\n",
       "                                                                    'becomes',\n",
       "                                                                    'others',\n",
       "                                                                    'nbsp',\n",
       "                                                                    'whether',\n",
       "                                                                    'much',\n",
       "                                                                    'really',\n",
       "                                                                    'often',\n",
       "                                                                    'everything',\n",
       "                                                                    'below',\n",
       "                                                                    'noone',\n",
       "                                                                    'sixty',\n",
       "                                                                    'former',\n",
       "                                                                    'whose',\n",
       "                                                                    'but',\n",
       "                                                                    'per',\n",
       "                                                                    'thereupon',\n",
       "                                                                    'detail',\n",
       "                                                                    'most',\n",
       "                                                                    'please', ...])),\n",
       "                                       ('rf', RandomFo...\n",
       "                         'cvect__stop_words': [None, 'english',\n",
       "                                               ['further', 'move', 'many', 'he',\n",
       "                                                'bodybuilder', 'enough', 'at',\n",
       "                                                'even', 'latterly', 'once',\n",
       "                                                'first', 'becomes', 'others',\n",
       "                                                'nbsp', 'whether', 'much',\n",
       "                                                'really', 'often', 'everything',\n",
       "                                                'below', 'noone', 'sixty',\n",
       "                                                'former', 'whose', 'but', 'per',\n",
       "                                                'thereupon', 'detail', 'most',\n",
       "                                                'please', ...]],\n",
       "                         'rf__max_depth': [None, 10, 20],\n",
       "                         'rf__n_estimators': [100, 200]})"
      ]
     },
     "execution_count": 83,
     "metadata": {},
     "output_type": "execute_result"
    }
   ],
   "source": [
    "grid_search.fit(X_train, y_train)"
   ]
  },
  {
   "cell_type": "code",
   "execution_count": 84,
   "id": "208240bc-b916-4973-b726-646de9d70910",
   "metadata": {},
   "outputs": [
    {
     "data": {
      "text/plain": [
       "{'cvect__max_features': 5000,\n",
       " 'cvect__ngram_range': (1, 2),\n",
       " 'cvect__stop_words': 'english',\n",
       " 'rf__max_depth': None,\n",
       " 'rf__n_estimators': 200}"
      ]
     },
     "execution_count": 84,
     "metadata": {},
     "output_type": "execute_result"
    }
   ],
   "source": [
    "grid_search.best_params_"
   ]
  },
  {
   "cell_type": "code",
   "execution_count": 85,
   "id": "d0f5931a-1b9c-44c2-8ed4-aa9f9a071a07",
   "metadata": {},
   "outputs": [
    {
     "data": {
      "text/plain": [
       "0.9981155778894473"
      ]
     },
     "execution_count": 85,
     "metadata": {},
     "output_type": "execute_result"
    }
   ],
   "source": [
    "grid_search.score(X_train, y_train)"
   ]
  },
  {
   "cell_type": "code",
   "execution_count": 86,
   "id": "b823f988-7e9d-4a88-9cd4-352538ee76bd",
   "metadata": {},
   "outputs": [
    {
     "data": {
      "text/plain": [
       "0.9623115577889447"
      ]
     },
     "execution_count": 86,
     "metadata": {},
     "output_type": "execute_result"
    }
   ],
   "source": [
    "grid_search.score(X_test, y_test)"
   ]
  },
  {
   "cell_type": "markdown",
   "id": "742424ae-2b87-4db0-a69e-de505ba31019",
   "metadata": {},
   "source": [
    "## SVC with CountVectorizer"
   ]
  },
  {
   "cell_type": "code",
   "execution_count": 87,
   "id": "ebbe9671-f94d-4c61-bb6f-eea65201d205",
   "metadata": {},
   "outputs": [
    {
     "data": {
      "text/html": [
       "<style>#sk-container-id-16 {color: black;background-color: white;}#sk-container-id-16 pre{padding: 0;}#sk-container-id-16 div.sk-toggleable {background-color: white;}#sk-container-id-16 label.sk-toggleable__label {cursor: pointer;display: block;width: 100%;margin-bottom: 0;padding: 0.3em;box-sizing: border-box;text-align: center;}#sk-container-id-16 label.sk-toggleable__label-arrow:before {content: \"▸\";float: left;margin-right: 0.25em;color: #696969;}#sk-container-id-16 label.sk-toggleable__label-arrow:hover:before {color: black;}#sk-container-id-16 div.sk-estimator:hover label.sk-toggleable__label-arrow:before {color: black;}#sk-container-id-16 div.sk-toggleable__content {max-height: 0;max-width: 0;overflow: hidden;text-align: left;background-color: #f0f8ff;}#sk-container-id-16 div.sk-toggleable__content pre {margin: 0.2em;color: black;border-radius: 0.25em;background-color: #f0f8ff;}#sk-container-id-16 input.sk-toggleable__control:checked~div.sk-toggleable__content {max-height: 200px;max-width: 100%;overflow: auto;}#sk-container-id-16 input.sk-toggleable__control:checked~label.sk-toggleable__label-arrow:before {content: \"▾\";}#sk-container-id-16 div.sk-estimator input.sk-toggleable__control:checked~label.sk-toggleable__label {background-color: #d4ebff;}#sk-container-id-16 div.sk-label input.sk-toggleable__control:checked~label.sk-toggleable__label {background-color: #d4ebff;}#sk-container-id-16 input.sk-hidden--visually {border: 0;clip: rect(1px 1px 1px 1px);clip: rect(1px, 1px, 1px, 1px);height: 1px;margin: -1px;overflow: hidden;padding: 0;position: absolute;width: 1px;}#sk-container-id-16 div.sk-estimator {font-family: monospace;background-color: #f0f8ff;border: 1px dotted black;border-radius: 0.25em;box-sizing: border-box;margin-bottom: 0.5em;}#sk-container-id-16 div.sk-estimator:hover {background-color: #d4ebff;}#sk-container-id-16 div.sk-parallel-item::after {content: \"\";width: 100%;border-bottom: 1px solid gray;flex-grow: 1;}#sk-container-id-16 div.sk-label:hover label.sk-toggleable__label {background-color: #d4ebff;}#sk-container-id-16 div.sk-serial::before {content: \"\";position: absolute;border-left: 1px solid gray;box-sizing: border-box;top: 0;bottom: 0;left: 50%;z-index: 0;}#sk-container-id-16 div.sk-serial {display: flex;flex-direction: column;align-items: center;background-color: white;padding-right: 0.2em;padding-left: 0.2em;position: relative;}#sk-container-id-16 div.sk-item {position: relative;z-index: 1;}#sk-container-id-16 div.sk-parallel {display: flex;align-items: stretch;justify-content: center;background-color: white;position: relative;}#sk-container-id-16 div.sk-item::before, #sk-container-id-16 div.sk-parallel-item::before {content: \"\";position: absolute;border-left: 1px solid gray;box-sizing: border-box;top: 0;bottom: 0;left: 50%;z-index: -1;}#sk-container-id-16 div.sk-parallel-item {display: flex;flex-direction: column;z-index: 1;position: relative;background-color: white;}#sk-container-id-16 div.sk-parallel-item:first-child::after {align-self: flex-end;width: 50%;}#sk-container-id-16 div.sk-parallel-item:last-child::after {align-self: flex-start;width: 50%;}#sk-container-id-16 div.sk-parallel-item:only-child::after {width: 0;}#sk-container-id-16 div.sk-dashed-wrapped {border: 1px dashed gray;margin: 0 0.4em 0.5em 0.4em;box-sizing: border-box;padding-bottom: 0.4em;background-color: white;}#sk-container-id-16 div.sk-label label {font-family: monospace;font-weight: bold;display: inline-block;line-height: 1.2em;}#sk-container-id-16 div.sk-label-container {text-align: center;}#sk-container-id-16 div.sk-container {/* jupyter's `normalize.less` sets `[hidden] { display: none; }` but bootstrap.min.css set `[hidden] { display: none !important; }` so we also need the `!important` here to be able to override the default hidden behavior on the sphinx rendered scikit-learn.org. See: https://github.com/scikit-learn/scikit-learn/issues/21755 */display: inline-block !important;position: relative;}#sk-container-id-16 div.sk-text-repr-fallback {display: none;}</style><div id=\"sk-container-id-16\" class=\"sk-top-container\"><div class=\"sk-text-repr-fallback\"><pre>Pipeline(steps=[(&#x27;cvect&#x27;,\n",
       "                 CountVectorizer(stop_words=[&#x27;further&#x27;, &#x27;move&#x27;, &#x27;many&#x27;, &#x27;he&#x27;,\n",
       "                                             &#x27;bodybuilder&#x27;, &#x27;enough&#x27;, &#x27;at&#x27;,\n",
       "                                             &#x27;even&#x27;, &#x27;latterly&#x27;, &#x27;once&#x27;,\n",
       "                                             &#x27;first&#x27;, &#x27;becomes&#x27;, &#x27;others&#x27;,\n",
       "                                             &#x27;nbsp&#x27;, &#x27;whether&#x27;, &#x27;much&#x27;,\n",
       "                                             &#x27;really&#x27;, &#x27;often&#x27;, &#x27;everything&#x27;,\n",
       "                                             &#x27;below&#x27;, &#x27;noone&#x27;, &#x27;sixty&#x27;,\n",
       "                                             &#x27;former&#x27;, &#x27;whose&#x27;, &#x27;but&#x27;, &#x27;per&#x27;,\n",
       "                                             &#x27;thereupon&#x27;, &#x27;detail&#x27;, &#x27;most&#x27;,\n",
       "                                             &#x27;please&#x27;, ...])),\n",
       "                (&#x27;scaler&#x27;, StandardScaler(with_mean=False)), (&#x27;svm&#x27;, SVC())])</pre><b>In a Jupyter environment, please rerun this cell to show the HTML representation or trust the notebook. <br />On GitHub, the HTML representation is unable to render, please try loading this page with nbviewer.org.</b></div><div class=\"sk-container\" hidden><div class=\"sk-item sk-dashed-wrapped\"><div class=\"sk-label-container\"><div class=\"sk-label sk-toggleable\"><input class=\"sk-toggleable__control sk-hidden--visually\" id=\"sk-estimator-id-54\" type=\"checkbox\" ><label for=\"sk-estimator-id-54\" class=\"sk-toggleable__label sk-toggleable__label-arrow\">Pipeline</label><div class=\"sk-toggleable__content\"><pre>Pipeline(steps=[(&#x27;cvect&#x27;,\n",
       "                 CountVectorizer(stop_words=[&#x27;further&#x27;, &#x27;move&#x27;, &#x27;many&#x27;, &#x27;he&#x27;,\n",
       "                                             &#x27;bodybuilder&#x27;, &#x27;enough&#x27;, &#x27;at&#x27;,\n",
       "                                             &#x27;even&#x27;, &#x27;latterly&#x27;, &#x27;once&#x27;,\n",
       "                                             &#x27;first&#x27;, &#x27;becomes&#x27;, &#x27;others&#x27;,\n",
       "                                             &#x27;nbsp&#x27;, &#x27;whether&#x27;, &#x27;much&#x27;,\n",
       "                                             &#x27;really&#x27;, &#x27;often&#x27;, &#x27;everything&#x27;,\n",
       "                                             &#x27;below&#x27;, &#x27;noone&#x27;, &#x27;sixty&#x27;,\n",
       "                                             &#x27;former&#x27;, &#x27;whose&#x27;, &#x27;but&#x27;, &#x27;per&#x27;,\n",
       "                                             &#x27;thereupon&#x27;, &#x27;detail&#x27;, &#x27;most&#x27;,\n",
       "                                             &#x27;please&#x27;, ...])),\n",
       "                (&#x27;scaler&#x27;, StandardScaler(with_mean=False)), (&#x27;svm&#x27;, SVC())])</pre></div></div></div><div class=\"sk-serial\"><div class=\"sk-item\"><div class=\"sk-estimator sk-toggleable\"><input class=\"sk-toggleable__control sk-hidden--visually\" id=\"sk-estimator-id-55\" type=\"checkbox\" ><label for=\"sk-estimator-id-55\" class=\"sk-toggleable__label sk-toggleable__label-arrow\">CountVectorizer</label><div class=\"sk-toggleable__content\"><pre>CountVectorizer(stop_words=[&#x27;further&#x27;, &#x27;move&#x27;, &#x27;many&#x27;, &#x27;he&#x27;, &#x27;bodybuilder&#x27;,\n",
       "                            &#x27;enough&#x27;, &#x27;at&#x27;, &#x27;even&#x27;, &#x27;latterly&#x27;, &#x27;once&#x27;, &#x27;first&#x27;,\n",
       "                            &#x27;becomes&#x27;, &#x27;others&#x27;, &#x27;nbsp&#x27;, &#x27;whether&#x27;, &#x27;much&#x27;,\n",
       "                            &#x27;really&#x27;, &#x27;often&#x27;, &#x27;everything&#x27;, &#x27;below&#x27;, &#x27;noone&#x27;,\n",
       "                            &#x27;sixty&#x27;, &#x27;former&#x27;, &#x27;whose&#x27;, &#x27;but&#x27;, &#x27;per&#x27;,\n",
       "                            &#x27;thereupon&#x27;, &#x27;detail&#x27;, &#x27;most&#x27;, &#x27;please&#x27;, ...])</pre></div></div></div><div class=\"sk-item\"><div class=\"sk-estimator sk-toggleable\"><input class=\"sk-toggleable__control sk-hidden--visually\" id=\"sk-estimator-id-56\" type=\"checkbox\" ><label for=\"sk-estimator-id-56\" class=\"sk-toggleable__label sk-toggleable__label-arrow\">StandardScaler</label><div class=\"sk-toggleable__content\"><pre>StandardScaler(with_mean=False)</pre></div></div></div><div class=\"sk-item\"><div class=\"sk-estimator sk-toggleable\"><input class=\"sk-toggleable__control sk-hidden--visually\" id=\"sk-estimator-id-57\" type=\"checkbox\" ><label for=\"sk-estimator-id-57\" class=\"sk-toggleable__label sk-toggleable__label-arrow\">SVC</label><div class=\"sk-toggleable__content\"><pre>SVC()</pre></div></div></div></div></div></div></div>"
      ],
      "text/plain": [
       "Pipeline(steps=[('cvect',\n",
       "                 CountVectorizer(stop_words=['further', 'move', 'many', 'he',\n",
       "                                             'bodybuilder', 'enough', 'at',\n",
       "                                             'even', 'latterly', 'once',\n",
       "                                             'first', 'becomes', 'others',\n",
       "                                             'nbsp', 'whether', 'much',\n",
       "                                             'really', 'often', 'everything',\n",
       "                                             'below', 'noone', 'sixty',\n",
       "                                             'former', 'whose', 'but', 'per',\n",
       "                                             'thereupon', 'detail', 'most',\n",
       "                                             'please', ...])),\n",
       "                ('scaler', StandardScaler(with_mean=False)), ('svm', SVC())])"
      ]
     },
     "execution_count": 87,
     "metadata": {},
     "output_type": "execute_result"
    }
   ],
   "source": [
    "pipe = Pipeline([\n",
    "    ('cvect', CountVectorizer(stop_words=stop_words)),\n",
    "    ('scaler', StandardScaler(with_mean=False)),\n",
    "    ('svm', SVC())\n",
    "])\n",
    "\n",
    "pipe"
   ]
  },
  {
   "cell_type": "code",
   "execution_count": 88,
   "id": "2b82e2fa-d802-4720-8d8d-6d249fc7f1b3",
   "metadata": {},
   "outputs": [
    {
     "data": {
      "text/html": [
       "<style>#sk-container-id-17 {color: black;background-color: white;}#sk-container-id-17 pre{padding: 0;}#sk-container-id-17 div.sk-toggleable {background-color: white;}#sk-container-id-17 label.sk-toggleable__label {cursor: pointer;display: block;width: 100%;margin-bottom: 0;padding: 0.3em;box-sizing: border-box;text-align: center;}#sk-container-id-17 label.sk-toggleable__label-arrow:before {content: \"▸\";float: left;margin-right: 0.25em;color: #696969;}#sk-container-id-17 label.sk-toggleable__label-arrow:hover:before {color: black;}#sk-container-id-17 div.sk-estimator:hover label.sk-toggleable__label-arrow:before {color: black;}#sk-container-id-17 div.sk-toggleable__content {max-height: 0;max-width: 0;overflow: hidden;text-align: left;background-color: #f0f8ff;}#sk-container-id-17 div.sk-toggleable__content pre {margin: 0.2em;color: black;border-radius: 0.25em;background-color: #f0f8ff;}#sk-container-id-17 input.sk-toggleable__control:checked~div.sk-toggleable__content {max-height: 200px;max-width: 100%;overflow: auto;}#sk-container-id-17 input.sk-toggleable__control:checked~label.sk-toggleable__label-arrow:before {content: \"▾\";}#sk-container-id-17 div.sk-estimator input.sk-toggleable__control:checked~label.sk-toggleable__label {background-color: #d4ebff;}#sk-container-id-17 div.sk-label input.sk-toggleable__control:checked~label.sk-toggleable__label {background-color: #d4ebff;}#sk-container-id-17 input.sk-hidden--visually {border: 0;clip: rect(1px 1px 1px 1px);clip: rect(1px, 1px, 1px, 1px);height: 1px;margin: -1px;overflow: hidden;padding: 0;position: absolute;width: 1px;}#sk-container-id-17 div.sk-estimator {font-family: monospace;background-color: #f0f8ff;border: 1px dotted black;border-radius: 0.25em;box-sizing: border-box;margin-bottom: 0.5em;}#sk-container-id-17 div.sk-estimator:hover {background-color: #d4ebff;}#sk-container-id-17 div.sk-parallel-item::after {content: \"\";width: 100%;border-bottom: 1px solid gray;flex-grow: 1;}#sk-container-id-17 div.sk-label:hover label.sk-toggleable__label {background-color: #d4ebff;}#sk-container-id-17 div.sk-serial::before {content: \"\";position: absolute;border-left: 1px solid gray;box-sizing: border-box;top: 0;bottom: 0;left: 50%;z-index: 0;}#sk-container-id-17 div.sk-serial {display: flex;flex-direction: column;align-items: center;background-color: white;padding-right: 0.2em;padding-left: 0.2em;position: relative;}#sk-container-id-17 div.sk-item {position: relative;z-index: 1;}#sk-container-id-17 div.sk-parallel {display: flex;align-items: stretch;justify-content: center;background-color: white;position: relative;}#sk-container-id-17 div.sk-item::before, #sk-container-id-17 div.sk-parallel-item::before {content: \"\";position: absolute;border-left: 1px solid gray;box-sizing: border-box;top: 0;bottom: 0;left: 50%;z-index: -1;}#sk-container-id-17 div.sk-parallel-item {display: flex;flex-direction: column;z-index: 1;position: relative;background-color: white;}#sk-container-id-17 div.sk-parallel-item:first-child::after {align-self: flex-end;width: 50%;}#sk-container-id-17 div.sk-parallel-item:last-child::after {align-self: flex-start;width: 50%;}#sk-container-id-17 div.sk-parallel-item:only-child::after {width: 0;}#sk-container-id-17 div.sk-dashed-wrapped {border: 1px dashed gray;margin: 0 0.4em 0.5em 0.4em;box-sizing: border-box;padding-bottom: 0.4em;background-color: white;}#sk-container-id-17 div.sk-label label {font-family: monospace;font-weight: bold;display: inline-block;line-height: 1.2em;}#sk-container-id-17 div.sk-label-container {text-align: center;}#sk-container-id-17 div.sk-container {/* jupyter's `normalize.less` sets `[hidden] { display: none; }` but bootstrap.min.css set `[hidden] { display: none !important; }` so we also need the `!important` here to be able to override the default hidden behavior on the sphinx rendered scikit-learn.org. See: https://github.com/scikit-learn/scikit-learn/issues/21755 */display: inline-block !important;position: relative;}#sk-container-id-17 div.sk-text-repr-fallback {display: none;}</style><div id=\"sk-container-id-17\" class=\"sk-top-container\"><div class=\"sk-text-repr-fallback\"><pre>Pipeline(steps=[(&#x27;cvect&#x27;,\n",
       "                 CountVectorizer(stop_words=[&#x27;further&#x27;, &#x27;move&#x27;, &#x27;many&#x27;, &#x27;he&#x27;,\n",
       "                                             &#x27;bodybuilder&#x27;, &#x27;enough&#x27;, &#x27;at&#x27;,\n",
       "                                             &#x27;even&#x27;, &#x27;latterly&#x27;, &#x27;once&#x27;,\n",
       "                                             &#x27;first&#x27;, &#x27;becomes&#x27;, &#x27;others&#x27;,\n",
       "                                             &#x27;nbsp&#x27;, &#x27;whether&#x27;, &#x27;much&#x27;,\n",
       "                                             &#x27;really&#x27;, &#x27;often&#x27;, &#x27;everything&#x27;,\n",
       "                                             &#x27;below&#x27;, &#x27;noone&#x27;, &#x27;sixty&#x27;,\n",
       "                                             &#x27;former&#x27;, &#x27;whose&#x27;, &#x27;but&#x27;, &#x27;per&#x27;,\n",
       "                                             &#x27;thereupon&#x27;, &#x27;detail&#x27;, &#x27;most&#x27;,\n",
       "                                             &#x27;please&#x27;, ...])),\n",
       "                (&#x27;scaler&#x27;, StandardScaler(with_mean=False)), (&#x27;svm&#x27;, SVC())])</pre><b>In a Jupyter environment, please rerun this cell to show the HTML representation or trust the notebook. <br />On GitHub, the HTML representation is unable to render, please try loading this page with nbviewer.org.</b></div><div class=\"sk-container\" hidden><div class=\"sk-item sk-dashed-wrapped\"><div class=\"sk-label-container\"><div class=\"sk-label sk-toggleable\"><input class=\"sk-toggleable__control sk-hidden--visually\" id=\"sk-estimator-id-58\" type=\"checkbox\" ><label for=\"sk-estimator-id-58\" class=\"sk-toggleable__label sk-toggleable__label-arrow\">Pipeline</label><div class=\"sk-toggleable__content\"><pre>Pipeline(steps=[(&#x27;cvect&#x27;,\n",
       "                 CountVectorizer(stop_words=[&#x27;further&#x27;, &#x27;move&#x27;, &#x27;many&#x27;, &#x27;he&#x27;,\n",
       "                                             &#x27;bodybuilder&#x27;, &#x27;enough&#x27;, &#x27;at&#x27;,\n",
       "                                             &#x27;even&#x27;, &#x27;latterly&#x27;, &#x27;once&#x27;,\n",
       "                                             &#x27;first&#x27;, &#x27;becomes&#x27;, &#x27;others&#x27;,\n",
       "                                             &#x27;nbsp&#x27;, &#x27;whether&#x27;, &#x27;much&#x27;,\n",
       "                                             &#x27;really&#x27;, &#x27;often&#x27;, &#x27;everything&#x27;,\n",
       "                                             &#x27;below&#x27;, &#x27;noone&#x27;, &#x27;sixty&#x27;,\n",
       "                                             &#x27;former&#x27;, &#x27;whose&#x27;, &#x27;but&#x27;, &#x27;per&#x27;,\n",
       "                                             &#x27;thereupon&#x27;, &#x27;detail&#x27;, &#x27;most&#x27;,\n",
       "                                             &#x27;please&#x27;, ...])),\n",
       "                (&#x27;scaler&#x27;, StandardScaler(with_mean=False)), (&#x27;svm&#x27;, SVC())])</pre></div></div></div><div class=\"sk-serial\"><div class=\"sk-item\"><div class=\"sk-estimator sk-toggleable\"><input class=\"sk-toggleable__control sk-hidden--visually\" id=\"sk-estimator-id-59\" type=\"checkbox\" ><label for=\"sk-estimator-id-59\" class=\"sk-toggleable__label sk-toggleable__label-arrow\">CountVectorizer</label><div class=\"sk-toggleable__content\"><pre>CountVectorizer(stop_words=[&#x27;further&#x27;, &#x27;move&#x27;, &#x27;many&#x27;, &#x27;he&#x27;, &#x27;bodybuilder&#x27;,\n",
       "                            &#x27;enough&#x27;, &#x27;at&#x27;, &#x27;even&#x27;, &#x27;latterly&#x27;, &#x27;once&#x27;, &#x27;first&#x27;,\n",
       "                            &#x27;becomes&#x27;, &#x27;others&#x27;, &#x27;nbsp&#x27;, &#x27;whether&#x27;, &#x27;much&#x27;,\n",
       "                            &#x27;really&#x27;, &#x27;often&#x27;, &#x27;everything&#x27;, &#x27;below&#x27;, &#x27;noone&#x27;,\n",
       "                            &#x27;sixty&#x27;, &#x27;former&#x27;, &#x27;whose&#x27;, &#x27;but&#x27;, &#x27;per&#x27;,\n",
       "                            &#x27;thereupon&#x27;, &#x27;detail&#x27;, &#x27;most&#x27;, &#x27;please&#x27;, ...])</pre></div></div></div><div class=\"sk-item\"><div class=\"sk-estimator sk-toggleable\"><input class=\"sk-toggleable__control sk-hidden--visually\" id=\"sk-estimator-id-60\" type=\"checkbox\" ><label for=\"sk-estimator-id-60\" class=\"sk-toggleable__label sk-toggleable__label-arrow\">StandardScaler</label><div class=\"sk-toggleable__content\"><pre>StandardScaler(with_mean=False)</pre></div></div></div><div class=\"sk-item\"><div class=\"sk-estimator sk-toggleable\"><input class=\"sk-toggleable__control sk-hidden--visually\" id=\"sk-estimator-id-61\" type=\"checkbox\" ><label for=\"sk-estimator-id-61\" class=\"sk-toggleable__label sk-toggleable__label-arrow\">SVC</label><div class=\"sk-toggleable__content\"><pre>SVC()</pre></div></div></div></div></div></div></div>"
      ],
      "text/plain": [
       "Pipeline(steps=[('cvect',\n",
       "                 CountVectorizer(stop_words=['further', 'move', 'many', 'he',\n",
       "                                             'bodybuilder', 'enough', 'at',\n",
       "                                             'even', 'latterly', 'once',\n",
       "                                             'first', 'becomes', 'others',\n",
       "                                             'nbsp', 'whether', 'much',\n",
       "                                             'really', 'often', 'everything',\n",
       "                                             'below', 'noone', 'sixty',\n",
       "                                             'former', 'whose', 'but', 'per',\n",
       "                                             'thereupon', 'detail', 'most',\n",
       "                                             'please', ...])),\n",
       "                ('scaler', StandardScaler(with_mean=False)), ('svm', SVC())])"
      ]
     },
     "execution_count": 88,
     "metadata": {},
     "output_type": "execute_result"
    }
   ],
   "source": [
    "pipe.fit(X_train, y_train)"
   ]
  },
  {
   "cell_type": "code",
   "execution_count": 89,
   "id": "eb3a9aba-cc73-419b-bdc8-e0ea18221693",
   "metadata": {},
   "outputs": [
    {
     "data": {
      "text/plain": [
       "0.9459798994974874"
      ]
     },
     "execution_count": 89,
     "metadata": {},
     "output_type": "execute_result"
    }
   ],
   "source": [
    "pipe.score(X_train, y_train)"
   ]
  },
  {
   "cell_type": "code",
   "execution_count": 90,
   "id": "50ada5fa-6d3e-405b-8827-e187453a2f15",
   "metadata": {},
   "outputs": [
    {
     "data": {
      "text/plain": [
       "0.7763819095477387"
      ]
     },
     "execution_count": 90,
     "metadata": {},
     "output_type": "execute_result"
    }
   ],
   "source": [
    "pipe.score(X_test, y_test)"
   ]
  },
  {
   "cell_type": "markdown",
   "id": "f6600230-99b6-4e5b-a125-fed83d9a32f0",
   "metadata": {},
   "source": [
    "## SVC with CountVectorizer (GridSearchCV)"
   ]
  },
  {
   "cell_type": "code",
   "execution_count": 91,
   "id": "fe1eac1e-9b37-43ab-a602-1b9d606a35a6",
   "metadata": {},
   "outputs": [],
   "source": [
    "param_grid = {\n",
    "    'cvect__max_features': [None, 1000, 5000, 10000],\n",
    "    'cvect__ngram_range': [(1, 1), (1, 2), (1, 3)],\n",
    "    'cvect__stop_words': [None, 'english', stop_words],\n",
    "    'svm__C': [0.01, 0.1, 1, 10, 100]\n",
    "}\n",
    "\n",
    "grid_search = GridSearchCV(pipe, param_grid=param_grid)"
   ]
  },
  {
   "cell_type": "code",
   "execution_count": 92,
   "id": "6e370be7-5b9a-49bd-9727-fdf295425b64",
   "metadata": {},
   "outputs": [
    {
     "data": {
      "text/html": [
       "<style>#sk-container-id-18 {color: black;background-color: white;}#sk-container-id-18 pre{padding: 0;}#sk-container-id-18 div.sk-toggleable {background-color: white;}#sk-container-id-18 label.sk-toggleable__label {cursor: pointer;display: block;width: 100%;margin-bottom: 0;padding: 0.3em;box-sizing: border-box;text-align: center;}#sk-container-id-18 label.sk-toggleable__label-arrow:before {content: \"▸\";float: left;margin-right: 0.25em;color: #696969;}#sk-container-id-18 label.sk-toggleable__label-arrow:hover:before {color: black;}#sk-container-id-18 div.sk-estimator:hover label.sk-toggleable__label-arrow:before {color: black;}#sk-container-id-18 div.sk-toggleable__content {max-height: 0;max-width: 0;overflow: hidden;text-align: left;background-color: #f0f8ff;}#sk-container-id-18 div.sk-toggleable__content pre {margin: 0.2em;color: black;border-radius: 0.25em;background-color: #f0f8ff;}#sk-container-id-18 input.sk-toggleable__control:checked~div.sk-toggleable__content {max-height: 200px;max-width: 100%;overflow: auto;}#sk-container-id-18 input.sk-toggleable__control:checked~label.sk-toggleable__label-arrow:before {content: \"▾\";}#sk-container-id-18 div.sk-estimator input.sk-toggleable__control:checked~label.sk-toggleable__label {background-color: #d4ebff;}#sk-container-id-18 div.sk-label input.sk-toggleable__control:checked~label.sk-toggleable__label {background-color: #d4ebff;}#sk-container-id-18 input.sk-hidden--visually {border: 0;clip: rect(1px 1px 1px 1px);clip: rect(1px, 1px, 1px, 1px);height: 1px;margin: -1px;overflow: hidden;padding: 0;position: absolute;width: 1px;}#sk-container-id-18 div.sk-estimator {font-family: monospace;background-color: #f0f8ff;border: 1px dotted black;border-radius: 0.25em;box-sizing: border-box;margin-bottom: 0.5em;}#sk-container-id-18 div.sk-estimator:hover {background-color: #d4ebff;}#sk-container-id-18 div.sk-parallel-item::after {content: \"\";width: 100%;border-bottom: 1px solid gray;flex-grow: 1;}#sk-container-id-18 div.sk-label:hover label.sk-toggleable__label {background-color: #d4ebff;}#sk-container-id-18 div.sk-serial::before {content: \"\";position: absolute;border-left: 1px solid gray;box-sizing: border-box;top: 0;bottom: 0;left: 50%;z-index: 0;}#sk-container-id-18 div.sk-serial {display: flex;flex-direction: column;align-items: center;background-color: white;padding-right: 0.2em;padding-left: 0.2em;position: relative;}#sk-container-id-18 div.sk-item {position: relative;z-index: 1;}#sk-container-id-18 div.sk-parallel {display: flex;align-items: stretch;justify-content: center;background-color: white;position: relative;}#sk-container-id-18 div.sk-item::before, #sk-container-id-18 div.sk-parallel-item::before {content: \"\";position: absolute;border-left: 1px solid gray;box-sizing: border-box;top: 0;bottom: 0;left: 50%;z-index: -1;}#sk-container-id-18 div.sk-parallel-item {display: flex;flex-direction: column;z-index: 1;position: relative;background-color: white;}#sk-container-id-18 div.sk-parallel-item:first-child::after {align-self: flex-end;width: 50%;}#sk-container-id-18 div.sk-parallel-item:last-child::after {align-self: flex-start;width: 50%;}#sk-container-id-18 div.sk-parallel-item:only-child::after {width: 0;}#sk-container-id-18 div.sk-dashed-wrapped {border: 1px dashed gray;margin: 0 0.4em 0.5em 0.4em;box-sizing: border-box;padding-bottom: 0.4em;background-color: white;}#sk-container-id-18 div.sk-label label {font-family: monospace;font-weight: bold;display: inline-block;line-height: 1.2em;}#sk-container-id-18 div.sk-label-container {text-align: center;}#sk-container-id-18 div.sk-container {/* jupyter's `normalize.less` sets `[hidden] { display: none; }` but bootstrap.min.css set `[hidden] { display: none !important; }` so we also need the `!important` here to be able to override the default hidden behavior on the sphinx rendered scikit-learn.org. See: https://github.com/scikit-learn/scikit-learn/issues/21755 */display: inline-block !important;position: relative;}#sk-container-id-18 div.sk-text-repr-fallback {display: none;}</style><div id=\"sk-container-id-18\" class=\"sk-top-container\"><div class=\"sk-text-repr-fallback\"><pre>GridSearchCV(estimator=Pipeline(steps=[(&#x27;cvect&#x27;,\n",
       "                                        CountVectorizer(stop_words=[&#x27;further&#x27;,\n",
       "                                                                    &#x27;move&#x27;,\n",
       "                                                                    &#x27;many&#x27;,\n",
       "                                                                    &#x27;he&#x27;,\n",
       "                                                                    &#x27;bodybuilder&#x27;,\n",
       "                                                                    &#x27;enough&#x27;,\n",
       "                                                                    &#x27;at&#x27;,\n",
       "                                                                    &#x27;even&#x27;,\n",
       "                                                                    &#x27;latterly&#x27;,\n",
       "                                                                    &#x27;once&#x27;,\n",
       "                                                                    &#x27;first&#x27;,\n",
       "                                                                    &#x27;becomes&#x27;,\n",
       "                                                                    &#x27;others&#x27;,\n",
       "                                                                    &#x27;nbsp&#x27;,\n",
       "                                                                    &#x27;whether&#x27;,\n",
       "                                                                    &#x27;much&#x27;,\n",
       "                                                                    &#x27;really&#x27;,\n",
       "                                                                    &#x27;often&#x27;,\n",
       "                                                                    &#x27;everything&#x27;,\n",
       "                                                                    &#x27;below&#x27;,\n",
       "                                                                    &#x27;noone&#x27;,\n",
       "                                                                    &#x27;sixty&#x27;,\n",
       "                                                                    &#x27;former&#x27;,\n",
       "                                                                    &#x27;whose&#x27;,\n",
       "                                                                    &#x27;but&#x27;,\n",
       "                                                                    &#x27;per&#x27;,\n",
       "                                                                    &#x27;thereupon&#x27;,\n",
       "                                                                    &#x27;detail&#x27;,\n",
       "                                                                    &#x27;most&#x27;,\n",
       "                                                                    &#x27;please&#x27;, ...])),\n",
       "                                       (&#x27;scaler&#x27;,\n",
       "                                        Stan...\n",
       "                         &#x27;cvect__ngram_range&#x27;: [(1, 1), (1, 2), (1, 3)],\n",
       "                         &#x27;cvect__stop_words&#x27;: [None, &#x27;english&#x27;,\n",
       "                                               [&#x27;further&#x27;, &#x27;move&#x27;, &#x27;many&#x27;, &#x27;he&#x27;,\n",
       "                                                &#x27;bodybuilder&#x27;, &#x27;enough&#x27;, &#x27;at&#x27;,\n",
       "                                                &#x27;even&#x27;, &#x27;latterly&#x27;, &#x27;once&#x27;,\n",
       "                                                &#x27;first&#x27;, &#x27;becomes&#x27;, &#x27;others&#x27;,\n",
       "                                                &#x27;nbsp&#x27;, &#x27;whether&#x27;, &#x27;much&#x27;,\n",
       "                                                &#x27;really&#x27;, &#x27;often&#x27;, &#x27;everything&#x27;,\n",
       "                                                &#x27;below&#x27;, &#x27;noone&#x27;, &#x27;sixty&#x27;,\n",
       "                                                &#x27;former&#x27;, &#x27;whose&#x27;, &#x27;but&#x27;, &#x27;per&#x27;,\n",
       "                                                &#x27;thereupon&#x27;, &#x27;detail&#x27;, &#x27;most&#x27;,\n",
       "                                                &#x27;please&#x27;, ...]],\n",
       "                         &#x27;svm__C&#x27;: [0.01, 0.1, 1, 10, 100]})</pre><b>In a Jupyter environment, please rerun this cell to show the HTML representation or trust the notebook. <br />On GitHub, the HTML representation is unable to render, please try loading this page with nbviewer.org.</b></div><div class=\"sk-container\" hidden><div class=\"sk-item sk-dashed-wrapped\"><div class=\"sk-label-container\"><div class=\"sk-label sk-toggleable\"><input class=\"sk-toggleable__control sk-hidden--visually\" id=\"sk-estimator-id-62\" type=\"checkbox\" ><label for=\"sk-estimator-id-62\" class=\"sk-toggleable__label sk-toggleable__label-arrow\">GridSearchCV</label><div class=\"sk-toggleable__content\"><pre>GridSearchCV(estimator=Pipeline(steps=[(&#x27;cvect&#x27;,\n",
       "                                        CountVectorizer(stop_words=[&#x27;further&#x27;,\n",
       "                                                                    &#x27;move&#x27;,\n",
       "                                                                    &#x27;many&#x27;,\n",
       "                                                                    &#x27;he&#x27;,\n",
       "                                                                    &#x27;bodybuilder&#x27;,\n",
       "                                                                    &#x27;enough&#x27;,\n",
       "                                                                    &#x27;at&#x27;,\n",
       "                                                                    &#x27;even&#x27;,\n",
       "                                                                    &#x27;latterly&#x27;,\n",
       "                                                                    &#x27;once&#x27;,\n",
       "                                                                    &#x27;first&#x27;,\n",
       "                                                                    &#x27;becomes&#x27;,\n",
       "                                                                    &#x27;others&#x27;,\n",
       "                                                                    &#x27;nbsp&#x27;,\n",
       "                                                                    &#x27;whether&#x27;,\n",
       "                                                                    &#x27;much&#x27;,\n",
       "                                                                    &#x27;really&#x27;,\n",
       "                                                                    &#x27;often&#x27;,\n",
       "                                                                    &#x27;everything&#x27;,\n",
       "                                                                    &#x27;below&#x27;,\n",
       "                                                                    &#x27;noone&#x27;,\n",
       "                                                                    &#x27;sixty&#x27;,\n",
       "                                                                    &#x27;former&#x27;,\n",
       "                                                                    &#x27;whose&#x27;,\n",
       "                                                                    &#x27;but&#x27;,\n",
       "                                                                    &#x27;per&#x27;,\n",
       "                                                                    &#x27;thereupon&#x27;,\n",
       "                                                                    &#x27;detail&#x27;,\n",
       "                                                                    &#x27;most&#x27;,\n",
       "                                                                    &#x27;please&#x27;, ...])),\n",
       "                                       (&#x27;scaler&#x27;,\n",
       "                                        Stan...\n",
       "                         &#x27;cvect__ngram_range&#x27;: [(1, 1), (1, 2), (1, 3)],\n",
       "                         &#x27;cvect__stop_words&#x27;: [None, &#x27;english&#x27;,\n",
       "                                               [&#x27;further&#x27;, &#x27;move&#x27;, &#x27;many&#x27;, &#x27;he&#x27;,\n",
       "                                                &#x27;bodybuilder&#x27;, &#x27;enough&#x27;, &#x27;at&#x27;,\n",
       "                                                &#x27;even&#x27;, &#x27;latterly&#x27;, &#x27;once&#x27;,\n",
       "                                                &#x27;first&#x27;, &#x27;becomes&#x27;, &#x27;others&#x27;,\n",
       "                                                &#x27;nbsp&#x27;, &#x27;whether&#x27;, &#x27;much&#x27;,\n",
       "                                                &#x27;really&#x27;, &#x27;often&#x27;, &#x27;everything&#x27;,\n",
       "                                                &#x27;below&#x27;, &#x27;noone&#x27;, &#x27;sixty&#x27;,\n",
       "                                                &#x27;former&#x27;, &#x27;whose&#x27;, &#x27;but&#x27;, &#x27;per&#x27;,\n",
       "                                                &#x27;thereupon&#x27;, &#x27;detail&#x27;, &#x27;most&#x27;,\n",
       "                                                &#x27;please&#x27;, ...]],\n",
       "                         &#x27;svm__C&#x27;: [0.01, 0.1, 1, 10, 100]})</pre></div></div></div><div class=\"sk-parallel\"><div class=\"sk-parallel-item\"><div class=\"sk-item\"><div class=\"sk-label-container\"><div class=\"sk-label sk-toggleable\"><input class=\"sk-toggleable__control sk-hidden--visually\" id=\"sk-estimator-id-63\" type=\"checkbox\" ><label for=\"sk-estimator-id-63\" class=\"sk-toggleable__label sk-toggleable__label-arrow\">estimator: Pipeline</label><div class=\"sk-toggleable__content\"><pre>Pipeline(steps=[(&#x27;cvect&#x27;,\n",
       "                 CountVectorizer(stop_words=[&#x27;further&#x27;, &#x27;move&#x27;, &#x27;many&#x27;, &#x27;he&#x27;,\n",
       "                                             &#x27;bodybuilder&#x27;, &#x27;enough&#x27;, &#x27;at&#x27;,\n",
       "                                             &#x27;even&#x27;, &#x27;latterly&#x27;, &#x27;once&#x27;,\n",
       "                                             &#x27;first&#x27;, &#x27;becomes&#x27;, &#x27;others&#x27;,\n",
       "                                             &#x27;nbsp&#x27;, &#x27;whether&#x27;, &#x27;much&#x27;,\n",
       "                                             &#x27;really&#x27;, &#x27;often&#x27;, &#x27;everything&#x27;,\n",
       "                                             &#x27;below&#x27;, &#x27;noone&#x27;, &#x27;sixty&#x27;,\n",
       "                                             &#x27;former&#x27;, &#x27;whose&#x27;, &#x27;but&#x27;, &#x27;per&#x27;,\n",
       "                                             &#x27;thereupon&#x27;, &#x27;detail&#x27;, &#x27;most&#x27;,\n",
       "                                             &#x27;please&#x27;, ...])),\n",
       "                (&#x27;scaler&#x27;, StandardScaler(with_mean=False)), (&#x27;svm&#x27;, SVC())])</pre></div></div></div><div class=\"sk-serial\"><div class=\"sk-item\"><div class=\"sk-serial\"><div class=\"sk-item\"><div class=\"sk-estimator sk-toggleable\"><input class=\"sk-toggleable__control sk-hidden--visually\" id=\"sk-estimator-id-64\" type=\"checkbox\" ><label for=\"sk-estimator-id-64\" class=\"sk-toggleable__label sk-toggleable__label-arrow\">CountVectorizer</label><div class=\"sk-toggleable__content\"><pre>CountVectorizer(stop_words=[&#x27;further&#x27;, &#x27;move&#x27;, &#x27;many&#x27;, &#x27;he&#x27;, &#x27;bodybuilder&#x27;,\n",
       "                            &#x27;enough&#x27;, &#x27;at&#x27;, &#x27;even&#x27;, &#x27;latterly&#x27;, &#x27;once&#x27;, &#x27;first&#x27;,\n",
       "                            &#x27;becomes&#x27;, &#x27;others&#x27;, &#x27;nbsp&#x27;, &#x27;whether&#x27;, &#x27;much&#x27;,\n",
       "                            &#x27;really&#x27;, &#x27;often&#x27;, &#x27;everything&#x27;, &#x27;below&#x27;, &#x27;noone&#x27;,\n",
       "                            &#x27;sixty&#x27;, &#x27;former&#x27;, &#x27;whose&#x27;, &#x27;but&#x27;, &#x27;per&#x27;,\n",
       "                            &#x27;thereupon&#x27;, &#x27;detail&#x27;, &#x27;most&#x27;, &#x27;please&#x27;, ...])</pre></div></div></div><div class=\"sk-item\"><div class=\"sk-estimator sk-toggleable\"><input class=\"sk-toggleable__control sk-hidden--visually\" id=\"sk-estimator-id-65\" type=\"checkbox\" ><label for=\"sk-estimator-id-65\" class=\"sk-toggleable__label sk-toggleable__label-arrow\">StandardScaler</label><div class=\"sk-toggleable__content\"><pre>StandardScaler(with_mean=False)</pre></div></div></div><div class=\"sk-item\"><div class=\"sk-estimator sk-toggleable\"><input class=\"sk-toggleable__control sk-hidden--visually\" id=\"sk-estimator-id-66\" type=\"checkbox\" ><label for=\"sk-estimator-id-66\" class=\"sk-toggleable__label sk-toggleable__label-arrow\">SVC</label><div class=\"sk-toggleable__content\"><pre>SVC()</pre></div></div></div></div></div></div></div></div></div></div></div></div>"
      ],
      "text/plain": [
       "GridSearchCV(estimator=Pipeline(steps=[('cvect',\n",
       "                                        CountVectorizer(stop_words=['further',\n",
       "                                                                    'move',\n",
       "                                                                    'many',\n",
       "                                                                    'he',\n",
       "                                                                    'bodybuilder',\n",
       "                                                                    'enough',\n",
       "                                                                    'at',\n",
       "                                                                    'even',\n",
       "                                                                    'latterly',\n",
       "                                                                    'once',\n",
       "                                                                    'first',\n",
       "                                                                    'becomes',\n",
       "                                                                    'others',\n",
       "                                                                    'nbsp',\n",
       "                                                                    'whether',\n",
       "                                                                    'much',\n",
       "                                                                    'really',\n",
       "                                                                    'often',\n",
       "                                                                    'everything',\n",
       "                                                                    'below',\n",
       "                                                                    'noone',\n",
       "                                                                    'sixty',\n",
       "                                                                    'former',\n",
       "                                                                    'whose',\n",
       "                                                                    'but',\n",
       "                                                                    'per',\n",
       "                                                                    'thereupon',\n",
       "                                                                    'detail',\n",
       "                                                                    'most',\n",
       "                                                                    'please', ...])),\n",
       "                                       ('scaler',\n",
       "                                        Stan...\n",
       "                         'cvect__ngram_range': [(1, 1), (1, 2), (1, 3)],\n",
       "                         'cvect__stop_words': [None, 'english',\n",
       "                                               ['further', 'move', 'many', 'he',\n",
       "                                                'bodybuilder', 'enough', 'at',\n",
       "                                                'even', 'latterly', 'once',\n",
       "                                                'first', 'becomes', 'others',\n",
       "                                                'nbsp', 'whether', 'much',\n",
       "                                                'really', 'often', 'everything',\n",
       "                                                'below', 'noone', 'sixty',\n",
       "                                                'former', 'whose', 'but', 'per',\n",
       "                                                'thereupon', 'detail', 'most',\n",
       "                                                'please', ...]],\n",
       "                         'svm__C': [0.01, 0.1, 1, 10, 100]})"
      ]
     },
     "execution_count": 92,
     "metadata": {},
     "output_type": "execute_result"
    }
   ],
   "source": [
    "grid_search.fit(X_train, y_train)"
   ]
  },
  {
   "cell_type": "code",
   "execution_count": 93,
   "id": "d1211179-b572-47d3-b3c9-d6af1f401849",
   "metadata": {},
   "outputs": [
    {
     "data": {
      "text/plain": [
       "{'cvect__max_features': 1000,\n",
       " 'cvect__ngram_range': (1, 3),\n",
       " 'cvect__stop_words': 'english',\n",
       " 'svm__C': 100}"
      ]
     },
     "execution_count": 93,
     "metadata": {},
     "output_type": "execute_result"
    }
   ],
   "source": [
    "grid_search.best_params_"
   ]
  },
  {
   "cell_type": "code",
   "execution_count": 94,
   "id": "ce66e4ce-1a73-40ec-93b3-bb1a6e8bb3e9",
   "metadata": {},
   "outputs": [
    {
     "data": {
      "text/plain": [
       "0.9842964824120602"
      ]
     },
     "execution_count": 94,
     "metadata": {},
     "output_type": "execute_result"
    }
   ],
   "source": [
    "grid_search.score(X_train, y_train)"
   ]
  },
  {
   "cell_type": "code",
   "execution_count": 95,
   "id": "cd421aa4-8c56-4df6-8e74-1bb10abd0245",
   "metadata": {},
   "outputs": [
    {
     "data": {
      "text/plain": [
       "0.9346733668341709"
      ]
     },
     "execution_count": 95,
     "metadata": {},
     "output_type": "execute_result"
    }
   ],
   "source": [
    "grid_search.score(X_test, y_test)"
   ]
  },
  {
   "cell_type": "markdown",
   "id": "31581d55-a5b7-4121-8963-76c34c781a15",
   "metadata": {},
   "source": [
    "## Naive Bayes with CountVectorizer"
   ]
  },
  {
   "cell_type": "code",
   "execution_count": 96,
   "id": "2cda9e05-ee4a-4892-b4f8-ae48192b50e1",
   "metadata": {},
   "outputs": [
    {
     "data": {
      "text/html": [
       "<style>#sk-container-id-19 {color: black;background-color: white;}#sk-container-id-19 pre{padding: 0;}#sk-container-id-19 div.sk-toggleable {background-color: white;}#sk-container-id-19 label.sk-toggleable__label {cursor: pointer;display: block;width: 100%;margin-bottom: 0;padding: 0.3em;box-sizing: border-box;text-align: center;}#sk-container-id-19 label.sk-toggleable__label-arrow:before {content: \"▸\";float: left;margin-right: 0.25em;color: #696969;}#sk-container-id-19 label.sk-toggleable__label-arrow:hover:before {color: black;}#sk-container-id-19 div.sk-estimator:hover label.sk-toggleable__label-arrow:before {color: black;}#sk-container-id-19 div.sk-toggleable__content {max-height: 0;max-width: 0;overflow: hidden;text-align: left;background-color: #f0f8ff;}#sk-container-id-19 div.sk-toggleable__content pre {margin: 0.2em;color: black;border-radius: 0.25em;background-color: #f0f8ff;}#sk-container-id-19 input.sk-toggleable__control:checked~div.sk-toggleable__content {max-height: 200px;max-width: 100%;overflow: auto;}#sk-container-id-19 input.sk-toggleable__control:checked~label.sk-toggleable__label-arrow:before {content: \"▾\";}#sk-container-id-19 div.sk-estimator input.sk-toggleable__control:checked~label.sk-toggleable__label {background-color: #d4ebff;}#sk-container-id-19 div.sk-label input.sk-toggleable__control:checked~label.sk-toggleable__label {background-color: #d4ebff;}#sk-container-id-19 input.sk-hidden--visually {border: 0;clip: rect(1px 1px 1px 1px);clip: rect(1px, 1px, 1px, 1px);height: 1px;margin: -1px;overflow: hidden;padding: 0;position: absolute;width: 1px;}#sk-container-id-19 div.sk-estimator {font-family: monospace;background-color: #f0f8ff;border: 1px dotted black;border-radius: 0.25em;box-sizing: border-box;margin-bottom: 0.5em;}#sk-container-id-19 div.sk-estimator:hover {background-color: #d4ebff;}#sk-container-id-19 div.sk-parallel-item::after {content: \"\";width: 100%;border-bottom: 1px solid gray;flex-grow: 1;}#sk-container-id-19 div.sk-label:hover label.sk-toggleable__label {background-color: #d4ebff;}#sk-container-id-19 div.sk-serial::before {content: \"\";position: absolute;border-left: 1px solid gray;box-sizing: border-box;top: 0;bottom: 0;left: 50%;z-index: 0;}#sk-container-id-19 div.sk-serial {display: flex;flex-direction: column;align-items: center;background-color: white;padding-right: 0.2em;padding-left: 0.2em;position: relative;}#sk-container-id-19 div.sk-item {position: relative;z-index: 1;}#sk-container-id-19 div.sk-parallel {display: flex;align-items: stretch;justify-content: center;background-color: white;position: relative;}#sk-container-id-19 div.sk-item::before, #sk-container-id-19 div.sk-parallel-item::before {content: \"\";position: absolute;border-left: 1px solid gray;box-sizing: border-box;top: 0;bottom: 0;left: 50%;z-index: -1;}#sk-container-id-19 div.sk-parallel-item {display: flex;flex-direction: column;z-index: 1;position: relative;background-color: white;}#sk-container-id-19 div.sk-parallel-item:first-child::after {align-self: flex-end;width: 50%;}#sk-container-id-19 div.sk-parallel-item:last-child::after {align-self: flex-start;width: 50%;}#sk-container-id-19 div.sk-parallel-item:only-child::after {width: 0;}#sk-container-id-19 div.sk-dashed-wrapped {border: 1px dashed gray;margin: 0 0.4em 0.5em 0.4em;box-sizing: border-box;padding-bottom: 0.4em;background-color: white;}#sk-container-id-19 div.sk-label label {font-family: monospace;font-weight: bold;display: inline-block;line-height: 1.2em;}#sk-container-id-19 div.sk-label-container {text-align: center;}#sk-container-id-19 div.sk-container {/* jupyter's `normalize.less` sets `[hidden] { display: none; }` but bootstrap.min.css set `[hidden] { display: none !important; }` so we also need the `!important` here to be able to override the default hidden behavior on the sphinx rendered scikit-learn.org. See: https://github.com/scikit-learn/scikit-learn/issues/21755 */display: inline-block !important;position: relative;}#sk-container-id-19 div.sk-text-repr-fallback {display: none;}</style><div id=\"sk-container-id-19\" class=\"sk-top-container\"><div class=\"sk-text-repr-fallback\"><pre>Pipeline(steps=[(&#x27;cvect&#x27;,\n",
       "                 CountVectorizer(stop_words=[&#x27;further&#x27;, &#x27;move&#x27;, &#x27;many&#x27;, &#x27;he&#x27;,\n",
       "                                             &#x27;bodybuilder&#x27;, &#x27;enough&#x27;, &#x27;at&#x27;,\n",
       "                                             &#x27;even&#x27;, &#x27;latterly&#x27;, &#x27;once&#x27;,\n",
       "                                             &#x27;first&#x27;, &#x27;becomes&#x27;, &#x27;others&#x27;,\n",
       "                                             &#x27;nbsp&#x27;, &#x27;whether&#x27;, &#x27;much&#x27;,\n",
       "                                             &#x27;really&#x27;, &#x27;often&#x27;, &#x27;everything&#x27;,\n",
       "                                             &#x27;below&#x27;, &#x27;noone&#x27;, &#x27;sixty&#x27;,\n",
       "                                             &#x27;former&#x27;, &#x27;whose&#x27;, &#x27;but&#x27;, &#x27;per&#x27;,\n",
       "                                             &#x27;thereupon&#x27;, &#x27;detail&#x27;, &#x27;most&#x27;,\n",
       "                                             &#x27;please&#x27;, ...])),\n",
       "                (&#x27;nb&#x27;, MultinomialNB())])</pre><b>In a Jupyter environment, please rerun this cell to show the HTML representation or trust the notebook. <br />On GitHub, the HTML representation is unable to render, please try loading this page with nbviewer.org.</b></div><div class=\"sk-container\" hidden><div class=\"sk-item sk-dashed-wrapped\"><div class=\"sk-label-container\"><div class=\"sk-label sk-toggleable\"><input class=\"sk-toggleable__control sk-hidden--visually\" id=\"sk-estimator-id-67\" type=\"checkbox\" ><label for=\"sk-estimator-id-67\" class=\"sk-toggleable__label sk-toggleable__label-arrow\">Pipeline</label><div class=\"sk-toggleable__content\"><pre>Pipeline(steps=[(&#x27;cvect&#x27;,\n",
       "                 CountVectorizer(stop_words=[&#x27;further&#x27;, &#x27;move&#x27;, &#x27;many&#x27;, &#x27;he&#x27;,\n",
       "                                             &#x27;bodybuilder&#x27;, &#x27;enough&#x27;, &#x27;at&#x27;,\n",
       "                                             &#x27;even&#x27;, &#x27;latterly&#x27;, &#x27;once&#x27;,\n",
       "                                             &#x27;first&#x27;, &#x27;becomes&#x27;, &#x27;others&#x27;,\n",
       "                                             &#x27;nbsp&#x27;, &#x27;whether&#x27;, &#x27;much&#x27;,\n",
       "                                             &#x27;really&#x27;, &#x27;often&#x27;, &#x27;everything&#x27;,\n",
       "                                             &#x27;below&#x27;, &#x27;noone&#x27;, &#x27;sixty&#x27;,\n",
       "                                             &#x27;former&#x27;, &#x27;whose&#x27;, &#x27;but&#x27;, &#x27;per&#x27;,\n",
       "                                             &#x27;thereupon&#x27;, &#x27;detail&#x27;, &#x27;most&#x27;,\n",
       "                                             &#x27;please&#x27;, ...])),\n",
       "                (&#x27;nb&#x27;, MultinomialNB())])</pre></div></div></div><div class=\"sk-serial\"><div class=\"sk-item\"><div class=\"sk-estimator sk-toggleable\"><input class=\"sk-toggleable__control sk-hidden--visually\" id=\"sk-estimator-id-68\" type=\"checkbox\" ><label for=\"sk-estimator-id-68\" class=\"sk-toggleable__label sk-toggleable__label-arrow\">CountVectorizer</label><div class=\"sk-toggleable__content\"><pre>CountVectorizer(stop_words=[&#x27;further&#x27;, &#x27;move&#x27;, &#x27;many&#x27;, &#x27;he&#x27;, &#x27;bodybuilder&#x27;,\n",
       "                            &#x27;enough&#x27;, &#x27;at&#x27;, &#x27;even&#x27;, &#x27;latterly&#x27;, &#x27;once&#x27;, &#x27;first&#x27;,\n",
       "                            &#x27;becomes&#x27;, &#x27;others&#x27;, &#x27;nbsp&#x27;, &#x27;whether&#x27;, &#x27;much&#x27;,\n",
       "                            &#x27;really&#x27;, &#x27;often&#x27;, &#x27;everything&#x27;, &#x27;below&#x27;, &#x27;noone&#x27;,\n",
       "                            &#x27;sixty&#x27;, &#x27;former&#x27;, &#x27;whose&#x27;, &#x27;but&#x27;, &#x27;per&#x27;,\n",
       "                            &#x27;thereupon&#x27;, &#x27;detail&#x27;, &#x27;most&#x27;, &#x27;please&#x27;, ...])</pre></div></div></div><div class=\"sk-item\"><div class=\"sk-estimator sk-toggleable\"><input class=\"sk-toggleable__control sk-hidden--visually\" id=\"sk-estimator-id-69\" type=\"checkbox\" ><label for=\"sk-estimator-id-69\" class=\"sk-toggleable__label sk-toggleable__label-arrow\">MultinomialNB</label><div class=\"sk-toggleable__content\"><pre>MultinomialNB()</pre></div></div></div></div></div></div></div>"
      ],
      "text/plain": [
       "Pipeline(steps=[('cvect',\n",
       "                 CountVectorizer(stop_words=['further', 'move', 'many', 'he',\n",
       "                                             'bodybuilder', 'enough', 'at',\n",
       "                                             'even', 'latterly', 'once',\n",
       "                                             'first', 'becomes', 'others',\n",
       "                                             'nbsp', 'whether', 'much',\n",
       "                                             'really', 'often', 'everything',\n",
       "                                             'below', 'noone', 'sixty',\n",
       "                                             'former', 'whose', 'but', 'per',\n",
       "                                             'thereupon', 'detail', 'most',\n",
       "                                             'please', ...])),\n",
       "                ('nb', MultinomialNB())])"
      ]
     },
     "execution_count": 96,
     "metadata": {},
     "output_type": "execute_result"
    }
   ],
   "source": [
    "pipe = Pipeline([\n",
    "    ('cvect', CountVectorizer(stop_words=stop_words)),\n",
    "    ('nb', MultinomialNB())\n",
    "])\n",
    "\n",
    "pipe"
   ]
  },
  {
   "cell_type": "code",
   "execution_count": 97,
   "id": "98d49b75-7ac4-40b9-a76d-9d1bfa8c93ac",
   "metadata": {},
   "outputs": [
    {
     "data": {
      "text/html": [
       "<style>#sk-container-id-20 {color: black;background-color: white;}#sk-container-id-20 pre{padding: 0;}#sk-container-id-20 div.sk-toggleable {background-color: white;}#sk-container-id-20 label.sk-toggleable__label {cursor: pointer;display: block;width: 100%;margin-bottom: 0;padding: 0.3em;box-sizing: border-box;text-align: center;}#sk-container-id-20 label.sk-toggleable__label-arrow:before {content: \"▸\";float: left;margin-right: 0.25em;color: #696969;}#sk-container-id-20 label.sk-toggleable__label-arrow:hover:before {color: black;}#sk-container-id-20 div.sk-estimator:hover label.sk-toggleable__label-arrow:before {color: black;}#sk-container-id-20 div.sk-toggleable__content {max-height: 0;max-width: 0;overflow: hidden;text-align: left;background-color: #f0f8ff;}#sk-container-id-20 div.sk-toggleable__content pre {margin: 0.2em;color: black;border-radius: 0.25em;background-color: #f0f8ff;}#sk-container-id-20 input.sk-toggleable__control:checked~div.sk-toggleable__content {max-height: 200px;max-width: 100%;overflow: auto;}#sk-container-id-20 input.sk-toggleable__control:checked~label.sk-toggleable__label-arrow:before {content: \"▾\";}#sk-container-id-20 div.sk-estimator input.sk-toggleable__control:checked~label.sk-toggleable__label {background-color: #d4ebff;}#sk-container-id-20 div.sk-label input.sk-toggleable__control:checked~label.sk-toggleable__label {background-color: #d4ebff;}#sk-container-id-20 input.sk-hidden--visually {border: 0;clip: rect(1px 1px 1px 1px);clip: rect(1px, 1px, 1px, 1px);height: 1px;margin: -1px;overflow: hidden;padding: 0;position: absolute;width: 1px;}#sk-container-id-20 div.sk-estimator {font-family: monospace;background-color: #f0f8ff;border: 1px dotted black;border-radius: 0.25em;box-sizing: border-box;margin-bottom: 0.5em;}#sk-container-id-20 div.sk-estimator:hover {background-color: #d4ebff;}#sk-container-id-20 div.sk-parallel-item::after {content: \"\";width: 100%;border-bottom: 1px solid gray;flex-grow: 1;}#sk-container-id-20 div.sk-label:hover label.sk-toggleable__label {background-color: #d4ebff;}#sk-container-id-20 div.sk-serial::before {content: \"\";position: absolute;border-left: 1px solid gray;box-sizing: border-box;top: 0;bottom: 0;left: 50%;z-index: 0;}#sk-container-id-20 div.sk-serial {display: flex;flex-direction: column;align-items: center;background-color: white;padding-right: 0.2em;padding-left: 0.2em;position: relative;}#sk-container-id-20 div.sk-item {position: relative;z-index: 1;}#sk-container-id-20 div.sk-parallel {display: flex;align-items: stretch;justify-content: center;background-color: white;position: relative;}#sk-container-id-20 div.sk-item::before, #sk-container-id-20 div.sk-parallel-item::before {content: \"\";position: absolute;border-left: 1px solid gray;box-sizing: border-box;top: 0;bottom: 0;left: 50%;z-index: -1;}#sk-container-id-20 div.sk-parallel-item {display: flex;flex-direction: column;z-index: 1;position: relative;background-color: white;}#sk-container-id-20 div.sk-parallel-item:first-child::after {align-self: flex-end;width: 50%;}#sk-container-id-20 div.sk-parallel-item:last-child::after {align-self: flex-start;width: 50%;}#sk-container-id-20 div.sk-parallel-item:only-child::after {width: 0;}#sk-container-id-20 div.sk-dashed-wrapped {border: 1px dashed gray;margin: 0 0.4em 0.5em 0.4em;box-sizing: border-box;padding-bottom: 0.4em;background-color: white;}#sk-container-id-20 div.sk-label label {font-family: monospace;font-weight: bold;display: inline-block;line-height: 1.2em;}#sk-container-id-20 div.sk-label-container {text-align: center;}#sk-container-id-20 div.sk-container {/* jupyter's `normalize.less` sets `[hidden] { display: none; }` but bootstrap.min.css set `[hidden] { display: none !important; }` so we also need the `!important` here to be able to override the default hidden behavior on the sphinx rendered scikit-learn.org. See: https://github.com/scikit-learn/scikit-learn/issues/21755 */display: inline-block !important;position: relative;}#sk-container-id-20 div.sk-text-repr-fallback {display: none;}</style><div id=\"sk-container-id-20\" class=\"sk-top-container\"><div class=\"sk-text-repr-fallback\"><pre>Pipeline(steps=[(&#x27;cvect&#x27;,\n",
       "                 CountVectorizer(stop_words=[&#x27;further&#x27;, &#x27;move&#x27;, &#x27;many&#x27;, &#x27;he&#x27;,\n",
       "                                             &#x27;bodybuilder&#x27;, &#x27;enough&#x27;, &#x27;at&#x27;,\n",
       "                                             &#x27;even&#x27;, &#x27;latterly&#x27;, &#x27;once&#x27;,\n",
       "                                             &#x27;first&#x27;, &#x27;becomes&#x27;, &#x27;others&#x27;,\n",
       "                                             &#x27;nbsp&#x27;, &#x27;whether&#x27;, &#x27;much&#x27;,\n",
       "                                             &#x27;really&#x27;, &#x27;often&#x27;, &#x27;everything&#x27;,\n",
       "                                             &#x27;below&#x27;, &#x27;noone&#x27;, &#x27;sixty&#x27;,\n",
       "                                             &#x27;former&#x27;, &#x27;whose&#x27;, &#x27;but&#x27;, &#x27;per&#x27;,\n",
       "                                             &#x27;thereupon&#x27;, &#x27;detail&#x27;, &#x27;most&#x27;,\n",
       "                                             &#x27;please&#x27;, ...])),\n",
       "                (&#x27;nb&#x27;, MultinomialNB())])</pre><b>In a Jupyter environment, please rerun this cell to show the HTML representation or trust the notebook. <br />On GitHub, the HTML representation is unable to render, please try loading this page with nbviewer.org.</b></div><div class=\"sk-container\" hidden><div class=\"sk-item sk-dashed-wrapped\"><div class=\"sk-label-container\"><div class=\"sk-label sk-toggleable\"><input class=\"sk-toggleable__control sk-hidden--visually\" id=\"sk-estimator-id-70\" type=\"checkbox\" ><label for=\"sk-estimator-id-70\" class=\"sk-toggleable__label sk-toggleable__label-arrow\">Pipeline</label><div class=\"sk-toggleable__content\"><pre>Pipeline(steps=[(&#x27;cvect&#x27;,\n",
       "                 CountVectorizer(stop_words=[&#x27;further&#x27;, &#x27;move&#x27;, &#x27;many&#x27;, &#x27;he&#x27;,\n",
       "                                             &#x27;bodybuilder&#x27;, &#x27;enough&#x27;, &#x27;at&#x27;,\n",
       "                                             &#x27;even&#x27;, &#x27;latterly&#x27;, &#x27;once&#x27;,\n",
       "                                             &#x27;first&#x27;, &#x27;becomes&#x27;, &#x27;others&#x27;,\n",
       "                                             &#x27;nbsp&#x27;, &#x27;whether&#x27;, &#x27;much&#x27;,\n",
       "                                             &#x27;really&#x27;, &#x27;often&#x27;, &#x27;everything&#x27;,\n",
       "                                             &#x27;below&#x27;, &#x27;noone&#x27;, &#x27;sixty&#x27;,\n",
       "                                             &#x27;former&#x27;, &#x27;whose&#x27;, &#x27;but&#x27;, &#x27;per&#x27;,\n",
       "                                             &#x27;thereupon&#x27;, &#x27;detail&#x27;, &#x27;most&#x27;,\n",
       "                                             &#x27;please&#x27;, ...])),\n",
       "                (&#x27;nb&#x27;, MultinomialNB())])</pre></div></div></div><div class=\"sk-serial\"><div class=\"sk-item\"><div class=\"sk-estimator sk-toggleable\"><input class=\"sk-toggleable__control sk-hidden--visually\" id=\"sk-estimator-id-71\" type=\"checkbox\" ><label for=\"sk-estimator-id-71\" class=\"sk-toggleable__label sk-toggleable__label-arrow\">CountVectorizer</label><div class=\"sk-toggleable__content\"><pre>CountVectorizer(stop_words=[&#x27;further&#x27;, &#x27;move&#x27;, &#x27;many&#x27;, &#x27;he&#x27;, &#x27;bodybuilder&#x27;,\n",
       "                            &#x27;enough&#x27;, &#x27;at&#x27;, &#x27;even&#x27;, &#x27;latterly&#x27;, &#x27;once&#x27;, &#x27;first&#x27;,\n",
       "                            &#x27;becomes&#x27;, &#x27;others&#x27;, &#x27;nbsp&#x27;, &#x27;whether&#x27;, &#x27;much&#x27;,\n",
       "                            &#x27;really&#x27;, &#x27;often&#x27;, &#x27;everything&#x27;, &#x27;below&#x27;, &#x27;noone&#x27;,\n",
       "                            &#x27;sixty&#x27;, &#x27;former&#x27;, &#x27;whose&#x27;, &#x27;but&#x27;, &#x27;per&#x27;,\n",
       "                            &#x27;thereupon&#x27;, &#x27;detail&#x27;, &#x27;most&#x27;, &#x27;please&#x27;, ...])</pre></div></div></div><div class=\"sk-item\"><div class=\"sk-estimator sk-toggleable\"><input class=\"sk-toggleable__control sk-hidden--visually\" id=\"sk-estimator-id-72\" type=\"checkbox\" ><label for=\"sk-estimator-id-72\" class=\"sk-toggleable__label sk-toggleable__label-arrow\">MultinomialNB</label><div class=\"sk-toggleable__content\"><pre>MultinomialNB()</pre></div></div></div></div></div></div></div>"
      ],
      "text/plain": [
       "Pipeline(steps=[('cvect',\n",
       "                 CountVectorizer(stop_words=['further', 'move', 'many', 'he',\n",
       "                                             'bodybuilder', 'enough', 'at',\n",
       "                                             'even', 'latterly', 'once',\n",
       "                                             'first', 'becomes', 'others',\n",
       "                                             'nbsp', 'whether', 'much',\n",
       "                                             'really', 'often', 'everything',\n",
       "                                             'below', 'noone', 'sixty',\n",
       "                                             'former', 'whose', 'but', 'per',\n",
       "                                             'thereupon', 'detail', 'most',\n",
       "                                             'please', ...])),\n",
       "                ('nb', MultinomialNB())])"
      ]
     },
     "execution_count": 97,
     "metadata": {},
     "output_type": "execute_result"
    }
   ],
   "source": [
    "pipe.fit(X_train, y_train)"
   ]
  },
  {
   "cell_type": "code",
   "execution_count": 98,
   "id": "57d66911-166b-4bed-9460-ed8ff6d3c859",
   "metadata": {},
   "outputs": [
    {
     "data": {
      "text/plain": [
       "0.9660804020100503"
      ]
     },
     "execution_count": 98,
     "metadata": {},
     "output_type": "execute_result"
    }
   ],
   "source": [
    "pipe.score(X_train, y_train)"
   ]
  },
  {
   "cell_type": "code",
   "execution_count": 99,
   "id": "12f14142-771d-427d-8214-3420a2060b52",
   "metadata": {},
   "outputs": [
    {
     "data": {
      "text/plain": [
       "0.8894472361809045"
      ]
     },
     "execution_count": 99,
     "metadata": {},
     "output_type": "execute_result"
    }
   ],
   "source": [
    "pipe.score(X_test, y_test)"
   ]
  },
  {
   "cell_type": "markdown",
   "id": "b1537ffa-c153-48c3-97d9-d2de231355aa",
   "metadata": {},
   "source": [
    "## Naive Bayes with CountVectorizer (GridSearchCV)"
   ]
  },
  {
   "cell_type": "code",
   "execution_count": 100,
   "id": "65917766-9789-410d-a3f2-32aa466776c8",
   "metadata": {},
   "outputs": [],
   "source": [
    "param_grid = {\n",
    "    'cvect__max_features': [None, 1000, 5000, 10000],\n",
    "    'cvect__ngram_range': [(1, 1), (1, 2), (1, 3)],\n",
    "    'cvect__stop_words': [None, 'english', stop_words],\n",
    "    'nb__alpha': [0.1, 0.5, 1.0, 2.0]\n",
    "}\n",
    "\n",
    "grid_search = GridSearchCV(pipe, param_grid=param_grid)"
   ]
  },
  {
   "cell_type": "code",
   "execution_count": 101,
   "id": "4e222d43-7049-4317-8545-7290e9eda029",
   "metadata": {},
   "outputs": [
    {
     "data": {
      "text/html": [
       "<style>#sk-container-id-21 {color: black;background-color: white;}#sk-container-id-21 pre{padding: 0;}#sk-container-id-21 div.sk-toggleable {background-color: white;}#sk-container-id-21 label.sk-toggleable__label {cursor: pointer;display: block;width: 100%;margin-bottom: 0;padding: 0.3em;box-sizing: border-box;text-align: center;}#sk-container-id-21 label.sk-toggleable__label-arrow:before {content: \"▸\";float: left;margin-right: 0.25em;color: #696969;}#sk-container-id-21 label.sk-toggleable__label-arrow:hover:before {color: black;}#sk-container-id-21 div.sk-estimator:hover label.sk-toggleable__label-arrow:before {color: black;}#sk-container-id-21 div.sk-toggleable__content {max-height: 0;max-width: 0;overflow: hidden;text-align: left;background-color: #f0f8ff;}#sk-container-id-21 div.sk-toggleable__content pre {margin: 0.2em;color: black;border-radius: 0.25em;background-color: #f0f8ff;}#sk-container-id-21 input.sk-toggleable__control:checked~div.sk-toggleable__content {max-height: 200px;max-width: 100%;overflow: auto;}#sk-container-id-21 input.sk-toggleable__control:checked~label.sk-toggleable__label-arrow:before {content: \"▾\";}#sk-container-id-21 div.sk-estimator input.sk-toggleable__control:checked~label.sk-toggleable__label {background-color: #d4ebff;}#sk-container-id-21 div.sk-label input.sk-toggleable__control:checked~label.sk-toggleable__label {background-color: #d4ebff;}#sk-container-id-21 input.sk-hidden--visually {border: 0;clip: rect(1px 1px 1px 1px);clip: rect(1px, 1px, 1px, 1px);height: 1px;margin: -1px;overflow: hidden;padding: 0;position: absolute;width: 1px;}#sk-container-id-21 div.sk-estimator {font-family: monospace;background-color: #f0f8ff;border: 1px dotted black;border-radius: 0.25em;box-sizing: border-box;margin-bottom: 0.5em;}#sk-container-id-21 div.sk-estimator:hover {background-color: #d4ebff;}#sk-container-id-21 div.sk-parallel-item::after {content: \"\";width: 100%;border-bottom: 1px solid gray;flex-grow: 1;}#sk-container-id-21 div.sk-label:hover label.sk-toggleable__label {background-color: #d4ebff;}#sk-container-id-21 div.sk-serial::before {content: \"\";position: absolute;border-left: 1px solid gray;box-sizing: border-box;top: 0;bottom: 0;left: 50%;z-index: 0;}#sk-container-id-21 div.sk-serial {display: flex;flex-direction: column;align-items: center;background-color: white;padding-right: 0.2em;padding-left: 0.2em;position: relative;}#sk-container-id-21 div.sk-item {position: relative;z-index: 1;}#sk-container-id-21 div.sk-parallel {display: flex;align-items: stretch;justify-content: center;background-color: white;position: relative;}#sk-container-id-21 div.sk-item::before, #sk-container-id-21 div.sk-parallel-item::before {content: \"\";position: absolute;border-left: 1px solid gray;box-sizing: border-box;top: 0;bottom: 0;left: 50%;z-index: -1;}#sk-container-id-21 div.sk-parallel-item {display: flex;flex-direction: column;z-index: 1;position: relative;background-color: white;}#sk-container-id-21 div.sk-parallel-item:first-child::after {align-self: flex-end;width: 50%;}#sk-container-id-21 div.sk-parallel-item:last-child::after {align-self: flex-start;width: 50%;}#sk-container-id-21 div.sk-parallel-item:only-child::after {width: 0;}#sk-container-id-21 div.sk-dashed-wrapped {border: 1px dashed gray;margin: 0 0.4em 0.5em 0.4em;box-sizing: border-box;padding-bottom: 0.4em;background-color: white;}#sk-container-id-21 div.sk-label label {font-family: monospace;font-weight: bold;display: inline-block;line-height: 1.2em;}#sk-container-id-21 div.sk-label-container {text-align: center;}#sk-container-id-21 div.sk-container {/* jupyter's `normalize.less` sets `[hidden] { display: none; }` but bootstrap.min.css set `[hidden] { display: none !important; }` so we also need the `!important` here to be able to override the default hidden behavior on the sphinx rendered scikit-learn.org. See: https://github.com/scikit-learn/scikit-learn/issues/21755 */display: inline-block !important;position: relative;}#sk-container-id-21 div.sk-text-repr-fallback {display: none;}</style><div id=\"sk-container-id-21\" class=\"sk-top-container\"><div class=\"sk-text-repr-fallback\"><pre>GridSearchCV(estimator=Pipeline(steps=[(&#x27;cvect&#x27;,\n",
       "                                        CountVectorizer(stop_words=[&#x27;further&#x27;,\n",
       "                                                                    &#x27;move&#x27;,\n",
       "                                                                    &#x27;many&#x27;,\n",
       "                                                                    &#x27;he&#x27;,\n",
       "                                                                    &#x27;bodybuilder&#x27;,\n",
       "                                                                    &#x27;enough&#x27;,\n",
       "                                                                    &#x27;at&#x27;,\n",
       "                                                                    &#x27;even&#x27;,\n",
       "                                                                    &#x27;latterly&#x27;,\n",
       "                                                                    &#x27;once&#x27;,\n",
       "                                                                    &#x27;first&#x27;,\n",
       "                                                                    &#x27;becomes&#x27;,\n",
       "                                                                    &#x27;others&#x27;,\n",
       "                                                                    &#x27;nbsp&#x27;,\n",
       "                                                                    &#x27;whether&#x27;,\n",
       "                                                                    &#x27;much&#x27;,\n",
       "                                                                    &#x27;really&#x27;,\n",
       "                                                                    &#x27;often&#x27;,\n",
       "                                                                    &#x27;everything&#x27;,\n",
       "                                                                    &#x27;below&#x27;,\n",
       "                                                                    &#x27;noone&#x27;,\n",
       "                                                                    &#x27;sixty&#x27;,\n",
       "                                                                    &#x27;former&#x27;,\n",
       "                                                                    &#x27;whose&#x27;,\n",
       "                                                                    &#x27;but&#x27;,\n",
       "                                                                    &#x27;per&#x27;,\n",
       "                                                                    &#x27;thereupon&#x27;,\n",
       "                                                                    &#x27;detail&#x27;,\n",
       "                                                                    &#x27;most&#x27;,\n",
       "                                                                    &#x27;please&#x27;, ...])),\n",
       "                                       (&#x27;nb&#x27;, Multinom...\n",
       "                         &#x27;cvect__ngram_range&#x27;: [(1, 1), (1, 2), (1, 3)],\n",
       "                         &#x27;cvect__stop_words&#x27;: [None, &#x27;english&#x27;,\n",
       "                                               [&#x27;further&#x27;, &#x27;move&#x27;, &#x27;many&#x27;, &#x27;he&#x27;,\n",
       "                                                &#x27;bodybuilder&#x27;, &#x27;enough&#x27;, &#x27;at&#x27;,\n",
       "                                                &#x27;even&#x27;, &#x27;latterly&#x27;, &#x27;once&#x27;,\n",
       "                                                &#x27;first&#x27;, &#x27;becomes&#x27;, &#x27;others&#x27;,\n",
       "                                                &#x27;nbsp&#x27;, &#x27;whether&#x27;, &#x27;much&#x27;,\n",
       "                                                &#x27;really&#x27;, &#x27;often&#x27;, &#x27;everything&#x27;,\n",
       "                                                &#x27;below&#x27;, &#x27;noone&#x27;, &#x27;sixty&#x27;,\n",
       "                                                &#x27;former&#x27;, &#x27;whose&#x27;, &#x27;but&#x27;, &#x27;per&#x27;,\n",
       "                                                &#x27;thereupon&#x27;, &#x27;detail&#x27;, &#x27;most&#x27;,\n",
       "                                                &#x27;please&#x27;, ...]],\n",
       "                         &#x27;nb__alpha&#x27;: [0.1, 0.5, 1.0, 2.0]})</pre><b>In a Jupyter environment, please rerun this cell to show the HTML representation or trust the notebook. <br />On GitHub, the HTML representation is unable to render, please try loading this page with nbviewer.org.</b></div><div class=\"sk-container\" hidden><div class=\"sk-item sk-dashed-wrapped\"><div class=\"sk-label-container\"><div class=\"sk-label sk-toggleable\"><input class=\"sk-toggleable__control sk-hidden--visually\" id=\"sk-estimator-id-73\" type=\"checkbox\" ><label for=\"sk-estimator-id-73\" class=\"sk-toggleable__label sk-toggleable__label-arrow\">GridSearchCV</label><div class=\"sk-toggleable__content\"><pre>GridSearchCV(estimator=Pipeline(steps=[(&#x27;cvect&#x27;,\n",
       "                                        CountVectorizer(stop_words=[&#x27;further&#x27;,\n",
       "                                                                    &#x27;move&#x27;,\n",
       "                                                                    &#x27;many&#x27;,\n",
       "                                                                    &#x27;he&#x27;,\n",
       "                                                                    &#x27;bodybuilder&#x27;,\n",
       "                                                                    &#x27;enough&#x27;,\n",
       "                                                                    &#x27;at&#x27;,\n",
       "                                                                    &#x27;even&#x27;,\n",
       "                                                                    &#x27;latterly&#x27;,\n",
       "                                                                    &#x27;once&#x27;,\n",
       "                                                                    &#x27;first&#x27;,\n",
       "                                                                    &#x27;becomes&#x27;,\n",
       "                                                                    &#x27;others&#x27;,\n",
       "                                                                    &#x27;nbsp&#x27;,\n",
       "                                                                    &#x27;whether&#x27;,\n",
       "                                                                    &#x27;much&#x27;,\n",
       "                                                                    &#x27;really&#x27;,\n",
       "                                                                    &#x27;often&#x27;,\n",
       "                                                                    &#x27;everything&#x27;,\n",
       "                                                                    &#x27;below&#x27;,\n",
       "                                                                    &#x27;noone&#x27;,\n",
       "                                                                    &#x27;sixty&#x27;,\n",
       "                                                                    &#x27;former&#x27;,\n",
       "                                                                    &#x27;whose&#x27;,\n",
       "                                                                    &#x27;but&#x27;,\n",
       "                                                                    &#x27;per&#x27;,\n",
       "                                                                    &#x27;thereupon&#x27;,\n",
       "                                                                    &#x27;detail&#x27;,\n",
       "                                                                    &#x27;most&#x27;,\n",
       "                                                                    &#x27;please&#x27;, ...])),\n",
       "                                       (&#x27;nb&#x27;, Multinom...\n",
       "                         &#x27;cvect__ngram_range&#x27;: [(1, 1), (1, 2), (1, 3)],\n",
       "                         &#x27;cvect__stop_words&#x27;: [None, &#x27;english&#x27;,\n",
       "                                               [&#x27;further&#x27;, &#x27;move&#x27;, &#x27;many&#x27;, &#x27;he&#x27;,\n",
       "                                                &#x27;bodybuilder&#x27;, &#x27;enough&#x27;, &#x27;at&#x27;,\n",
       "                                                &#x27;even&#x27;, &#x27;latterly&#x27;, &#x27;once&#x27;,\n",
       "                                                &#x27;first&#x27;, &#x27;becomes&#x27;, &#x27;others&#x27;,\n",
       "                                                &#x27;nbsp&#x27;, &#x27;whether&#x27;, &#x27;much&#x27;,\n",
       "                                                &#x27;really&#x27;, &#x27;often&#x27;, &#x27;everything&#x27;,\n",
       "                                                &#x27;below&#x27;, &#x27;noone&#x27;, &#x27;sixty&#x27;,\n",
       "                                                &#x27;former&#x27;, &#x27;whose&#x27;, &#x27;but&#x27;, &#x27;per&#x27;,\n",
       "                                                &#x27;thereupon&#x27;, &#x27;detail&#x27;, &#x27;most&#x27;,\n",
       "                                                &#x27;please&#x27;, ...]],\n",
       "                         &#x27;nb__alpha&#x27;: [0.1, 0.5, 1.0, 2.0]})</pre></div></div></div><div class=\"sk-parallel\"><div class=\"sk-parallel-item\"><div class=\"sk-item\"><div class=\"sk-label-container\"><div class=\"sk-label sk-toggleable\"><input class=\"sk-toggleable__control sk-hidden--visually\" id=\"sk-estimator-id-74\" type=\"checkbox\" ><label for=\"sk-estimator-id-74\" class=\"sk-toggleable__label sk-toggleable__label-arrow\">estimator: Pipeline</label><div class=\"sk-toggleable__content\"><pre>Pipeline(steps=[(&#x27;cvect&#x27;,\n",
       "                 CountVectorizer(stop_words=[&#x27;further&#x27;, &#x27;move&#x27;, &#x27;many&#x27;, &#x27;he&#x27;,\n",
       "                                             &#x27;bodybuilder&#x27;, &#x27;enough&#x27;, &#x27;at&#x27;,\n",
       "                                             &#x27;even&#x27;, &#x27;latterly&#x27;, &#x27;once&#x27;,\n",
       "                                             &#x27;first&#x27;, &#x27;becomes&#x27;, &#x27;others&#x27;,\n",
       "                                             &#x27;nbsp&#x27;, &#x27;whether&#x27;, &#x27;much&#x27;,\n",
       "                                             &#x27;really&#x27;, &#x27;often&#x27;, &#x27;everything&#x27;,\n",
       "                                             &#x27;below&#x27;, &#x27;noone&#x27;, &#x27;sixty&#x27;,\n",
       "                                             &#x27;former&#x27;, &#x27;whose&#x27;, &#x27;but&#x27;, &#x27;per&#x27;,\n",
       "                                             &#x27;thereupon&#x27;, &#x27;detail&#x27;, &#x27;most&#x27;,\n",
       "                                             &#x27;please&#x27;, ...])),\n",
       "                (&#x27;nb&#x27;, MultinomialNB())])</pre></div></div></div><div class=\"sk-serial\"><div class=\"sk-item\"><div class=\"sk-serial\"><div class=\"sk-item\"><div class=\"sk-estimator sk-toggleable\"><input class=\"sk-toggleable__control sk-hidden--visually\" id=\"sk-estimator-id-75\" type=\"checkbox\" ><label for=\"sk-estimator-id-75\" class=\"sk-toggleable__label sk-toggleable__label-arrow\">CountVectorizer</label><div class=\"sk-toggleable__content\"><pre>CountVectorizer(stop_words=[&#x27;further&#x27;, &#x27;move&#x27;, &#x27;many&#x27;, &#x27;he&#x27;, &#x27;bodybuilder&#x27;,\n",
       "                            &#x27;enough&#x27;, &#x27;at&#x27;, &#x27;even&#x27;, &#x27;latterly&#x27;, &#x27;once&#x27;, &#x27;first&#x27;,\n",
       "                            &#x27;becomes&#x27;, &#x27;others&#x27;, &#x27;nbsp&#x27;, &#x27;whether&#x27;, &#x27;much&#x27;,\n",
       "                            &#x27;really&#x27;, &#x27;often&#x27;, &#x27;everything&#x27;, &#x27;below&#x27;, &#x27;noone&#x27;,\n",
       "                            &#x27;sixty&#x27;, &#x27;former&#x27;, &#x27;whose&#x27;, &#x27;but&#x27;, &#x27;per&#x27;,\n",
       "                            &#x27;thereupon&#x27;, &#x27;detail&#x27;, &#x27;most&#x27;, &#x27;please&#x27;, ...])</pre></div></div></div><div class=\"sk-item\"><div class=\"sk-estimator sk-toggleable\"><input class=\"sk-toggleable__control sk-hidden--visually\" id=\"sk-estimator-id-76\" type=\"checkbox\" ><label for=\"sk-estimator-id-76\" class=\"sk-toggleable__label sk-toggleable__label-arrow\">MultinomialNB</label><div class=\"sk-toggleable__content\"><pre>MultinomialNB()</pre></div></div></div></div></div></div></div></div></div></div></div></div>"
      ],
      "text/plain": [
       "GridSearchCV(estimator=Pipeline(steps=[('cvect',\n",
       "                                        CountVectorizer(stop_words=['further',\n",
       "                                                                    'move',\n",
       "                                                                    'many',\n",
       "                                                                    'he',\n",
       "                                                                    'bodybuilder',\n",
       "                                                                    'enough',\n",
       "                                                                    'at',\n",
       "                                                                    'even',\n",
       "                                                                    'latterly',\n",
       "                                                                    'once',\n",
       "                                                                    'first',\n",
       "                                                                    'becomes',\n",
       "                                                                    'others',\n",
       "                                                                    'nbsp',\n",
       "                                                                    'whether',\n",
       "                                                                    'much',\n",
       "                                                                    'really',\n",
       "                                                                    'often',\n",
       "                                                                    'everything',\n",
       "                                                                    'below',\n",
       "                                                                    'noone',\n",
       "                                                                    'sixty',\n",
       "                                                                    'former',\n",
       "                                                                    'whose',\n",
       "                                                                    'but',\n",
       "                                                                    'per',\n",
       "                                                                    'thereupon',\n",
       "                                                                    'detail',\n",
       "                                                                    'most',\n",
       "                                                                    'please', ...])),\n",
       "                                       ('nb', Multinom...\n",
       "                         'cvect__ngram_range': [(1, 1), (1, 2), (1, 3)],\n",
       "                         'cvect__stop_words': [None, 'english',\n",
       "                                               ['further', 'move', 'many', 'he',\n",
       "                                                'bodybuilder', 'enough', 'at',\n",
       "                                                'even', 'latterly', 'once',\n",
       "                                                'first', 'becomes', 'others',\n",
       "                                                'nbsp', 'whether', 'much',\n",
       "                                                'really', 'often', 'everything',\n",
       "                                                'below', 'noone', 'sixty',\n",
       "                                                'former', 'whose', 'but', 'per',\n",
       "                                                'thereupon', 'detail', 'most',\n",
       "                                                'please', ...]],\n",
       "                         'nb__alpha': [0.1, 0.5, 1.0, 2.0]})"
      ]
     },
     "execution_count": 101,
     "metadata": {},
     "output_type": "execute_result"
    }
   ],
   "source": [
    "grid_search.fit(X_train, y_train)"
   ]
  },
  {
   "cell_type": "code",
   "execution_count": 102,
   "id": "d3de8639-7d07-4d67-a6e6-e82cff86e8ff",
   "metadata": {},
   "outputs": [
    {
     "data": {
      "text/plain": [
       "{'cvect__max_features': 5000,\n",
       " 'cvect__ngram_range': (1, 2),\n",
       " 'cvect__stop_words': 'english',\n",
       " 'nb__alpha': 0.5}"
      ]
     },
     "execution_count": 102,
     "metadata": {},
     "output_type": "execute_result"
    }
   ],
   "source": [
    "grid_search.best_params_"
   ]
  },
  {
   "cell_type": "code",
   "execution_count": 103,
   "id": "164c23cd-f255-48ab-9b9a-1383e79945da",
   "metadata": {},
   "outputs": [
    {
     "data": {
      "text/plain": [
       "0.967964824120603"
      ]
     },
     "execution_count": 103,
     "metadata": {},
     "output_type": "execute_result"
    }
   ],
   "source": [
    "grid_search.score(X_train, y_train)"
   ]
  },
  {
   "cell_type": "code",
   "execution_count": 104,
   "id": "9f1d7c7f-1f94-4d70-9098-f93ef360e5f8",
   "metadata": {},
   "outputs": [
    {
     "data": {
      "text/plain": [
       "0.9045226130653267"
      ]
     },
     "execution_count": 104,
     "metadata": {},
     "output_type": "execute_result"
    }
   ],
   "source": [
    "grid_search.score(X_test, y_test)"
   ]
  },
  {
   "cell_type": "code",
   "execution_count": null,
   "id": "660ed2ed-b0a9-4f27-bd21-78dab6a0b3cb",
   "metadata": {},
   "outputs": [],
   "source": []
  }
 ],
 "metadata": {
  "kernelspec": {
   "display_name": "Python 3 (ipykernel)",
   "language": "python",
   "name": "python3"
  },
  "language_info": {
   "codemirror_mode": {
    "name": "ipython",
    "version": 3
   },
   "file_extension": ".py",
   "mimetype": "text/x-python",
   "name": "python",
   "nbconvert_exporter": "python",
   "pygments_lexer": "ipython3",
   "version": "3.11.9"
  }
 },
 "nbformat": 4,
 "nbformat_minor": 5
}
